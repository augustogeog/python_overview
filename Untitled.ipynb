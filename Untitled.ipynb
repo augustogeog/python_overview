{
 "cells": [
  {
   "cell_type": "code",
   "execution_count": 1,
   "metadata": {
    "ExecuteTime": {
     "end_time": "2020-09-05T16:45:25.303616Z",
     "start_time": "2020-09-05T16:45:25.290058Z"
    }
   },
   "outputs": [
    {
     "data": {
      "text/plain": [
       "20"
      ]
     },
     "execution_count": 1,
     "metadata": {},
     "output_type": "execute_result"
    }
   ],
   "source": [
    "# Este texto após sustenido não é executado como código, pois se trata de um comentário ao código.\n",
    "# Este é um exemplo célula de código ativa, em modo de edição (note a aba margem verde à esquerda).\n",
    "# esta célula já foi executada anteriormente, como se pode ver pelo número de ordem de execução à esquerda [1].\n",
    "# abaixo, a operação 10+10 é realizada em Python (note o resultado na área de saída da célula, demarcada por Out[]:)\n",
    "\n",
    "\n",
    "10 + 10"
   ]
  },
  {
   "cell_type": "code",
   "execution_count": null,
   "metadata": {},
   "outputs": [],
   "source": [
    "# célula de código em modo de seleção\n",
    "\n"
   ]
  }
 ],
 "metadata": {
  "kernelspec": {
   "display_name": "aulas",
   "language": "python",
   "name": "aulas"
  },
  "language_info": {
   "codemirror_mode": {
    "name": "ipython",
    "version": 3
   },
   "file_extension": ".py",
   "mimetype": "text/x-python",
   "name": "python",
   "nbconvert_exporter": "python",
   "pygments_lexer": "ipython3",
   "version": "3.6.10"
  },
  "toc": {
   "base_numbering": 1,
   "nav_menu": {},
   "number_sections": true,
   "sideBar": true,
   "skip_h1_title": false,
   "title_cell": "Table of Contents",
   "title_sidebar": "Contents",
   "toc_cell": false,
   "toc_position": {},
   "toc_section_display": true,
   "toc_window_display": false
  }
 },
 "nbformat": 4,
 "nbformat_minor": 4
}
