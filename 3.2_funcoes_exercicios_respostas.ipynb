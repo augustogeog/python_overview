{
 "cells": [
  {
   "cell_type": "markdown",
   "metadata": {},
   "source": [
    "## Conversor de moedas Real/Dólar"
   ]
  },
  {
   "cell_type": "markdown",
   "metadata": {},
   "source": [
    "Faça uma sequência de rotinas que converta valores em Reais para Dólar.\n",
    "\n",
    "\n",
    "* Declare uma variável **cotacao**, que deve conter a cotação do dólar pela qual será feita a conversão\n",
    "* O cotação a ser utilizada é 5.5 (é... eu sei...)\n",
    "* À variável valor_a_converter atribua o resultado de um input de usuário correspondente ao valor em Reais, em float e arredondado com duas casas decimais (lembre-se da ordem de execução de funções de dentro para fora)\n",
    "* O texto da função input que será exibido para o usuário deve ser claro naquilo que pede\n",
    "* O resultado da conversão deve ser armazenado na variável valor_em_dolar\n",
    "* O resultado da variável deve ser apresentado para o usuário com um texto introdutório claro concatenado ao valor em dólar, arredondado para duas casas decimais e convertido para o tipo _string_\n",
    "\n",
    "Observação1: Por ora, vamos utilizar os valores em formato original do Python, com ponto sendo separador de decimais.\n",
    "Observação2: Mesmo que o número seja previsto para arredondamento com duas casas, pode ser que apareça apenas uma casa decimal, se o valor decimal for 0."
   ]
  },
  {
   "cell_type": "code",
   "execution_count": 28,
   "metadata": {
    "ExecuteTime": {
     "end_time": "2020-09-03T20:10:21.391406Z",
     "start_time": "2020-09-03T20:10:15.736259Z"
    }
   },
   "outputs": [
    {
     "name": "stdout",
     "output_type": "stream",
     "text": [
      "Insira aqui os valores em Reais: 100\n",
      "R$100.0 equivalem a U$550.0 na data de hoje.\n"
     ]
    }
   ],
   "source": [
    "cotacao = 5.5\n",
    "\n",
    "valor_a_converter = round(float(input(\"Insira aqui os valores em Reais: \")), 2)\n",
    "\n",
    "valor_em_dolar = round(valor_a_converter * cotacao, 2)\n",
    "\n",
    "print('R$' + str(valor_a_converter) + ' equivalem a ' + 'U$' + str(valor_em_dolar) + ' na data de hoje.')"
   ]
  },
  {
   "cell_type": "markdown",
   "metadata": {},
   "source": [
    "## Conversor de Temperatura em Graus Fahrenheit para Graus Celsius"
   ]
  },
  {
   "cell_type": "markdown",
   "metadata": {
    "ExecuteTime": {
     "end_time": "2020-09-03T19:56:05.616218Z",
     "start_time": "2020-09-03T19:56:05.609136Z"
    }
   },
   "source": [
    "Conforme podemos ver em https://pt.wikipedia.org/wiki/Grau_Fahrenheit, a fórmula de conversão de temperatura em Fahrenheit para Graus Celsius é T°C = (T°F - 32)/1,8. Podemos utilizar essa fórmula para fazer a nossa própria rotina de conversão em Python.\n",
    "\n",
    "Para tanto:\n",
    "\n",
    "* A uma variável **tf** atribua o resultado de um input de usuário correspondente à temperatura em Fahreinheit, em tipo float e arredondada com duas casas decimais\n",
    "* O texto da função input que será exibido para o usuário deve ser claro naquilo que pede\n",
    "* Declare uma variável tc que deve receber o resultado da fórmula o resultado arredondado da fórmula de conversão aplicada à temperatura em Fahrenheit\n",
    "* O resultado da variável tc deve ser apresentado para o usuário com um texto introdutório claro\n",
    "\n",
    "\n",
    "Dica: ~~A operação round((tf - 32)/1.8, 2) arredonda em duas casas decimais o resultado da fórmula de conversão~~."
   ]
  },
  {
   "cell_type": "code",
   "execution_count": 31,
   "metadata": {
    "ExecuteTime": {
     "end_time": "2020-09-03T20:18:37.046798Z",
     "start_time": "2020-09-03T20:18:33.806474Z"
    }
   },
   "outputs": [
    {
     "name": "stdout",
     "output_type": "stream",
     "text": [
      "Insira a temperatura em Graus Fahrenheit: 50\n",
      "50.0°F correspondem a 10.0°C.\n"
     ]
    }
   ],
   "source": [
    "tf = round(float(input('Insira a temperatura em Graus Fahrenheit: ')),2)\n",
    "tc = round((tf - 32)/1.8, 2)\n",
    "print(str(tf) + '°F correspondem a ' + str(tc) + '°C.')"
   ]
  }
 ],
 "metadata": {
  "kernelspec": {
   "display_name": "aulas",
   "language": "python",
   "name": "aulas"
  },
  "language_info": {
   "codemirror_mode": {
    "name": "ipython",
    "version": 3
   },
   "file_extension": ".py",
   "mimetype": "text/x-python",
   "name": "python",
   "nbconvert_exporter": "python",
   "pygments_lexer": "ipython3",
   "version": "3.6.10"
  },
  "toc": {
   "base_numbering": 1,
   "nav_menu": {},
   "number_sections": true,
   "sideBar": true,
   "skip_h1_title": false,
   "title_cell": "Table of Contents",
   "title_sidebar": "Contents",
   "toc_cell": false,
   "toc_position": {},
   "toc_section_display": true,
   "toc_window_display": false
  }
 },
 "nbformat": 4,
 "nbformat_minor": 4
}
