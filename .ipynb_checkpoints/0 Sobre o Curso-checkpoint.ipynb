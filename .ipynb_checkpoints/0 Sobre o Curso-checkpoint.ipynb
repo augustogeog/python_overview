{
 "cells": [
  {
   "cell_type": "markdown",
   "metadata": {},
   "source": [
    "## Para início de conversa"
   ]
  },
  {
   "cell_type": "markdown",
   "metadata": {},
   "source": [
    "O que, como, porque, quando, onde\n",
    "\n",
    "* O tema do curso (o quê) Python\n",
    "    * Linguagemm de Programação para customização de nossa interação com o computador \n",
    "    * \n",
    "* A importância que Python tem tido crescentemente Porqu\n",
    "    * (as aplicações do Python)\n",
    "    * Uma das linguagemms\n",
    "* Como\n",
    "    * Destacar as etapas em vídeo, em texto e ao vivo\n",
    "    * Destacar o uso do Jupyter Notebook\n",
    "        * Colocar um vídeo para uma explicação breve sobre como utilizar o Jupyter \n",
    "    * Falar sobre o uso primeiro de ambiente na nuvem, para depois utilizar na nossa própria máquina.\n",
    "        * fazer uma ressalva que esse tipo de ambiente de programação é bom para introdução de conceitos e para exploração de diversas aplicações (uso como relatório, método de divulgação cientítifca etc.). No entanto, é preciso se ter em mente que não é o ambiente para deployment de aplicações. Nesse sentido, temos que estar abertos para conhecer, no futuro, outros ambientes de programação, como editores de texto e IDEs.\n",
    "* \n",
    "\n",
    "Falar para quem é o curso\n",
    "Qual"
   ]
  },
  {
   "cell_type": "markdown",
   "metadata": {},
   "source": [
    "Para início de conversa, precisamos nos familiarizar com esse ambiente interativo em que a parte textual e prática de nosso curso"
   ]
  },
  {
   "cell_type": "code",
   "execution_count": null,
   "metadata": {},
   "outputs": [],
   "source": []
  },
  {
   "cell_type": "markdown",
   "metadata": {},
   "source": [
    "## Isso aqui é um título\n",
    "\n",
    "Isso aqui é um texto com um **trecho em negrito**.\n",
    "\n",
    "_italico_\n",
    "\n",
    "1+ 1"
   ]
  },
  {
   "cell_type": "code",
   "execution_count": 2,
   "metadata": {
    "ExecuteTime": {
     "end_time": "2020-09-02T22:03:20.727648Z",
     "start_time": "2020-09-02T22:03:20.721633Z"
    }
   },
   "outputs": [
    {
     "data": {
      "text/plain": [
       "2"
      ]
     },
     "execution_count": 2,
     "metadata": {},
     "output_type": "execute_result"
    }
   ],
   "source": [
    "1 + 1 "
   ]
  },
  {
   "cell_type": "code",
   "execution_count": 3,
   "metadata": {
    "ExecuteTime": {
     "end_time": "2020-09-02T22:03:30.889462Z",
     "start_time": "2020-09-02T22:03:30.884501Z"
    }
   },
   "outputs": [
    {
     "data": {
      "text/plain": [
       "9"
      ]
     },
     "execution_count": 3,
     "metadata": {},
     "output_type": "execute_result"
    }
   ],
   "source": [
    "3 * 3"
   ]
  },
  {
   "cell_type": "markdown",
   "metadata": {},
   "source": []
  },
  {
   "cell_type": "markdown",
   "metadata": {},
   "source": [
    "## Sobre a abordagem didática e a estrutura do curso"
   ]
  },
  {
   "cell_type": "markdown",
   "metadata": {},
   "source": [
    "Existem várias abordagens para o aprendizado de linguagens da programação. Os cursos elaborados po desenvolvedores, que são muito voltados para a solução de problemas, procuram utilizar projetos como pontos de partida. Assim, conforme raciocinamos sobre como poderíamos resolver a questão, certos conceitos de programação e particularidades do funcionamento da linguagem Python são introduzidos.\n",
    "Essa abordagem é ótima e deve ser encarada por iniciantes para desenvolver essa inclinação para solução de problemas, que é, na verdade, a finalidade do aprendizado de uma linguagem de programação. No entanto, o custo dessa abordagem para alguém muito no início do aprendizado, é uma sensação de certa alienação em relação a uma visão geral da linguagem, com sua estrutura, funcionamento e principais ferramentas. Ao aprender cada ferramenta conforme surge a necessidade em um projeto - no início do aprendizado, porque, na realidade, esse tipod de aprendizado jamais acaba -, não é raro que não tenhamos uma ideia da trajetória, de uma proporção de aprendizado em relação a um objetivo de conhecimento em um intervalo de tempo. A rigor, não sabemos quanto de Python aprendemos. Sabemos fazer soluções com o que sabemos, o que é ótimo, mas resta a dúvida sobre o grau desse aprendizado.\n",
    "\n",
    "Por outro lado, um aprendizado procedimental, em se trate do conjunto de ferramentas em Python, segundo certas categorias (tipos de dados, tipos de operações, tipos de circunstâncias etc.) tem a vantagem de criar uma visão geral da tecnologia, de dar uma ideia de quanto de avanço quotidiano temos em termos da operacionalização básica da linguagem. Isso ajuda na escolha consciente de quais pontos queremos aprender a fundo e quais pontos podemos deixar para depois. \n",
    "Outra vantagem é que existe um componente emocional no aprendizado que não pode ser ignorado. As dúvidas se avolumam. Será que vamos aprender? Será que conseguiremos utilizar a ferramenta? Aprendemos o suficiente? Ao se ter uma visão geral das ferramentas, podemos fazer uma melhor gestão dessas incertezas, de forma a conseguir uma confiança que nos faça mais confortáveis e abertos para o aprendizado. É a partir daí que podemos nos dizer, conscientemente coisas como: \"são 68 funções nativas em Python, mas algumas raramente são utilizadas, enquanto outras são muito mais frequentes, logo vou aprender mais a fundo essas funções mais frequentes e jamais ficar ansioso por não saber exatamente cada uma delas\"; \"Python tem dois tipos básicos de dados, simples e compostos, eu tenho uma base sobre as principais características desses principais tipos e agora consigo ser autônomo para buscar auxílio _on-line_, quando precisar implementar um detalhe desses objetos que ainda não estudei\".\n",
    "\n",
    "Outra vantagem dessa abordagem é que, para aqueles bem iniciantes, que já têm algum contato com ferramentas como Microsoft Excel, encaminhamento de soluções já aparece no seu quotidiano, o que falta é uma visão geral da linguagem da programação que use esse conhecimento prévio de planilhas (tipos de dados, fórmulas etc.) como ponto comum para mais fácil apreensão da linguagem.\n",
    "\n",
    "A enorme desvantagem dessa abordagem, no entanto, é que ela é bastante insuficiente para apresentar, de fato, a aplicação dessas ferramentas, conjuntamente, na forma dde soluções para problemas. Existe um certo\n",
    "\n",
    "Nesta sequência de conversas que teremos por aulas adiante, o que tentaremos fazer é mitigar essas duas situações, de forma que maximizemos essas vantagens e minimizemos essas desvantagens de cada uma das abordagens ao tentar utilizar ambas. Assim, o curso está estruturado em duas partes, na primeira, tentamos passar uma visão geral do Python. Para tanto, partimos de uma classificação em seis categorias de ferramentas da linguagem, que, se não engloba tudo que se deve saber, dá conta de apresentar mais de 90% de seus componentes com os quais interagimos e sobre os quais aprenderemos não só nesse curso, mas em toda nossa trajetória de aprendizado, com nossas aplicações práticas, erros e acertos, novos livros, cursos, projetos, palestras, conversas em um café (pode chamar!) etc. \n",
    "\n",
    "Nessa primeira parte falamos dessas seis categorias e tratamos com algum detalhe das três primeiras (dados, ações e circunstãncias). As três últimas são apresentadas de forma a que as reconheçamos, mas sem grande exploração prática, garantindo alguma familiaridade que nos permita avançar sobre elas futuramente e não nos sentir profundamente deslocados se forem referenciadas em qualquer fonte que consultarmos.\n",
    "\n",
    "\n",
    "Ao final dos três primeiros tópicos, já contamos com uma visão suficientemente ampla sobre ferramentas básicas para explorar mais as suas aplicações em soluções de problemas. \n",
    "\n",
    "\n",
    "\n",
    "\n",
    "***PRECISO DECIDIR SE FAÇO UM CURSO EM DUAS PARTES, OU SE FAÇO O CURSO SEGUINDO AS SEIS CATEGORIAS, EM CADA UMA DELAS CRIO NOTEBOOKS COM DESAFIOS PARA APLICAÇÃO**\n",
    "\n",
    "\n",
    "Em seguida\n",
    "\n",
    "\n",
    "Na segunda parte, buscamos apresentar m\n",
    "\n",
    "Tendo em vista que as duas abordagens apresentam suas\n",
    "\n",
    "para tratar das especificidades dessas categorias, "
   ]
  },
  {
   "cell_type": "code",
   "execution_count": null,
   "metadata": {},
   "outputs": [],
   "source": []
  },
  {
   "cell_type": "code",
   "execution_count": null,
   "metadata": {},
   "outputs": [],
   "source": []
  },
  {
   "cell_type": "code",
   "execution_count": null,
   "metadata": {},
   "outputs": [],
   "source": []
  }
 ],
 "metadata": {
  "kernelspec": {
   "display_name": "aulas",
   "language": "python",
   "name": "aulas"
  },
  "language_info": {
   "codemirror_mode": {
    "name": "ipython",
    "version": 3
   },
   "file_extension": ".py",
   "mimetype": "text/x-python",
   "name": "python",
   "nbconvert_exporter": "python",
   "pygments_lexer": "ipython3",
   "version": "3.6.10"
  },
  "toc": {
   "base_numbering": 1,
   "nav_menu": {},
   "number_sections": true,
   "sideBar": true,
   "skip_h1_title": true,
   "title_cell": "Table of Contents",
   "title_sidebar": "Contents",
   "toc_cell": false,
   "toc_position": {},
   "toc_section_display": true,
   "toc_window_display": true
  }
 },
 "nbformat": 4,
 "nbformat_minor": 4
}
