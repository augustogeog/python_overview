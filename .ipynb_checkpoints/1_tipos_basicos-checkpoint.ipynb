{
 "cells": [
  {
   "cell_type": "code",
   "execution_count": 5,
   "metadata": {
    "ExecuteTime": {
     "end_time": "2020-08-04T00:57:21.390442Z",
     "start_time": "2020-08-04T00:57:21.384458Z"
    }
   },
   "outputs": [
    {
     "name": "stdout",
     "output_type": "stream",
     "text": [
      "Versão do Python:  3.6.10\n"
     ]
    }
   ],
   "source": [
    "from platform import python_version\n",
    "print(\"Versão do Python: \", python_version())"
   ]
  },
  {
   "cell_type": "markdown",
   "metadata": {
    "heading_collapsed": true
   },
   "source": [
    "## Visão Geral dos Tipos Nativos em Python\n",
    "\n",
    "Os tipos nativos, são as categorias de objetos que estão disponíveis para o desenvolvedor a partir da instalação básica do Python, sem qualquer adição de novos pacotes.\n",
    "\n",
    "Os tipos básicos podem ser simples ou compostos.\n",
    "\n",
    "Tipos simples são objetos unitários, com apenas um valor armazenado em um endereço único na memória.\n",
    "\n",
    "Tipos compostos são coleções formadas por outros objetos, sejam objetos unitários, ou mesmo outros objetos compostos. Trata-se de objetos que ocupam diversos endereços na memória e que são organizados de forma a que possamos acessar os diversos valores neles contidos.\n",
    "\n",
    "* **Simples**\n",
    "    * **Integers** (números inteiros, ou int)\n",
    "        * 1    20    123    9    55555 <br><br>\n",
    "    * **Floats** (números decimais, ou float point number)\n",
    "        * 1.0   20.0  123.0000000   9.0  55555.000   3.333333333333333   66.66666666666 <br><br>\n",
    "    * **Booleans**  (boleanos, ou bool, valores lógicos Verdadeiro e Falso)\n",
    "        * True False\n",
    "        * Em operações matemáticas, True recebe o valor 1, enquanto False recebe o valor zero <br><br>\n",
    "    * **None** (Valor Nulo. Não confundir com 0, ou vazio. Trata-se de um valor com suas propriedades específicas)\n",
    "    \n",
    "<br>\n",
    "\n",
    "* **Compostos**\n",
    "    * **Strings** (str, ou cadeia de caracteres, são coleções imutáveis de caracteres delimitadas por aspas duplas ou simples)\n",
    "        * \"abcd\", \"Isto é uma string\", \"Cada uma das letras desta string é salva em um lugar distinto da memória\"\n",
    "        * \"True e False dentro de uma string não têm valor lógico, pois são uma mera coleção de caracteres\"\n",
    "        * '1 + 1 dentro de uma string não gera resultado, pois são meros caracteres sem valor matemático\"\n",
    "        * os valores de uma string são acessíveis por índice posicional (indexação), com primeiro elemento contado a partir do número zero. <br><br> \n",
    "    * **Lists** (Listas são coleções de objetos separados por vírgulas e delimitados por chaves \\[ \\] \\, podendo receber, ao mesmo tempo, valores de diversos tipos, inclusive compostos)  \n",
    "        * [1, 2, 'três', 'quatro'], [['uma string contida dentro de uma lista que está contida em outra'], [1,2,3,4]]  <br><br>   \n",
    "    * **Tuples** (tuplas são coleções imutável de objetos separados por vírgulas, delimitados por parênteses e acessíveis por índice posicional. Os valores são acessíveis a partir das suas respectivas chaves.\n",
    "        * (100, 1000, 10000)  <br><br>\n",
    "    * **Dictionaires** (dicionários, ou dict, são coleção de pares chave-valor (key:value). Os pares são separados entre si por vírgulas e as coleções são delimitadas por colchetes {}. As chaves devem ser imutáveis, enquanto os valores podem ser quaisquer tipos de objetos, mesmo compostos, inclusive outros dicionários.\n",
    "        * {a:1, b:2, c:3}\n",
    "        * {\"primeira lista\":[1,2,3,4], \"segunda lista\":[5,6,7,8], \"primeiro dicionário\": {a:1, b:2, c:3}} <br><br>\n",
    "    * **Sets** (conjuntos são coleções de objetos separados por vírgulas e delimitados por colchetes, que não admitem duplicidade de valores internos)\n",
    "        * {1, 2, 3, 4, ~~1~~}\n",
    "        * embora também sejam delimitados por colchetes, não há como confundir os sets com os dicionários, pois dicionários, em seu interior, apresentam pares key:value.\n",
    "        * os valores inseridos duplicadamente em um set são automaticamente ignorados\n",
    "        * os valores em um set não são acessíveis por índice posicional. É preciso iterar pelo conjunto para acessar seus valores, um-a-um.\n",
    "        "
   ]
  },
  {
   "attachments": {},
   "cell_type": "markdown",
   "metadata": {
    "hidden": true
   },
   "source": [
    "Agora vamos começar a fazer algumas operações básicas com esses tipos, mas antes precisamos nos manter dentro de preceitos milenares. Como tradição, aqueles que querem ser iniciados, que querem compreender os segredos dos códigos e da fé, devem escrever um primeiro programa que convoque a CPU para trazer sua mensagem de saudação ao mundo:\n",
    "\n",
    "Assim, escreva na célula abaixo: print(mensagem)\n",
    "\n",
    "Para encerrar o ritual, com a célula ativada, pressione shift+Enter, ou clique no botão Run, na barra de comandos acima."
   ]
  },
  {
   "cell_type": "code",
   "execution_count": 58,
   "metadata": {
    "ExecuteTime": {
     "end_time": "2020-08-04T13:26:33.104523Z",
     "start_time": "2020-08-04T13:26:33.088902Z"
    },
    "hidden": true
   },
   "outputs": [
    {
     "name": "stdout",
     "output_type": "stream",
     "text": [
      "Hello World!\n"
     ]
    }
   ],
   "source": [
    "mensagem = 'Hello World!'\n",
    "\n",
    "print(mensagem)"
   ]
  },
  {
   "cell_type": "markdown",
   "metadata": {},
   "source": [
    "## Tipos Simples"
   ]
  },
  {
   "cell_type": "markdown",
   "metadata": {},
   "source": [
    "### Verificando os tipos de objetos simples\n",
    "\n",
    "Observe os comandos abaixo. Eles indicam que o tipo - type - do valor nos parênteses internos devem ser apresentados na tela - print.\n",
    "\n",
    "```Python\n",
    "print(type(1))\n",
    "print(type(1.))\n",
    "print(type('1'))\n",
    "print(type(True))\n",
    "print(type(None))\n",
    "```\n",
    "\n",
    "Na célula abaixo, preencha os valores faltantes conforme o exemplo acima. Em seguida, pressione shift+Enter para ver o resultado."
   ]
  },
  {
   "cell_type": "code",
   "execution_count": null,
   "metadata": {
    "ExecuteTime": {
     "end_time": "2020-08-04T02:11:00.354773Z",
     "start_time": "2020-08-04T02:11:00.344800Z"
    }
   },
   "outputs": [],
   "source": [
    "print(type( ))"
   ]
  },
  {
   "cell_type": "code",
   "execution_count": null,
   "metadata": {
    "ExecuteTime": {
     "end_time": "2020-08-04T02:11:00.354773Z",
     "start_time": "2020-08-04T02:11:00.344800Z"
    }
   },
   "outputs": [],
   "source": [
    "print(type( ))"
   ]
  },
  {
   "cell_type": "code",
   "execution_count": null,
   "metadata": {
    "ExecuteTime": {
     "end_time": "2020-08-04T02:11:00.354773Z",
     "start_time": "2020-08-04T02:11:00.344800Z"
    }
   },
   "outputs": [],
   "source": [
    "print(type( ))"
   ]
  },
  {
   "cell_type": "code",
   "execution_count": null,
   "metadata": {
    "ExecuteTime": {
     "end_time": "2020-08-04T02:11:00.354773Z",
     "start_time": "2020-08-04T02:11:00.344800Z"
    }
   },
   "outputs": [],
   "source": [
    "print(type( ))"
   ]
  },
  {
   "cell_type": "code",
   "execution_count": null,
   "metadata": {
    "ExecuteTime": {
     "end_time": "2020-08-04T02:11:00.354773Z",
     "start_time": "2020-08-04T02:11:00.344800Z"
    }
   },
   "outputs": [],
   "source": [
    "print(type( ))"
   ]
  },
  {
   "cell_type": "markdown",
   "metadata": {},
   "source": [
    "### Atribuição de valores a variáveis\n",
    "\n",
    "Os diferentes valores acima não foram armazenados, de forma que possam ser consultados posteriormente. Para armazenar os valores, nós utilizamos variáveis. \n",
    "\n",
    "Um valor é atribuído a uma variável a partir do operador =, segundo o modelo var = val, em que var é a variável e val é o valor a ser armazenado."
   ]
  },
  {
   "cell_type": "code",
   "execution_count": null,
   "metadata": {
    "ExecuteTime": {
     "end_time": "2020-08-04T11:38:43.952796Z",
     "start_time": "2020-08-04T11:38:43.948777Z"
    }
   },
   "outputs": [],
   "source": [
    "x = 10\n",
    "\n",
    "y = 20\n",
    "\n",
    "z = \"10\""
   ]
  },
  {
   "cell_type": "code",
   "execution_count": 50,
   "metadata": {
    "ExecuteTime": {
     "end_time": "2020-08-04T13:14:28.435424Z",
     "start_time": "2020-08-04T13:14:28.430436Z"
    }
   },
   "outputs": [
    {
     "name": "stdout",
     "output_type": "stream",
     "text": [
      "10\n"
     ]
    }
   ],
   "source": [
    "print(x)"
   ]
  },
  {
   "cell_type": "code",
   "execution_count": 51,
   "metadata": {
    "ExecuteTime": {
     "end_time": "2020-08-04T13:14:29.111809Z",
     "start_time": "2020-08-04T13:14:29.108790Z"
    }
   },
   "outputs": [
    {
     "name": "stdout",
     "output_type": "stream",
     "text": [
      "20\n"
     ]
    }
   ],
   "source": [
    "print(y)"
   ]
  },
  {
   "cell_type": "code",
   "execution_count": 52,
   "metadata": {
    "ExecuteTime": {
     "end_time": "2020-08-04T13:14:29.552277Z",
     "start_time": "2020-08-04T13:14:29.548288Z"
    }
   },
   "outputs": [
    {
     "name": "stdout",
     "output_type": "stream",
     "text": [
      "30\n"
     ]
    }
   ],
   "source": [
    "print(x + y)"
   ]
  },
  {
   "cell_type": "code",
   "execution_count": 53,
   "metadata": {
    "ExecuteTime": {
     "end_time": "2020-08-04T13:14:30.352031Z",
     "start_time": "2020-08-04T13:14:30.348043Z"
    }
   },
   "outputs": [
    {
     "name": "stdout",
     "output_type": "stream",
     "text": [
      "10\n"
     ]
    }
   ],
   "source": [
    "print(z)"
   ]
  },
  {
   "cell_type": "code",
   "execution_count": 10,
   "metadata": {
    "ExecuteTime": {
     "end_time": "2020-08-04T11:38:57.700676Z",
     "start_time": "2020-08-04T11:38:57.695689Z"
    }
   },
   "outputs": [
    {
     "data": {
      "text/plain": [
       "int"
      ]
     },
     "execution_count": 10,
     "metadata": {},
     "output_type": "execute_result"
    }
   ],
   "source": [
    "type(x)"
   ]
  },
  {
   "cell_type": "code",
   "execution_count": 11,
   "metadata": {
    "ExecuteTime": {
     "end_time": "2020-08-04T11:39:10.544422Z",
     "start_time": "2020-08-04T11:39:10.539434Z"
    }
   },
   "outputs": [
    {
     "data": {
      "text/plain": [
       "str"
      ]
     },
     "execution_count": 11,
     "metadata": {},
     "output_type": "execute_result"
    }
   ],
   "source": [
    "type(z)"
   ]
  },
  {
   "cell_type": "markdown",
   "metadata": {},
   "source": [
    "Existem algumas regras para os nomes das variáveis:\n",
    "\n",
    "* O nome de uma variável só pode conter caracteres alfanuméricos e o __underscore__ (A-z, 0-9, and _ );\n",
    "* O nome de uma variável deve começar com uma letrar ou com o caracter _underscore_, \"_\", jamais com um número;\n",
    "* Nomes de variáveis são sensíveis ao uso de letrar maiúsculas ou minúsculas (exemplo, EXEMPLO e Exemplo seriam três variáveis diferentes)"
   ]
  },
  {
   "cell_type": "markdown",
   "metadata": {},
   "source": [
    "### Alterando os tipos de um valor\n",
    "\n",
    "Observe como o mesmo valor 1 pode se tornar diferentes tipos de objetos."
   ]
  },
  {
   "cell_type": "code",
   "execution_count": 12,
   "metadata": {
    "ExecuteTime": {
     "end_time": "2020-08-04T11:49:21.391124Z",
     "start_time": "2020-08-04T11:49:21.385140Z"
    }
   },
   "outputs": [
    {
     "data": {
      "text/plain": [
       "int"
      ]
     },
     "execution_count": 12,
     "metadata": {},
     "output_type": "execute_result"
    }
   ],
   "source": [
    "num = 1\n",
    "type(num)"
   ]
  },
  {
   "cell_type": "code",
   "execution_count": 13,
   "metadata": {
    "ExecuteTime": {
     "end_time": "2020-08-04T11:49:28.115298Z",
     "start_time": "2020-08-04T11:49:28.110311Z"
    }
   },
   "outputs": [
    {
     "data": {
      "text/plain": [
       "1.0"
      ]
     },
     "execution_count": 13,
     "metadata": {},
     "output_type": "execute_result"
    }
   ],
   "source": [
    "float(num)"
   ]
  },
  {
   "cell_type": "code",
   "execution_count": 14,
   "metadata": {
    "ExecuteTime": {
     "end_time": "2020-08-04T11:49:37.458080Z",
     "start_time": "2020-08-04T11:49:37.453099Z"
    }
   },
   "outputs": [
    {
     "data": {
      "text/plain": [
       "'1'"
      ]
     },
     "execution_count": 14,
     "metadata": {},
     "output_type": "execute_result"
    }
   ],
   "source": [
    "str(num)"
   ]
  },
  {
   "cell_type": "markdown",
   "metadata": {},
   "source": [
    "Acima os construtores de classe float e str foram aplicados à variável num e alteraram temporariamente o seu tipo. Adiante, aplique o construtor bool() a essa variável para verificar se é possível gerar um valor boleano a partir dela."
   ]
  },
  {
   "cell_type": "code",
   "execution_count": null,
   "metadata": {
    "ExecuteTime": {
     "end_time": "2020-08-04T11:53:12.197354Z",
     "start_time": "2020-08-04T11:53:12.191370Z"
    }
   },
   "outputs": [],
   "source": []
  },
  {
   "cell_type": "markdown",
   "metadata": {},
   "source": [
    "Veja o que acontece se utilizarmos esse construtor para o valor 0:"
   ]
  },
  {
   "cell_type": "code",
   "execution_count": 19,
   "metadata": {
    "ExecuteTime": {
     "end_time": "2020-08-04T11:55:36.931197Z",
     "start_time": "2020-08-04T11:55:36.926176Z"
    }
   },
   "outputs": [
    {
     "data": {
      "text/plain": [
       "False"
      ]
     },
     "execution_count": 19,
     "metadata": {},
     "output_type": "execute_result"
    }
   ],
   "source": [
    "bool(0)"
   ]
  },
  {
   "cell_type": "markdown",
   "metadata": {},
   "source": [
    "### Dynamic Typing\n",
    "\n",
    "Python trabalho com *dynamic typing*, ou tipagem dinâmica, ou seja, ele atribui o tipo automaticamente, conforme se apresenta, sem a necessidade de que ele tenha sido rigorosamente declarado previamente e sem a obrigação de que o valor deva se manter no mesmo tipo durante todo o fluxo de operações dos nossos programas.\n",
    "\n",
    "Abaixo, note que, apenas por inserir o ponto, o valor um já não é mais tratado como integer, mas como float, o que é perceptivel na forma como a célula apresenta o seu resultado."
   ]
  },
  {
   "cell_type": "code",
   "execution_count": 21,
   "metadata": {
    "ExecuteTime": {
     "end_time": "2020-08-04T02:20:25.490569Z",
     "start_time": "2020-08-04T02:20:25.485577Z"
    }
   },
   "outputs": [
    {
     "data": {
      "text/plain": [
       "1"
      ]
     },
     "execution_count": 21,
     "metadata": {},
     "output_type": "execute_result"
    }
   ],
   "source": [
    "1"
   ]
  },
  {
   "cell_type": "code",
   "execution_count": 29,
   "metadata": {
    "ExecuteTime": {
     "end_time": "2020-08-04T02:22:28.968834Z",
     "start_time": "2020-08-04T02:22:28.963848Z"
    }
   },
   "outputs": [
    {
     "data": {
      "text/plain": [
       "1.0"
      ]
     },
     "execution_count": 29,
     "metadata": {},
     "output_type": "execute_result"
    }
   ],
   "source": [
    "1.0"
   ]
  },
  {
   "cell_type": "markdown",
   "metadata": {
    "hide_input": false
   },
   "source": [
    "## Tipos Compostos"
   ]
  },
  {
   "cell_type": "markdown",
   "metadata": {},
   "source": [
    "### strings"
   ]
  },
  {
   "cell_type": "code",
   "execution_count": 54,
   "metadata": {
    "ExecuteTime": {
     "end_time": "2020-08-04T13:15:37.971685Z",
     "start_time": "2020-08-04T13:15:37.966699Z"
    }
   },
   "outputs": [
    {
     "data": {
      "text/plain": [
       "'Isto é uma string'"
      ]
     },
     "execution_count": 54,
     "metadata": {},
     "output_type": "execute_result"
    }
   ],
   "source": [
    "\"Isto é uma string\""
   ]
  },
  {
   "cell_type": "code",
   "execution_count": 31,
   "metadata": {
    "ExecuteTime": {
     "end_time": "2020-08-04T12:05:26.914594Z",
     "start_time": "2020-08-04T12:05:26.910572Z"
    }
   },
   "outputs": [
    {
     "name": "stdout",
     "output_type": "stream",
     "text": [
      "strings são seqüencias imutáveis de caracteres\n"
     ]
    }
   ],
   "source": [
    "conceito = \"strings são seqüencias imutáveis de caracteres\"\n",
    "print(conceito)"
   ]
  },
  {
   "cell_type": "markdown",
   "metadata": {},
   "source": [
    "crie uma string com o seu nome"
   ]
  },
  {
   "cell_type": "markdown",
   "metadata": {},
   "source": [
    "A rigor, não faz diferença se a delimitação de uma string é feita com aspas duplas ou simples. Em um programa é adequado que se escolha um padrão, que deve ser mantido do início ao fim.\n",
    "\n",
    "Quando nos tornamos usuários mais experientes, passamos a ter alguns cuidados com a inserção de aspas como caracteres dentro de dos delimitares aspas de uma _string_, mas isso pode ser visto outra hora no [site oficial do Python](https://www.python.org/dev/peps/pep-0008/#string-quotes)."
   ]
  },
  {
   "cell_type": "markdown",
   "metadata": {},
   "source": [
    "Na próxima célula, crie uma string com o seu nome completo e a atribua à variável nome. Não esqueça de pressionar shift+Enter para que a operação seja processada."
   ]
  },
  {
   "cell_type": "code",
   "execution_count": 37,
   "metadata": {
    "ExecuteTime": {
     "end_time": "2020-08-04T12:13:23.146141Z",
     "start_time": "2020-08-04T12:13:23.142145Z"
    }
   },
   "outputs": [
    {
     "name": "stdout",
     "output_type": "stream",
     "text": [
      "\"teste\"\n"
     ]
    }
   ],
   "source": [
    "print('\"teste\"')"
   ]
  },
  {
   "cell_type": "code",
   "execution_count": 32,
   "metadata": {
    "ExecuteTime": {
     "end_time": "2020-08-04T12:10:13.189434Z",
     "start_time": "2020-08-04T12:10:13.185477Z"
    }
   },
   "outputs": [],
   "source": [
    "nome = 'Augusto dos Santos Pereira'"
   ]
  },
  {
   "cell_type": "markdown",
   "metadata": {},
   "source": [
    "**Indexação e Fatiamento**\n",
    "\n",
    "Os valores em uma _string_ podem ser acessados por indexação (_indexing_), ou seja pelo chamado a uma determinada posição dentro do _string_. A contagem começa a partir do 0, como podemos ver adiante:"
   ]
  },
  {
   "cell_type": "code",
   "execution_count": null,
   "metadata": {
    "ExecuteTime": {
     "end_time": "2020-08-04T12:55:23.832472Z",
     "start_time": "2020-08-04T12:55:23.827487Z"
    }
   },
   "outputs": [],
   "source": [
    "alfab = 'abcdefghijklmnopqrstuvwxyz'\n",
    "\n",
    "print(alfab[0])"
   ]
  },
  {
   "cell_type": "code",
   "execution_count": 42,
   "metadata": {
    "ExecuteTime": {
     "end_time": "2020-08-04T12:55:23.832472Z",
     "start_time": "2020-08-04T12:55:23.827487Z"
    }
   },
   "outputs": [
    {
     "name": "stdout",
     "output_type": "stream",
     "text": [
      "a\n",
      "u\n"
     ]
    }
   ],
   "source": [
    "print(alfab[20])"
   ]
  },
  {
   "cell_type": "markdown",
   "metadata": {},
   "source": [
    "Na próxima célula, a partir da variável alfab, faça a apresentação na tela - print() - das letras \"e\", \"j\" e \"o\", respectivamente 5ª, 10ª e 15ª letras do alfabeto."
   ]
  },
  {
   "cell_type": "code",
   "execution_count": 47,
   "metadata": {
    "ExecuteTime": {
     "end_time": "2020-08-04T13:03:16.343934Z",
     "start_time": "2020-08-04T13:03:16.340915Z"
    }
   },
   "outputs": [
    {
     "name": "stdout",
     "output_type": "stream",
     "text": [
      "e\n"
     ]
    }
   ],
   "source": []
  },
  {
   "cell_type": "code",
   "execution_count": 48,
   "metadata": {
    "ExecuteTime": {
     "end_time": "2020-08-04T13:03:17.099661Z",
     "start_time": "2020-08-04T13:03:17.095700Z"
    }
   },
   "outputs": [
    {
     "name": "stdout",
     "output_type": "stream",
     "text": [
      "j\n"
     ]
    }
   ],
   "source": []
  },
  {
   "cell_type": "code",
   "execution_count": 49,
   "metadata": {
    "ExecuteTime": {
     "end_time": "2020-08-04T13:03:17.612938Z",
     "start_time": "2020-08-04T13:03:17.609979Z"
    }
   },
   "outputs": [
    {
     "name": "stdout",
     "output_type": "stream",
     "text": [
      "o\n"
     ]
    }
   ],
   "source": []
  },
  {
   "cell_type": "markdown",
   "metadata": {},
   "source": [
    "Não precisamos contar para podermos obter o caracter que se encontra na última posição de uma string. Para isso, podemos utilizar o índice -1."
   ]
  },
  {
   "cell_type": "code",
   "execution_count": 55,
   "metadata": {
    "ExecuteTime": {
     "end_time": "2020-08-04T13:19:24.204388Z",
     "start_time": "2020-08-04T13:19:24.199430Z"
    }
   },
   "outputs": [
    {
     "data": {
      "text/plain": [
       "'z'"
      ]
     },
     "execution_count": 55,
     "metadata": {},
     "output_type": "execute_result"
    }
   ],
   "source": [
    "alfab[-1]"
   ]
  },
  {
   "cell_type": "markdown",
   "metadata": {},
   "source": [
    "Cada valor pode ser acessado a partir dessa indexação inversa. Adiante, obtenha a penúltima e a antepenúltima letra na variável alfab."
   ]
  },
  {
   "cell_type": "code",
   "execution_count": 56,
   "metadata": {
    "ExecuteTime": {
     "end_time": "2020-08-04T13:20:49.191824Z",
     "start_time": "2020-08-04T13:20:49.185831Z"
    }
   },
   "outputs": [
    {
     "data": {
      "text/plain": [
       "'y'"
      ]
     },
     "execution_count": 56,
     "metadata": {},
     "output_type": "execute_result"
    }
   ],
   "source": []
  },
  {
   "cell_type": "code",
   "execution_count": 57,
   "metadata": {
    "ExecuteTime": {
     "end_time": "2020-08-04T13:20:49.735406Z",
     "start_time": "2020-08-04T13:20:49.731416Z"
    }
   },
   "outputs": [
    {
     "data": {
      "text/plain": [
       "'x'"
      ]
     },
     "execution_count": 57,
     "metadata": {},
     "output_type": "execute_result"
    }
   ],
   "source": []
  },
  {
   "cell_type": "markdown",
   "metadata": {},
   "source": [
    "Lembra-se da variável nome, que você criou, contendo seu nome completo? Clique sobre a próximma célula, pressione o botão Run, na barra de comandos acima, ou pressione shift+Enter"
   ]
  },
  {
   "cell_type": "code",
   "execution_count": 59,
   "metadata": {
    "ExecuteTime": {
     "end_time": "2020-08-04T13:27:37.333906Z",
     "start_time": "2020-08-04T13:27:37.329916Z"
    }
   },
   "outputs": [
    {
     "name": "stdout",
     "output_type": "stream",
     "text": [
      "Augusto dos Santos Pereira, a primeira letra do seu nome é A\n"
     ]
    }
   ],
   "source": [
    "print(f'{nome}, a primeira letra do seu nome é {nome[0]}')"
   ]
  },
  {
   "cell_type": "code",
   "execution_count": 60,
   "metadata": {
    "ExecuteTime": {
     "end_time": "2020-08-04T13:27:39.247527Z",
     "start_time": "2020-08-04T13:27:39.243569Z"
    }
   },
   "outputs": [
    {
     "name": "stdout",
     "output_type": "stream",
     "text": [
      "Augusto dos Santos Pereira, a primeira letra do seu nome é A\n"
     ]
    }
   ],
   "source": [
    "print(f'{nome}, a primeira letra do seu nome é {nome[0]}')"
   ]
  },
  {
   "cell_type": "markdown",
   "metadata": {},
   "source": [
    "### Lists\n",
    "\n",
    "Há diversas formas de declarar uma lista em Python. \n",
    "\n",
    "Passando objetos compostos (strings, tuplas, sets, além de outros objetos compostos para além daqueles nativos do Python) para o construtor de classe list"
   ]
  },
  {
   "cell_type": "code",
   "execution_count": 49,
   "metadata": {
    "ExecuteTime": {
     "end_time": "2020-08-04T02:34:43.986637Z",
     "start_time": "2020-08-04T02:34:43.981618Z"
    }
   },
   "outputs": [
    {
     "data": {
      "text/plain": [
       "[1, 2, 3, 4]"
      ]
     },
     "execution_count": 49,
     "metadata": {},
     "output_type": "execute_result"
    }
   ],
   "source": [
    "list((1, 2, 3, 4))"
   ]
  },
  {
   "cell_type": "code",
   "execution_count": 68,
   "metadata": {
    "ExecuteTime": {
     "end_time": "2020-08-04T13:40:20.734740Z",
     "start_time": "2020-08-04T13:40:20.729723Z"
    }
   },
   "outputs": [
    {
     "data": {
      "text/plain": [
       "[1, 2, 3, 4]"
      ]
     },
     "execution_count": 68,
     "metadata": {},
     "output_type": "execute_result"
    }
   ],
   "source": [
    "list({1,2,3,4})"
   ]
  },
  {
   "cell_type": "markdown",
   "metadata": {},
   "source": [
    "Veja o que acontece quando utilizamos a string que está armazenada na variável nome para o construtor de listas.\n",
    "\n",
    "Conforme o modelo abaixo, use a célula adiante, colocando a variável nome no lugar de var.\n",
    "\n",
    "```Python\n",
    "list(var)\n",
    "```"
   ]
  },
  {
   "cell_type": "code",
   "execution_count": null,
   "metadata": {
    "ExecuteTime": {
     "end_time": "2020-08-04T13:42:46.423357Z",
     "start_time": "2020-08-04T13:42:46.417372Z"
    }
   },
   "outputs": [],
   "source": []
  },
  {
   "cell_type": "markdown",
   "metadata": {},
   "source": [
    "É também possível criar listas simplesmente ao declarar sua estrutura, com os itens separados por vírgula e delimitados por colchetes."
   ]
  },
  {
   "cell_type": "code",
   "execution_count": 70,
   "metadata": {
    "ExecuteTime": {
     "end_time": "2020-08-04T13:44:08.162290Z",
     "start_time": "2020-08-04T13:44:08.157317Z"
    }
   },
   "outputs": [
    {
     "data": {
      "text/plain": [
       "[1, 2, 3, 4]"
      ]
     },
     "execution_count": 70,
     "metadata": {},
     "output_type": "execute_result"
    }
   ],
   "source": [
    "lst = [1,2,3,4]\n",
    "\n",
    "lst"
   ]
  },
  {
   "cell_type": "markdown",
   "metadata": {},
   "source": [
    "Conforme o exemplo acima, crie uma lista com quatro strings laranja, mamão, uva e maçã. Atribua essa lista à variável compras.\n",
    "Não esqueça! No notebook, sempre tempos que rodar a célula, para que os valores sejam registrados. Use Shift+Enter ou o botão Run."
   ]
  },
  {
   "cell_type": "code",
   "execution_count": 72,
   "metadata": {
    "ExecuteTime": {
     "end_time": "2020-08-04T13:47:53.034050Z",
     "start_time": "2020-08-04T13:47:53.029032Z"
    }
   },
   "outputs": [],
   "source": [
    "compras = ['laranja', 'mamão', 'uva', 'maçã']"
   ]
  },
  {
   "cell_type": "markdown",
   "metadata": {},
   "source": [
    "**Indexing e Slicing**\n",
    "\n",
    "Quando abordamos _strings_, vimos como podemos fazer indexação, ou seja, recuperação de um valor dentro de um objeto composto a partir de seu índice posicional, contado a partir de 0 (esquerda para direita), ou a partir de -1 (direita para esquerda). Isso também é aplicável para listas.\n",
    "\n",
    "Adiante vamos recuperar o primeiro, o segundo e o último elementos da lista armazenada na variável compras:"
   ]
  },
  {
   "cell_type": "code",
   "execution_count": null,
   "metadata": {},
   "outputs": [],
   "source": [
    "compras[0]"
   ]
  },
  {
   "cell_type": "code",
   "execution_count": null,
   "metadata": {},
   "outputs": [],
   "source": [
    "compras"
   ]
  },
  {
   "cell_type": "code",
   "execution_count": null,
   "metadata": {},
   "outputs": [],
   "source": [
    "[3]"
   ]
  },
  {
   "cell_type": "markdown",
   "metadata": {},
   "source": [
    "Crie uma lista com três elementos, as letras a, b e c. Atribua essa lista à variável lista.\n",
    "Não esqueça que dentro da sua lista, essas letras devem ser representadas como _string_."
   ]
  },
  {
   "cell_type": "code",
   "execution_count": 28,
   "metadata": {
    "ExecuteTime": {
     "end_time": "2020-08-04T12:01:14.079196Z",
     "start_time": "2020-08-04T12:01:14.074209Z"
    }
   },
   "outputs": [],
   "source": []
  },
  {
   "cell_type": "markdown",
   "metadata": {},
   "source": [
    "Adiante, acesse, respectivamente, o último, o penúltimo e o primeiro itens da lista. Faça isso utilizando a posição de cada um contada da direita para a esquerda, ou seja, com valores negativos. "
   ]
  },
  {
   "cell_type": "code",
   "execution_count": 73,
   "metadata": {
    "ExecuteTime": {
     "end_time": "2020-08-04T14:02:50.788405Z",
     "start_time": "2020-08-04T14:02:50.784410Z"
    }
   },
   "outputs": [
    {
     "data": {
      "text/plain": [
       "'c'"
      ]
     },
     "execution_count": 73,
     "metadata": {},
     "output_type": "execute_result"
    }
   ],
   "source": []
  },
  {
   "cell_type": "code",
   "execution_count": 74,
   "metadata": {
    "ExecuteTime": {
     "end_time": "2020-08-04T14:02:51.078640Z",
     "start_time": "2020-08-04T14:02:51.073637Z"
    }
   },
   "outputs": [
    {
     "data": {
      "text/plain": [
       "'b'"
      ]
     },
     "execution_count": 74,
     "metadata": {},
     "output_type": "execute_result"
    }
   ],
   "source": []
  },
  {
   "cell_type": "code",
   "execution_count": 75,
   "metadata": {
    "ExecuteTime": {
     "end_time": "2020-08-04T14:02:51.470505Z",
     "start_time": "2020-08-04T14:02:51.465518Z"
    }
   },
   "outputs": [
    {
     "data": {
      "text/plain": [
       "'a'"
      ]
     },
     "execution_count": 75,
     "metadata": {},
     "output_type": "execute_result"
    }
   ],
   "source": []
  },
  {
   "cell_type": "markdown",
   "metadata": {},
   "source": [
    "Podemos aproveitar o tema das listas para avançar sobre outra questão que não analisamos anteriormente, embora fosse aplicável também às strings, o _slicing_, ou fatiamento. _Slicing_ é a recuperação de valores em intervalos indexados. No intervalo, indicamos a partir de que posição queremos obter dados, inclusive, e até que posição, exclusive. Separamos esses dois argumentos por dois pontos \":\".\n",
    "vejamos o exemplo com uma lista que contenha as letras do alfabeto."
   ]
  },
  {
   "cell_type": "code",
   "execution_count": 78,
   "metadata": {
    "ExecuteTime": {
     "end_time": "2020-08-04T14:09:17.646001Z",
     "start_time": "2020-08-04T14:09:17.641040Z"
    }
   },
   "outputs": [
    {
     "name": "stdout",
     "output_type": "stream",
     "text": [
      "['a', 'b', 'c', 'd', 'e', 'f', 'g', 'h', 'i', 'j', 'k', 'l', 'm', 'n', 'o', 'p', 'q', 'r', 's', 't', 'u', 'v', 'w', 'x', 'y', 'z']\n"
     ]
    }
   ],
   "source": [
    "list_alf = list(alfab)\n",
    "print(list_alf)"
   ]
  },
  {
   "cell_type": "code",
   "execution_count": 79,
   "metadata": {
    "ExecuteTime": {
     "end_time": "2020-08-04T14:09:49.115302Z",
     "start_time": "2020-08-04T14:09:49.110276Z"
    }
   },
   "outputs": [
    {
     "data": {
      "text/plain": [
       "['a', 'b', 'c', 'd', 'e']"
      ]
     },
     "execution_count": 79,
     "metadata": {},
     "output_type": "execute_result"
    }
   ],
   "source": [
    "list_alf[0:5]"
   ]
  },
  {
   "cell_type": "markdown",
   "metadata": {},
   "source": [
    "No exemplo acima, a posição 0 é a letra \"a\", enquanto a posição 5 é a letra \"f\". O fatiamento recuperou cinco letras, desde \"a\" até \"e\", que está na posição 4 da lista. Como podemos ver, o fatiamento inclui o primeiro valor indicado, mas exclui o último.\n",
    "\n",
    "Na próxima célula, faça um _slicing_ da lista list_alf que retorne as letras de \"f\" a \"j\"."
   ]
  },
  {
   "cell_type": "code",
   "execution_count": 81,
   "metadata": {
    "ExecuteTime": {
     "end_time": "2020-08-04T16:47:30.360214Z",
     "start_time": "2020-08-04T16:47:30.356192Z"
    }
   },
   "outputs": [
    {
     "data": {
      "text/plain": [
       "['f', 'g', 'h', 'i', 'j']"
      ]
     },
     "execution_count": 81,
     "metadata": {},
     "output_type": "execute_result"
    }
   ],
   "source": []
  },
  {
   "cell_type": "markdown",
   "metadata": {},
   "source": [
    "Faça o _slicing_ da lista list_alf para obter as letras \"m\" e \"n\"."
   ]
  },
  {
   "cell_type": "code",
   "execution_count": 94,
   "metadata": {
    "ExecuteTime": {
     "end_time": "2020-08-04T17:14:42.019102Z",
     "start_time": "2020-08-04T17:14:42.014116Z"
    }
   },
   "outputs": [
    {
     "data": {
      "text/plain": [
       "['m', 'n']"
      ]
     },
     "execution_count": 94,
     "metadata": {},
     "output_type": "execute_result"
    }
   ],
   "source": []
  },
  {
   "cell_type": "markdown",
   "metadata": {},
   "source": [
    "Obtenha a sequência \"x\", e \"y\", utilizando números negativos, que indexam da direita para a esquerda."
   ]
  },
  {
   "cell_type": "code",
   "execution_count": 95,
   "metadata": {
    "ExecuteTime": {
     "end_time": "2020-08-04T17:17:10.580574Z",
     "start_time": "2020-08-04T17:17:10.574569Z"
    }
   },
   "outputs": [
    {
     "data": {
      "text/plain": [
       "['x', 'y']"
      ]
     },
     "execution_count": 95,
     "metadata": {},
     "output_type": "execute_result"
    }
   ],
   "source": []
  },
  {
   "cell_type": "markdown",
   "metadata": {},
   "source": [
    "Um comportamento bastante interessante do Python no fatiamento de sequências indexadas é que, ao omitirmos o primeiro elemento, ele considera que estamos começando a consulta desde o primeiro elemento da lista, inclusive. Por sua vez, ao ignorarmos o segundo elemento, ele entende que queremos retornar o intervalo até o ultimo elemento, inclusive. Vejamos adiante:"
   ]
  },
  {
   "cell_type": "code",
   "execution_count": 103,
   "metadata": {
    "ExecuteTime": {
     "end_time": "2020-08-04T18:01:00.028993Z",
     "start_time": "2020-08-04T18:01:00.022970Z"
    }
   },
   "outputs": [
    {
     "data": {
      "text/plain": [
       "['u', 'v', 'w', 'x', 'y', 'z']"
      ]
     },
     "execution_count": 103,
     "metadata": {},
     "output_type": "execute_result"
    }
   ],
   "source": [
    "list_alf[20:]"
   ]
  },
  {
   "cell_type": "code",
   "execution_count": 104,
   "metadata": {
    "ExecuteTime": {
     "end_time": "2020-08-04T18:01:00.412481Z",
     "start_time": "2020-08-04T18:01:00.406497Z"
    }
   },
   "outputs": [
    {
     "data": {
      "text/plain": [
       "['a', 'b', 'c', 'd', 'e', 'f', 'g', 'h', 'i', 'j']"
      ]
     },
     "execution_count": 104,
     "metadata": {},
     "output_type": "execute_result"
    }
   ],
   "source": [
    "list_alf[:10]"
   ]
  },
  {
   "cell_type": "code",
   "execution_count": 105,
   "metadata": {
    "ExecuteTime": {
     "end_time": "2020-08-04T18:01:00.952076Z",
     "start_time": "2020-08-04T18:01:00.948087Z"
    }
   },
   "outputs": [
    {
     "name": "stdout",
     "output_type": "stream",
     "text": [
      "['a', 'b', 'c', 'd', 'e', 'f', 'g', 'h', 'i', 'j', 'k', 'l', 'm', 'n', 'o', 'p', 'q', 'r', 's', 't', 'u', 'v', 'w', 'x', 'y', 'z']\n"
     ]
    }
   ],
   "source": [
    "print(list_alf[:])"
   ]
  },
  {
   "cell_type": "markdown",
   "metadata": {},
   "source": [
    "Consulte a lista list_alf desde o primeiro item ao décimo (lembre que o décimo)."
   ]
  },
  {
   "cell_type": "code",
   "execution_count": 106,
   "metadata": {
    "ExecuteTime": {
     "end_time": "2020-08-04T18:12:42.838055Z",
     "start_time": "2020-08-04T18:12:42.833069Z"
    }
   },
   "outputs": [
    {
     "data": {
      "text/plain": [
       "['a', 'b', 'c', 'd', 'e', 'f', 'g', 'h', 'i', 'j']"
      ]
     },
     "execution_count": 106,
     "metadata": {},
     "output_type": "execute_result"
    }
   ],
   "source": [
    "list_alf[:10]"
   ]
  },
  {
   "cell_type": "markdown",
   "metadata": {
    "ExecuteTime": {
     "end_time": "2020-08-04T18:13:35.941397Z",
     "start_time": "2020-08-04T18:13:35.936400Z"
    }
   },
   "source": [
    "Consulte a lista list_alf desde a letra l até z, omitindo a posição desta última letra."
   ]
  },
  {
   "cell_type": "code",
   "execution_count": 109,
   "metadata": {
    "ExecuteTime": {
     "end_time": "2020-08-04T18:13:48.778665Z",
     "start_time": "2020-08-04T18:13:48.774672Z"
    }
   },
   "outputs": [
    {
     "data": {
      "text/plain": [
       "['l', 'm', 'n', 'o', 'p', 'q', 'r', 's', 't', 'u', 'v', 'w', 'x', 'y', 'z']"
      ]
     },
     "execution_count": 109,
     "metadata": {},
     "output_type": "execute_result"
    }
   ],
   "source": []
  },
  {
   "cell_type": "markdown",
   "metadata": {},
   "source": [
    "**Encadeamento de objetos compostos**\n",
    "\n",
    "Por vezes, na vida, temos alguns tipos de contêneres dentro de outros contêineres. Pensemos no seguinte cenário: em uma estante temos uma parte que é um gaveteiro de três gavetas, ali temos a terceira gaveta, na terceira gaveta temos uma caixa, dentro da caixa um pacote e no pacote um anel. Em tal cenário, podemos ter acesso ao anel ao sequencialmente acessar cada um dos contêineres, do superior ao inferior, até chegarmos ao item.\n",
    "\n",
    "Em Python, essa lógica se aplica. Os objetos python podem conter outros objetos, de tal forma que operações em um objeto podem te levar a acessar outro e depois outro, suscessivas vezes.\n",
    "\n",
    "Vejamos um exemplo de uma lista que contém outras listas"
   ]
  },
  {
   "cell_type": "code",
   "execution_count": 89,
   "metadata": {
    "ExecuteTime": {
     "end_time": "2020-08-04T17:10:15.977250Z",
     "start_time": "2020-08-04T17:10:15.973263Z"
    }
   },
   "outputs": [],
   "source": [
    "armario = [[['casaco','sobretudo', 'blazer'],['chapéu','capa de chuva']],[['camisa','camiseta'],['saia','calça']]]"
   ]
  },
  {
   "cell_type": "markdown",
   "metadata": {},
   "source": [
    "Vamos entender essa estrutura à medida que retiramos o primeiro item da lista armario, depois o primeiro item dessa primeira lista interna, seguido pelo item dentro desta última lista."
   ]
  },
  {
   "cell_type": "code",
   "execution_count": 90,
   "metadata": {
    "ExecuteTime": {
     "end_time": "2020-08-04T17:10:16.601378Z",
     "start_time": "2020-08-04T17:10:16.596377Z"
    }
   },
   "outputs": [
    {
     "data": {
      "text/plain": [
       "[['casaco', 'sobretudo', 'blazer'], ['chapéu', 'capa de chuva']]"
      ]
     },
     "execution_count": 90,
     "metadata": {},
     "output_type": "execute_result"
    }
   ],
   "source": [
    "armario[0]"
   ]
  },
  {
   "cell_type": "markdown",
   "metadata": {},
   "source": [
    "Vimos acima que, na lista armario, nós pegamos a primeira lista, cujos itens são duas outras listas, cada uma com seus itens formados por _strings_.\n",
    "Vamos adiante fazer uma nova retirada do primeiro item:"
   ]
  },
  {
   "cell_type": "code",
   "execution_count": 91,
   "metadata": {
    "ExecuteTime": {
     "end_time": "2020-08-04T17:10:17.381790Z",
     "start_time": "2020-08-04T17:10:17.375793Z"
    }
   },
   "outputs": [
    {
     "data": {
      "text/plain": [
       "['casaco', 'sobretudo', 'blazer']"
      ]
     },
     "execution_count": 91,
     "metadata": {},
     "output_type": "execute_result"
    }
   ],
   "source": [
    "armario[0][0]"
   ]
  },
  {
   "cell_type": "markdown",
   "metadata": {},
   "source": [
    "Agora chegamos a um ponto em que estamos na camada mais interna, acessando uma lista que contém três _strings_, casaco, sobretudo e blazer. Podemos extrair os dois últimos desses elementos, seguindo a lógica de sucessivas indexações e fatiamentos, conforme o exemplo abaixo."
   ]
  },
  {
   "cell_type": "code",
   "execution_count": 93,
   "metadata": {
    "ExecuteTime": {
     "end_time": "2020-08-04T17:11:47.909941Z",
     "start_time": "2020-08-04T17:11:47.904955Z"
    }
   },
   "outputs": [
    {
     "data": {
      "text/plain": [
       "['sobretudo', 'blazer']"
      ]
     },
     "execution_count": 93,
     "metadata": {},
     "output_type": "execute_result"
    }
   ],
   "source": [
    "armario[0][0][1:]"
   ]
  },
  {
   "cell_type": "markdown",
   "metadata": {},
   "source": [
    "**Alterando elementos**\n",
    "\n",
    "Os elementos dentro de uma lista podem não somente ser acessados como alterados.\n",
    "\n",
    "Note como abaixo o \"a\" minúsculo é alterado para um \"A\" maiúsculo."
   ]
  },
  {
   "cell_type": "code",
   "execution_count": 127,
   "metadata": {
    "ExecuteTime": {
     "end_time": "2020-08-04T18:33:10.866328Z",
     "start_time": "2020-08-04T18:33:10.862342Z"
    }
   },
   "outputs": [
    {
     "name": "stdout",
     "output_type": "stream",
     "text": [
      "['A', 'b', 'c', 'd', 'e', 'f', 'g', 'h', 'i', 'j', 'k', 'l', 'm', 'n', 'o', 'p', 'q', 'r', 's', 't', 'u', 'v', 'w', 'x', 'y', 'z']\n"
     ]
    }
   ],
   "source": [
    "list_alf[0] = 'A'\n",
    "print(list_alf)"
   ]
  },
  {
   "cell_type": "markdown",
   "metadata": {},
   "source": [
    "Na próxima célula, reverta a alteração feita acima, atribuindo 'a' como o valor da posição 0 na lista list_alf. Rode a célula na sequência para conferir se a alteração ocorreu com sucesso."
   ]
  },
  {
   "cell_type": "code",
   "execution_count": 128,
   "metadata": {
    "ExecuteTime": {
     "end_time": "2020-08-04T18:33:12.253143Z",
     "start_time": "2020-08-04T18:33:12.250152Z"
    }
   },
   "outputs": [],
   "source": [
    "list_alf[0] = 'a'"
   ]
  },
  {
   "cell_type": "code",
   "execution_count": 129,
   "metadata": {
    "ExecuteTime": {
     "end_time": "2020-08-04T18:33:13.119307Z",
     "start_time": "2020-08-04T18:33:13.115338Z"
    }
   },
   "outputs": [
    {
     "name": "stdout",
     "output_type": "stream",
     "text": [
      "['a', 'b', 'c', 'd', 'e', 'f', 'g', 'h', 'i', 'j', 'k', 'l', 'm', 'n', 'o', 'p', 'q', 'r', 's', 't', 'u', 'v', 'w', 'x', 'y', 'z']\n"
     ]
    }
   ],
   "source": [
    "print(list_alf)"
   ]
  },
  {
   "cell_type": "markdown",
   "metadata": {
    "ExecuteTime": {
     "end_time": "2020-08-04T18:30:39.893917Z",
     "start_time": "2020-08-04T18:30:39.887934Z"
    }
   },
   "source": [
    "Para adicionar, ou apensar, um novo valor ao final de uma lista, utilizamos o comando append()."
   ]
  },
  {
   "cell_type": "code",
   "execution_count": 130,
   "metadata": {
    "ExecuteTime": {
     "end_time": "2020-08-04T18:33:15.048302Z",
     "start_time": "2020-08-04T18:33:15.044280Z"
    }
   },
   "outputs": [],
   "source": [
    "list_alf.append(0)"
   ]
  },
  {
   "cell_type": "code",
   "execution_count": 131,
   "metadata": {
    "ExecuteTime": {
     "end_time": "2020-08-04T18:33:19.065052Z",
     "start_time": "2020-08-04T18:33:19.062085Z"
    }
   },
   "outputs": [
    {
     "name": "stdout",
     "output_type": "stream",
     "text": [
      "['a', 'b', 'c', 'd', 'e', 'f', 'g', 'h', 'i', 'j', 'k', 'l', 'm', 'n', 'o', 'p', 'q', 'r', 's', 't', 'u', 'v', 'w', 'x', 'y', 'z', 0]\n"
     ]
    }
   ],
   "source": [
    "print(list_alf)"
   ]
  },
  {
   "cell_type": "markdown",
   "metadata": {},
   "source": [
    "Vamos retirar esse zero a mais da lista, por ora. Não se preocupe com o comando para fazer isso. Em tempo falaremos das diversas ações que podemos realizar com os tipos básicos."
   ]
  },
  {
   "cell_type": "code",
   "execution_count": null,
   "metadata": {
    "ExecuteTime": {
     "end_time": "2020-08-04T18:33:20.641666Z",
     "start_time": "2020-08-04T18:33:20.637644Z"
    }
   },
   "outputs": [],
   "source": [
    "list_alf.pop(-1)"
   ]
  },
  {
   "cell_type": "code",
   "execution_count": 133,
   "metadata": {
    "ExecuteTime": {
     "end_time": "2020-08-04T18:33:28.803758Z",
     "start_time": "2020-08-04T18:33:28.798771Z"
    }
   },
   "outputs": [
    {
     "name": "stdout",
     "output_type": "stream",
     "text": [
      "['a', 'b', 'c', 'd', 'e', 'f', 'g', 'h', 'i', 'j', 'k', 'l', 'm', 'n', 'o', 'p', 'q', 'r', 's', 't', 'u', 'v', 'w', 'x', 'y', 'z']\n"
     ]
    }
   ],
   "source": [
    "print(list_alf)"
   ]
  },
  {
   "cell_type": "markdown",
   "metadata": {},
   "source": [
    "### Tuplas"
   ]
  },
  {
   "cell_type": "markdown",
   "metadata": {},
   "source": [
    "Declarar uma tupla pode ser feito ao se lançar sequências de objetos imutáveis em uma construtor de classe tuple(), ou, simplesmente, ao inseri-los entre parênteses.\n",
    "\n",
    "Ao rodar as células adiante, podemos observar isso em ação."
   ]
  },
  {
   "cell_type": "code",
   "execution_count": 113,
   "metadata": {
    "ExecuteTime": {
     "end_time": "2020-08-04T18:21:41.444668Z",
     "start_time": "2020-08-04T18:21:41.441689Z"
    }
   },
   "outputs": [],
   "source": [
    "tup_letr_nom = tuple(nome)"
   ]
  },
  {
   "cell_type": "code",
   "execution_count": 114,
   "metadata": {
    "ExecuteTime": {
     "end_time": "2020-08-04T18:21:46.657817Z",
     "start_time": "2020-08-04T18:21:46.653836Z"
    }
   },
   "outputs": [
    {
     "name": "stdout",
     "output_type": "stream",
     "text": [
      "('A', 'u', 'g', 'u', 's', 't', 'o', ' ', 'd', 'o', 's', ' ', 'S', 'a', 'n', 't', 'o', 's', ' ', 'P', 'e', 'r', 'e', 'i', 'r', 'a')\n"
     ]
    }
   ],
   "source": [
    "print(tup_letr_nom)"
   ]
  },
  {
   "cell_type": "code",
   "execution_count": 134,
   "metadata": {
    "ExecuteTime": {
     "end_time": "2020-08-04T18:34:58.710493Z",
     "start_time": "2020-08-04T18:34:58.706467Z"
    }
   },
   "outputs": [],
   "source": [
    "tup_letras = (nome)"
   ]
  },
  {
   "cell_type": "code",
   "execution_count": 136,
   "metadata": {
    "ExecuteTime": {
     "end_time": "2020-08-04T18:35:20.727167Z",
     "start_time": "2020-08-04T18:35:20.722180Z"
    }
   },
   "outputs": [
    {
     "data": {
      "text/plain": [
       "str"
      ]
     },
     "execution_count": 136,
     "metadata": {},
     "output_type": "execute_result"
    }
   ],
   "source": [
    "type(tup_letras)"
   ]
  },
  {
   "cell_type": "code",
   "execution_count": 137,
   "metadata": {
    "ExecuteTime": {
     "end_time": "2020-08-04T18:35:41.166389Z",
     "start_time": "2020-08-04T18:35:41.163419Z"
    }
   },
   "outputs": [],
   "source": [
    "tuplinha = (1,2,3,4,5)"
   ]
  },
  {
   "cell_type": "code",
   "execution_count": 142,
   "metadata": {
    "ExecuteTime": {
     "end_time": "2020-08-04T18:36:18.901595Z",
     "start_time": "2020-08-04T18:36:18.897607Z"
    }
   },
   "outputs": [
    {
     "data": {
      "text/plain": [
       "(1, 2, 3, 4, 5)"
      ]
     },
     "execution_count": 142,
     "metadata": {},
     "output_type": "execute_result"
    }
   ],
   "source": [
    "tuplinha"
   ]
  },
  {
   "cell_type": "code",
   "execution_count": 143,
   "metadata": {
    "ExecuteTime": {
     "end_time": "2020-08-04T18:36:21.112155Z",
     "start_time": "2020-08-04T18:36:21.107136Z"
    },
    "scrolled": false
   },
   "outputs": [
    {
     "data": {
      "text/plain": [
       "tuple"
      ]
     },
     "execution_count": 143,
     "metadata": {},
     "output_type": "execute_result"
    }
   ],
   "source": [
    "type(tuplinha)"
   ]
  },
  {
   "cell_type": "markdown",
   "metadata": {},
   "source": [
    "Muitos dos conhecimentos que obtivemos sobre listas e _strings_ aplicam-se às tuplas. No entanto, é preciso se lembrar que, uma vez declarada, a tupla é imutável. Por essa razão, não consigmos fazer atribuição de novos valores, ou mudar aqueles nela presentes.\n",
    "\n",
    "Um método muito importante ligado às tuplas é chamado de _tuple unpacking_. Trata-se de atribuir os valores constantes em uma tupla a variáveis, em um único processo. Vejamos um exemplo adiante, com uma tupla que guarda as coordenadas geográficas do Centro de Curitiba:"
   ]
  },
  {
   "cell_type": "code",
   "execution_count": 157,
   "metadata": {
    "ExecuteTime": {
     "end_time": "2020-08-04T19:30:23.385185Z",
     "start_time": "2020-08-04T19:30:23.378169Z"
    }
   },
   "outputs": [],
   "source": [
    "coordenadas_curitiba = (-25.4284, -49.2733)"
   ]
  },
  {
   "cell_type": "code",
   "execution_count": 158,
   "metadata": {
    "ExecuteTime": {
     "end_time": "2020-08-04T19:30:31.365032Z",
     "start_time": "2020-08-04T19:30:31.358930Z"
    }
   },
   "outputs": [],
   "source": [
    "lat, long = coordenadas_curitiba"
   ]
  },
  {
   "cell_type": "code",
   "execution_count": 159,
   "metadata": {
    "ExecuteTime": {
     "end_time": "2020-08-04T19:30:40.122300Z",
     "start_time": "2020-08-04T19:30:40.118303Z"
    }
   },
   "outputs": [
    {
     "name": "stdout",
     "output_type": "stream",
     "text": [
      "-25.4284\n"
     ]
    }
   ],
   "source": [
    "print(lat)"
   ]
  },
  {
   "cell_type": "code",
   "execution_count": 160,
   "metadata": {
    "ExecuteTime": {
     "end_time": "2020-08-04T19:30:43.492421Z",
     "start_time": "2020-08-04T19:30:43.474482Z"
    }
   },
   "outputs": [
    {
     "name": "stdout",
     "output_type": "stream",
     "text": [
      "-49.2733\n"
     ]
    }
   ],
   "source": [
    "print(long)"
   ]
  },
  {
   "cell_type": "markdown",
   "metadata": {},
   "source": [
    "Note que os valores constantes dentro da tupla passaram a integrar valores das variáveis lat e long com apenas uma operação de atribuição.\n",
    "\n",
    "Suponha que, precisando apenas da latitude e da longitude, a tupla de origem dos dados ainda desse outros dois valores, altitude e população. Como poderíamos fazer a atribuição das variáveis lat e long, deixando de lado a altitude?\n",
    "\n",
    "Isso pode ser feito, utilizando _underscore_ \"_\" como uma variável descartável, que recebe os valores de altitude e de população."
   ]
  },
  {
   "cell_type": "code",
   "execution_count": 179,
   "metadata": {
    "ExecuteTime": {
     "end_time": "2020-08-04T19:38:17.573004Z",
     "start_time": "2020-08-04T19:38:17.570018Z"
    }
   },
   "outputs": [],
   "source": [
    "coordenadas_curitiba = (-25.4284, -49.2733, 935, 1933105)"
   ]
  },
  {
   "cell_type": "code",
   "execution_count": 180,
   "metadata": {
    "ExecuteTime": {
     "end_time": "2020-08-04T19:38:17.945289Z",
     "start_time": "2020-08-04T19:38:17.942298Z"
    }
   },
   "outputs": [],
   "source": [
    "lat, long, _, _ = coordenadas_curitiba"
   ]
  },
  {
   "cell_type": "code",
   "execution_count": 181,
   "metadata": {
    "ExecuteTime": {
     "end_time": "2020-08-04T19:38:18.393714Z",
     "start_time": "2020-08-04T19:38:18.389756Z"
    }
   },
   "outputs": [
    {
     "name": "stdout",
     "output_type": "stream",
     "text": [
      "-25.4284\n"
     ]
    }
   ],
   "source": [
    "print(lat)"
   ]
  },
  {
   "cell_type": "code",
   "execution_count": 182,
   "metadata": {
    "ExecuteTime": {
     "end_time": "2020-08-04T19:38:19.205229Z",
     "start_time": "2020-08-04T19:38:19.202216Z"
    }
   },
   "outputs": [
    {
     "name": "stdout",
     "output_type": "stream",
     "text": [
      "-49.2733\n"
     ]
    }
   ],
   "source": [
    "print(long)"
   ]
  },
  {
   "cell_type": "markdown",
   "metadata": {
    "ExecuteTime": {
     "end_time": "2020-08-04T19:38:19.889325Z",
     "start_time": "2020-08-04T19:38:19.883343Z"
    }
   },
   "source": [
    "Precisamos utilizar o artifício acima, pois o número de variáveis à esquerda do operador de atribuição deve ser igual o número itens contidos na tupla."
   ]
  },
  {
   "cell_type": "code",
   "execution_count": 189,
   "metadata": {
    "ExecuteTime": {
     "end_time": "2020-08-04T19:43:02.533361Z",
     "start_time": "2020-08-04T19:43:02.530370Z"
    }
   },
   "outputs": [],
   "source": [
    "tup = tuple([[1,2,3], []])"
   ]
  },
  {
   "cell_type": "code",
   "execution_count": 192,
   "metadata": {
    "ExecuteTime": {
     "end_time": "2020-08-04T19:43:17.155782Z",
     "start_time": "2020-08-04T19:43:17.151793Z"
    }
   },
   "outputs": [
    {
     "data": {
      "text/plain": [
       "list"
      ]
     },
     "execution_count": 192,
     "metadata": {},
     "output_type": "execute_result"
    }
   ],
   "source": [
    "type(tup[0])"
   ]
  },
  {
   "cell_type": "markdown",
   "metadata": {},
   "source": [
    "### Dicionários"
   ]
  },
  {
   "cell_type": "markdown",
   "metadata": {},
   "source": [
    "Podemos declarar dicionários ao criar a estrutura de pares chave-valor entre colchetes, ou com o uso do construtor de classes dict(), conforme mostrado adiante."
   ]
  },
  {
   "cell_type": "code",
   "execution_count": 207,
   "metadata": {
    "ExecuteTime": {
     "end_time": "2020-08-04T20:00:23.573233Z",
     "start_time": "2020-08-04T20:00:23.569244Z"
    }
   },
   "outputs": [],
   "source": [
    "curriculo = {'universidade':'ufpr', 'graduacao':'geografia', 'ingles': 'avançado'}\n",
    "traducoes = {'one': 'uno', 'two': 'dos', 'three': 'tres'}\n",
    "coordcuritiba = dict()"
   ]
  },
  {
   "cell_type": "markdown",
   "metadata": {},
   "source": [
    "Os valoes do dicionário são consultadoos por suas chaves, conforme adiante:"
   ]
  },
  {
   "cell_type": "code",
   "execution_count": 208,
   "metadata": {
    "ExecuteTime": {
     "end_time": "2020-08-04T20:00:25.370637Z",
     "start_time": "2020-08-04T20:00:25.365651Z"
    }
   },
   "outputs": [
    {
     "data": {
      "text/plain": [
       "'ufpr'"
      ]
     },
     "execution_count": 208,
     "metadata": {},
     "output_type": "execute_result"
    }
   ],
   "source": [
    "curriculo['universidade']"
   ]
  },
  {
   "cell_type": "code",
   "execution_count": 209,
   "metadata": {
    "ExecuteTime": {
     "end_time": "2020-08-04T20:00:26.640697Z",
     "start_time": "2020-08-04T20:00:26.636718Z"
    }
   },
   "outputs": [
    {
     "data": {
      "text/plain": [
       "'uno'"
      ]
     },
     "execution_count": 209,
     "metadata": {},
     "output_type": "execute_result"
    }
   ],
   "source": [
    "traducoes['one']"
   ]
  },
  {
   "cell_type": "markdown",
   "metadata": {},
   "source": [
    "Acesse o valor \"geografia\", no dicionário curriculo."
   ]
  },
  {
   "cell_type": "code",
   "execution_count": 210,
   "metadata": {
    "ExecuteTime": {
     "end_time": "2020-08-04T20:00:28.503717Z",
     "start_time": "2020-08-04T20:00:28.499729Z"
    }
   },
   "outputs": [
    {
     "data": {
      "text/plain": [
       "'geografia'"
      ]
     },
     "execution_count": 210,
     "metadata": {},
     "output_type": "execute_result"
    }
   ],
   "source": []
  },
  {
   "cell_type": "markdown",
   "metadata": {
    "ExecuteTime": {
     "end_time": "2020-08-04T20:01:06.115071Z",
     "start_time": "2020-08-04T20:01:06.111060Z"
    }
   },
   "source": [
    "Verifique qual o nível de Inglês no dicionário curriculo."
   ]
  },
  {
   "cell_type": "code",
   "execution_count": 202,
   "metadata": {
    "ExecuteTime": {
     "end_time": "2020-08-04T19:58:24.680327Z",
     "start_time": "2020-08-04T19:58:24.677336Z"
    }
   },
   "outputs": [
    {
     "data": {
      "text/plain": [
       "'avançado'"
      ]
     },
     "execution_count": 202,
     "metadata": {},
     "output_type": "execute_result"
    }
   ],
   "source": []
  },
  {
   "cell_type": "markdown",
   "metadata": {},
   "source": [
    "Observe qual a tradução de two para o espanho, segundo o dicionário traducoes."
   ]
  },
  {
   "cell_type": "code",
   "execution_count": 204,
   "metadata": {
    "ExecuteTime": {
     "end_time": "2020-08-04T19:58:52.576310Z",
     "start_time": "2020-08-04T19:58:52.571292Z"
    }
   },
   "outputs": [
    {
     "data": {
      "text/plain": [
       "'dos'"
      ]
     },
     "execution_count": 204,
     "metadata": {},
     "output_type": "execute_result"
    }
   ],
   "source": []
  },
  {
   "cell_type": "markdown",
   "metadata": {
    "ExecuteTime": {
     "end_time": "2020-08-04T20:03:39.431260Z",
     "start_time": "2020-08-04T20:03:39.426242Z"
    }
   },
   "source": [
    "Faça o mesmo para \"three\"."
   ]
  },
  {
   "cell_type": "code",
   "execution_count": 214,
   "metadata": {
    "ExecuteTime": {
     "end_time": "2020-08-04T20:05:35.720003Z",
     "start_time": "2020-08-04T20:05:35.715013Z"
    }
   },
   "outputs": [
    {
     "data": {
      "text/plain": [
       "'tres'"
      ]
     },
     "execution_count": 214,
     "metadata": {},
     "output_type": "execute_result"
    }
   ],
   "source": []
  },
  {
   "cell_type": "markdown",
   "metadata": {
    "ExecuteTime": {
     "end_time": "2020-08-04T20:04:05.048116Z",
     "start_time": "2020-08-04T20:04:05.043154Z"
    }
   },
   "source": [
    "Vimos que o valores ligados a uma chave podem ser consultados a partir da chamada do dicionário, seguido da chave entre colchetes. Podemos utilizar essa mesma técnica para fazer inserção de novos pares chave-valor, bem como para atualização daqueles já presentes no dicionário."
   ]
  },
  {
   "cell_type": "code",
   "execution_count": null,
   "metadata": {},
   "outputs": [],
   "source": [
    "'lat':-25.4284,'long':-49.2733"
   ]
  },
  {
   "cell_type": "code",
   "execution_count": 215,
   "metadata": {
    "ExecuteTime": {
     "end_time": "2020-08-04T20:10:08.049948Z",
     "start_time": "2020-08-04T20:10:08.046923Z"
    }
   },
   "outputs": [],
   "source": [
    "coordcuritiba['lat'] = -25.4284"
   ]
  },
  {
   "cell_type": "code",
   "execution_count": 216,
   "metadata": {
    "ExecuteTime": {
     "end_time": "2020-08-04T20:10:10.711169Z",
     "start_time": "2020-08-04T20:10:10.708175Z"
    }
   },
   "outputs": [
    {
     "data": {
      "text/plain": [
       "{'lat': -25.4284}"
      ]
     },
     "execution_count": 216,
     "metadata": {},
     "output_type": "execute_result"
    }
   ],
   "source": [
    "coordcuritiba"
   ]
  },
  {
   "cell_type": "code",
   "execution_count": 219,
   "metadata": {
    "ExecuteTime": {
     "end_time": "2020-08-04T20:11:50.100738Z",
     "start_time": "2020-08-04T20:11:50.097712Z"
    }
   },
   "outputs": [],
   "source": [
    "coordcuritiba['long'] = 49.2733"
   ]
  },
  {
   "cell_type": "code",
   "execution_count": 220,
   "metadata": {
    "ExecuteTime": {
     "end_time": "2020-08-04T20:11:50.481378Z",
     "start_time": "2020-08-04T20:11:50.476390Z"
    }
   },
   "outputs": [
    {
     "data": {
      "text/plain": [
       "{'lat': -25.4284, 'long': 49.2733}"
      ]
     },
     "execution_count": 220,
     "metadata": {},
     "output_type": "execute_result"
    }
   ],
   "source": [
    "coordcuritiba"
   ]
  },
  {
   "cell_type": "markdown",
   "metadata": {},
   "source": [
    "O comportamento do dicionário acima nos mostra que, ao declararmos uma chave anteriormente inexistente, atribuindo a ela um valor, por meio do operador de atribuição \"=\", o par chave-valor passa a existir no dicionário. Se o par já existisse, essa ação atualizaria o seu valor. Uma oportunidade para testar isso está em corrigir a longitude de Curitiba, de 49.2733 para -49.2733."
   ]
  },
  {
   "cell_type": "code",
   "execution_count": 221,
   "metadata": {
    "ExecuteTime": {
     "end_time": "2020-08-04T20:15:15.197365Z",
     "start_time": "2020-08-04T20:15:15.192378Z"
    }
   },
   "outputs": [],
   "source": [
    "coordcuritiba['long'] = -49.2733"
   ]
  },
  {
   "cell_type": "code",
   "execution_count": 222,
   "metadata": {
    "ExecuteTime": {
     "end_time": "2020-08-04T20:15:18.394849Z",
     "start_time": "2020-08-04T20:15:18.389864Z"
    }
   },
   "outputs": [
    {
     "data": {
      "text/plain": [
       "{'lat': -25.4284, 'long': -49.2733}"
      ]
     },
     "execution_count": 222,
     "metadata": {},
     "output_type": "execute_result"
    }
   ],
   "source": [
    "coordcuritiba"
   ]
  },
  {
   "cell_type": "markdown",
   "metadata": {},
   "source": [
    "Nas duas células adiannte, insira no dicionário coordcuritiba a chave 'alt', com o valor 935, e a chave 'pop', com valor 1933105. Em seguida, rode a terceira célula da sequência para verificar se a operação funcionou corretamente"
   ]
  },
  {
   "cell_type": "code",
   "execution_count": null,
   "metadata": {},
   "outputs": [],
   "source": []
  },
  {
   "cell_type": "code",
   "execution_count": null,
   "metadata": {},
   "outputs": [],
   "source": []
  },
  {
   "cell_type": "code",
   "execution_count": null,
   "metadata": {},
   "outputs": [],
   "source": [
    "coordcuritiba"
   ]
  }
 ],
 "metadata": {
  "kernelspec": {
   "display_name": "aulas",
   "language": "python",
   "name": "aulas"
  },
  "language_info": {
   "codemirror_mode": {
    "name": "ipython",
    "version": 3
   },
   "file_extension": ".py",
   "mimetype": "text/x-python",
   "name": "python",
   "nbconvert_exporter": "python",
   "pygments_lexer": "ipython3",
   "version": "3.6.10"
  },
  "toc": {
   "base_numbering": 1,
   "nav_menu": {},
   "number_sections": true,
   "sideBar": true,
   "skip_h1_title": false,
   "title_cell": "Table of Contents",
   "title_sidebar": "Contents",
   "toc_cell": false,
   "toc_position": {},
   "toc_section_display": true,
   "toc_window_display": true
  }
 },
 "nbformat": 4,
 "nbformat_minor": 4
}
