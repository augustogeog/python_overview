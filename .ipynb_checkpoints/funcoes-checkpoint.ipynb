{
 "cells": [
  {
   "cell_type": "markdown",
   "metadata": {},
   "source": [
    "## Funções Python"
   ]
  },
  {
   "cell_type": "markdown",
   "metadata": {},
   "source": [
    "Até aqui, estudamos sobre tipos básicos em Python e operadores. Durante esses estudos, nós brevemente observamos alguns objetos que fazem certas operações, rotinas, ou que tomam retornam um valor de acordo com um __input__ por nós inserido. Vejamos esses:\n",
    "\n",
    "* print - apresenta na tela os dados inseridos como argumentos\n",
    "* type - retorna o tipo de um determinado objeto inserido como argumento\n",
    "* id - retorna o **_identity number_** de determinado objeto\n",
    "\n"
   ]
  },
  {
   "cell_type": "markdown",
   "metadata": {},
   "source": [
    "Neste notebok vamos avançar sobre os objetos Python que são responsáveis pelas ações mais diversas, as funções. Uma função python é um bloco de código que roda uma determinada operação quando chamada. As funções podem obter dados como seus inputs, chamados parâmetros, retornando outputs resultantes de operações com base nesses parâmetros.\n",
    "\n",
    "Algus detalhes sobre funções\n",
    "\n",
    "* uma função é chamada quando seu nome é apresentado seguido por parênteses\n",
    "* uma função permite que uma determinada rotina, dada por uma sequência de caracteres\n",
    "\n",
    "\n",
    "Observações: em certas referências argumentos e parâmetros são utilizados de maneira intercambiável, enquanto em outras, esses dois termos significam coisas diferentes. Por ora, vamos considerá-los a mesma coisa, por adaptação didática, sabendo que, para certas aplicações, como em Machine Learning, conforme vamos ganhando conhecimento sobre o uso da linguagem, torna-se conveniente fazer a distintação de ambos os termos."
   ]
  },
  {
   "cell_type": "markdown",
   "metadata": {},
   "source": [
    "uma função permite que uma determinada rotina, dada por uma sequência de operações, possa ser customizada, fechada em uma determinada palavra, garantindo que tenhamos consistência das operações e reprodutibilidade, sem que tenhamos que copiar todas as pequenas tarefas a cada vez que queiramos implementar uma dada rotina."
   ]
  },
  {
   "cell_type": "markdown",
   "metadata": {
    "ExecuteTime": {
     "end_time": "2020-09-02T16:23:21.016379Z",
     "start_time": "2020-09-02T16:23:21.011385Z"
    }
   },
   "source": [
    "uma função é chamda"
   ]
  },
  {
   "cell_type": "markdown",
   "metadata": {},
   "source": [
    "Em Python nós podemos encontrar 3 tipos de funções\n",
    "\n",
    "* funções nativas (_built-in functions_)\n",
    "* funções definidas por usuários\n",
    "* funções anônimas"
   ]
  },
  {
   "cell_type": "markdown",
   "metadata": {},
   "source": [
    "### Funções Nativas"
   ]
  },
  {
   "cell_type": "markdown",
   "metadata": {},
   "source": [
    "As funções nativas são aquelas que estão disponíveis diretamente a partir da linguagem Python. A depender da versão que estamos usando, chegamos a ter aproximadamente 70 funções nativas.\n",
    "\n",
    "O importante aqui é que decoremos todas elas sem exceção! Certo? Errado!\n",
    "\n",
    "Não precisamos ter isso decorado. Quando precisarmos de uma determinada funcionalidade, podemos consultar na internet se existe uma função que já dá conta do recado. Caso não exista nativamente, pode ser que exista um pacote que possamos importar (assunto para outra conversa) ou pode ser que devamos desenvolver nossas próprias funções.\n",
    "\n",
    "Algumas funções, no entanto, são bastante comuns"
   ]
  },
  {
   "cell_type": "code",
   "execution_count": 6,
   "metadata": {
    "ExecuteTime": {
     "end_time": "2020-09-02T16:55:37.956659Z",
     "start_time": "2020-09-02T16:55:37.952665Z"
    }
   },
   "outputs": [
    {
     "data": {
      "text/plain": [
       "builtin_function_or_method"
      ]
     },
     "execution_count": 6,
     "metadata": {},
     "output_type": "execute_result"
    }
   ],
   "source": [
    "type(abs)"
   ]
  },
  {
   "cell_type": "code",
   "execution_count": 10,
   "metadata": {
    "ExecuteTime": {
     "end_time": "2020-09-02T17:11:35.210060Z",
     "start_time": "2020-09-02T17:11:35.204076Z"
    }
   },
   "outputs": [
    {
     "data": {
      "text/plain": [
       "1"
      ]
     },
     "execution_count": 10,
     "metadata": {},
     "output_type": "execute_result"
    }
   ],
   "source": [
    "len('a')"
   ]
  },
  {
   "cell_type": "markdown",
   "metadata": {},
   "source": [
    "Para faciliatar nosso contato com algumas funções disponíveis nativamente em Python, podemos agrupá-las nas seguintes categorias de funcionalidades: \n",
    "\n",
    "* Funções lógico-numéricas\n",
    "* Ajuda e consulta de objetos e módulos\n",
    "* Interatividade do usuário\n",
    "* Iterador\n",
    "* Funções para consulta e alteração de objetos compostos\n",
    "* Abertura de Arquivos\n",
    "* Diversas\n",
    "\n",
    "Essas não são categorias existentes na documentação oficial do Python, mas apenas grupos que podemos utilizar adiannte para uma exposição mais didática das funções. Para cada uma das funções, é recomendável que façamos também alguns testes por conta própria, nas células em branco, a fim de nos familiarizarmos com esses objetos."
   ]
  },
  {
   "cell_type": "markdown",
   "metadata": {},
   "source": [
    "## Funções lógico-numéricas:"
   ]
  },
  {
   "cell_type": "markdown",
   "metadata": {},
   "source": [
    "As funções que aqui chamamos de lógico-numéricas apresentam funcionalidades complementares àquelas dos operadores aritméticos e lógicos.\n",
    "\n",
    "* abs()\n",
    "* all()\n",
    "* any()\n",
    "* sum()\n",
    "* pow()"
   ]
  },
  {
   "cell_type": "markdown",
   "metadata": {},
   "source": [
    "A função abs() retorna o valor absoluto de um número, ou seja, a distâcia desse número ao zero. Com isso, valores negativos retornam seu coorrespondente valor positivo."
   ]
  },
  {
   "cell_type": "code",
   "execution_count": 12,
   "metadata": {
    "ExecuteTime": {
     "end_time": "2020-09-02T19:48:47.083892Z",
     "start_time": "2020-09-02T19:48:47.078114Z"
    }
   },
   "outputs": [
    {
     "name": "stdout",
     "output_type": "stream",
     "text": [
      "1 1\n"
     ]
    }
   ],
   "source": [
    "print(abs(1), abs(-1))"
   ]
  },
  {
   "cell_type": "code",
   "execution_count": 30,
   "metadata": {
    "ExecuteTime": {
     "end_time": "2020-09-02T20:39:16.276510Z",
     "start_time": "2020-09-02T20:39:16.267295Z"
    }
   },
   "outputs": [],
   "source": []
  },
  {
   "cell_type": "markdown",
   "metadata": {},
   "source": [
    "A função all() verifica se todos os elementos de um objeto iterável (por ora pensemos em objeto composto) são verdadeiros. Por sua vez, a função any() verifica se ao menos um elemento de objeto iterável é verdadeiro."
   ]
  },
  {
   "cell_type": "code",
   "execution_count": 22,
   "metadata": {
    "ExecuteTime": {
     "end_time": "2020-09-02T20:30:13.872928Z",
     "start_time": "2020-09-02T20:30:13.864770Z"
    }
   },
   "outputs": [
    {
     "name": "stdout",
     "output_type": "stream",
     "text": [
      "True True False False True\n"
     ]
    }
   ],
   "source": [
    "#Em todos os exemplos somente quando Em todos os exemploss os valores podem corresponder a True, a consulta all() retorna True\n",
    "print(all([1,1,1]), all([1,1,1]), all([1,1,None]), all([True, True, False]), all([1, 2, 3]))"
   ]
  },
  {
   "cell_type": "code",
   "execution_count": 23,
   "metadata": {
    "ExecuteTime": {
     "end_time": "2020-09-02T20:32:27.154933Z",
     "start_time": "2020-09-02T20:32:27.146171Z"
    }
   },
   "outputs": [
    {
     "name": "stdout",
     "output_type": "stream",
     "text": [
      "True True True True\n"
     ]
    }
   ],
   "source": [
    "#Em todos os exemplos, basta que um valor corresponda a True para a consulta all() retornar True\n",
    "print(any([1,1,1]), any([1,1,1]), any([1,1,None]), any([True, True, False]))"
   ]
  },
  {
   "cell_type": "code",
   "execution_count": null,
   "metadata": {},
   "outputs": [],
   "source": []
  },
  {
   "cell_type": "code",
   "execution_count": null,
   "metadata": {},
   "outputs": [],
   "source": []
  },
  {
   "cell_type": "code",
   "execution_count": null,
   "metadata": {},
   "outputs": [],
   "source": []
  },
  {
   "cell_type": "markdown",
   "metadata": {
    "ExecuteTime": {
     "end_time": "2020-09-02T19:35:54.111478Z",
     "start_time": "2020-09-02T19:35:54.100237Z"
    }
   },
   "source": [
    "A função round() arredonda valores numéricos. Dois argumentos podem ser passados como argumentos, valor a ser arredondado e número de casas decimais. Se apenas o valor a ser arredondado for declarado na função, o retorno é um valor inteiro, como objeto de tipo integer. Se o segundo valor for declarado, o retorno será um float, com o correspondente número de casas decimais"
   ]
  },
  {
   "cell_type": "code",
   "execution_count": 31,
   "metadata": {
    "ExecuteTime": {
     "end_time": "2020-09-02T20:42:42.549700Z",
     "start_time": "2020-09-02T20:42:42.542930Z"
    }
   },
   "outputs": [
    {
     "data": {
      "text/plain": [
       "1"
      ]
     },
     "execution_count": 31,
     "metadata": {},
     "output_type": "execute_result"
    }
   ],
   "source": [
    "round(0.9)"
   ]
  },
  {
   "cell_type": "code",
   "execution_count": 33,
   "metadata": {
    "ExecuteTime": {
     "end_time": "2020-09-02T20:43:33.051101Z",
     "start_time": "2020-09-02T20:43:33.044294Z"
    }
   },
   "outputs": [
    {
     "data": {
      "text/plain": [
       "0"
      ]
     },
     "execution_count": 33,
     "metadata": {},
     "output_type": "execute_result"
    }
   ],
   "source": [
    "round(0.1)"
   ]
  },
  {
   "cell_type": "markdown",
   "metadata": {},
   "source": []
  },
  {
   "cell_type": "code",
   "execution_count": 36,
   "metadata": {
    "ExecuteTime": {
     "end_time": "2020-09-02T20:58:28.634177Z",
     "start_time": "2020-09-02T20:58:28.625591Z"
    }
   },
   "outputs": [
    {
     "data": {
      "text/plain": [
       "0.0"
      ]
     },
     "execution_count": 36,
     "metadata": {},
     "output_type": "execute_result"
    }
   ],
   "source": [
    "round(0.051, 0)"
   ]
  },
  {
   "cell_type": "code",
   "execution_count": 37,
   "metadata": {
    "ExecuteTime": {
     "end_time": "2020-09-02T21:01:05.808291Z",
     "start_time": "2020-09-02T21:01:05.801332Z"
    }
   },
   "outputs": [
    {
     "data": {
      "text/plain": [
       "0.1"
      ]
     },
     "execution_count": 37,
     "metadata": {},
     "output_type": "execute_result"
    }
   ],
   "source": [
    "round(0.051, 1)"
   ]
  },
  {
   "cell_type": "code",
   "execution_count": null,
   "metadata": {
    "ExecuteTime": {
     "end_time": "2020-09-02T19:35:54.111478Z",
     "start_time": "2020-09-02T19:35:54.100237Z"
    }
   },
   "outputs": [],
   "source": [
    "Python round() rounds a number to specified decimals"
   ]
  },
  {
   "cell_type": "code",
   "execution_count": null,
   "metadata": {
    "ExecuteTime": {
     "end_time": "2020-09-02T19:35:54.111478Z",
     "start_time": "2020-09-02T19:35:54.100237Z"
    }
   },
   "outputs": [],
   "source": [
    "Python sum() Adds items of an Iterable"
   ]
  },
  {
   "cell_type": "code",
   "execution_count": null,
   "metadata": {
    "ExecuteTime": {
     "end_time": "2020-09-02T19:35:54.111478Z",
     "start_time": "2020-09-02T19:35:54.100237Z"
    }
   },
   "outputs": [],
   "source": [
    "Python pow() - returns the power of a number"
   ]
  },
  {
   "cell_type": "markdown",
   "metadata": {},
   "source": [
    "## Ajuda e consulta de objetos e módulos\n",
    "\n",
    "* Python dir() - Tries to Return Attributes of Object\n",
    "* Python help() - Invokes the built-in Help System\n",
    "* Python type() - Returns the type of the object\n",
    "* Python id() - Returns Identify of an Object"
   ]
  },
  {
   "cell_type": "code",
   "execution_count": null,
   "metadata": {},
   "outputs": [],
   "source": [
    "Python dir() - Tries to Return Attributes of Object\n",
    "Python help() - Invokes the built-in Help System (?, ??)\n",
    "Python type() - Returns the type of the object\n",
    "Python id() - Returns Identify of an Object"
   ]
  },
  {
   "cell_type": "markdown",
   "metadata": {},
   "source": [
    "## Interatividade do usuário\n",
    "\n",
    "* Python print() - Prints the Given Object\n",
    "* Python input() - reads and returns a line of string"
   ]
  },
  {
   "cell_type": "code",
   "execution_count": null,
   "metadata": {},
   "outputs": [],
   "source": [
    "Python print() - Prints the Given Object\n",
    "Python input() - reads and returns a line of string"
   ]
  },
  {
   "cell_type": "markdown",
   "metadata": {},
   "source": [
    "## Funções para consulta e alteração de objetos compostos\n",
    "* Python reversed() - returns the reversed iterator of a sequence\n",
    "* returns the reversed iterator of a sequence\n",
    "* Python slice() returns a slice object\n",
    "* Python sorted() - returns a sorted list from the given iterable\n",
    "* Python len() - Returns Length of an Object\n",
    "* Python max() - returns the largest item\n",
    "* Python min() - returns the smallest value"
   ]
  },
  {
   "cell_type": "code",
   "execution_count": null,
   "metadata": {},
   "outputs": [],
   "source": [
    "Python reversed() - returns the reversed iterator of a sequence\n",
    "returns the reversed iterator of a sequence\n",
    "Python slice() returns a slice object\n",
    "Python sorted() - returns a sorted list from the given iterable\n",
    "Python len() - Returns Length of an Object\n",
    "Python max() - returns the largest item\n",
    "\n",
    "Python min() - returns the smallest value\n"
   ]
  },
  {
   "cell_type": "markdown",
   "metadata": {},
   "source": [
    "## Iterador\n",
    "\n",
    "* Python next() - Retrieves next item from the iterator\n",
    "* Python iter() - returns an iterator\n",
    "* Python zip() - Returns an iterator of tuples\n",
    "* Python enumerate() - Returns an Enumerate Object"
   ]
  },
  {
   "cell_type": "code",
   "execution_count": null,
   "metadata": {},
   "outputs": [],
   "source": [
    "* Python next() - Retrieves next item from the iterator\n",
    "* Python iter() - returns an iterator\n",
    "* Python zip() - Returns an iterator of tuples\n",
    "* Python enumerate() - Returns an Enumerate Object"
   ]
  },
  {
   "cell_type": "markdown",
   "metadata": {},
   "source": [
    "## Abertura de Arquivos\n",
    "Python open() - Returns a file object"
   ]
  },
  {
   "cell_type": "code",
   "execution_count": null,
   "metadata": {},
   "outputs": [],
   "source": [
    "Python open() - Returns a file object"
   ]
  },
  {
   "cell_type": "markdown",
   "metadata": {},
   "source": [
    "## Diversos\n",
    "\n",
    "Python filter() - constructs iterator from elements which are true\n",
    "\n",
    "Python map() - Applies Function and Returns a List"
   ]
  },
  {
   "cell_type": "code",
   "execution_count": null,
   "metadata": {},
   "outputs": [],
   "source": [
    "Python filter() - constructs iterator from elements which are true\n",
    "\n",
    "Python map() - Applies Function and Returns a List"
   ]
  },
  {
   "cell_type": "markdown",
   "metadata": {},
   "source": [
    "Python range()\n",
    "return sequence of integers between start and stop"
   ]
  }
 ],
 "metadata": {
  "kernelspec": {
   "display_name": "aulas",
   "language": "python",
   "name": "aulas"
  },
  "language_info": {
   "codemirror_mode": {
    "name": "ipython",
    "version": 3
   },
   "file_extension": ".py",
   "mimetype": "text/x-python",
   "name": "python",
   "nbconvert_exporter": "python",
   "pygments_lexer": "ipython3",
   "version": "3.6.10"
  },
  "toc": {
   "base_numbering": 1,
   "nav_menu": {},
   "number_sections": true,
   "sideBar": true,
   "skip_h1_title": false,
   "title_cell": "Table of Contents",
   "title_sidebar": "Contents",
   "toc_cell": false,
   "toc_position": {},
   "toc_section_display": true,
   "toc_window_display": false
  }
 },
 "nbformat": 4,
 "nbformat_minor": 4
}
