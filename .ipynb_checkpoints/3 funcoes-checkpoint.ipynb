{
 "cells": [
  {
   "cell_type": "markdown",
   "metadata": {},
   "source": [
    "## Funções Python"
   ]
  },
  {
   "cell_type": "markdown",
   "metadata": {},
   "source": [
    "Até aqui, estudamos sobre tipos básicos em Python e operadores. Durante esses estudos, nós brevemente observamos alguns objetos que fazem certas operações, rotinas, ou que tomam retornam um valor de acordo com um __input__ por nós inserido. Vejamos esses:\n",
    "\n",
    "* print - apresenta na tela os dados inseridos como argumentos\n",
    "* type - retorna o tipo de um determinado objeto inserido como argumento\n",
    "* id - retorna o **_identity number_** de determinado objeto\n",
    "\n"
   ]
  },
  {
   "cell_type": "markdown",
   "metadata": {},
   "source": [
    "Neste notebok vamos avançar sobre os objetos Python que são responsáveis pelas ações mais diversas, as funções. Uma função python é um bloco de código que roda uma determinada operação quando chamada. As funções podem obter dados como seus inputs, chamados parâmetros, retornando outputs resultantes de operações com base nesses parâmetros.\n",
    "\n",
    "Algus detalhes sobre funções\n",
    "\n",
    "* uma função é chamada quando seu nome é apresentado seguido por parênteses\n",
    "* uma função permite que uma determinada rotina, dada por uma sequência de caracteres\n",
    "\n",
    "\n",
    "Observações: em certas referências argumentos e parâmetros são utilizados de maneira intercambiável, enquanto em outras, esses dois termos significam coisas diferentes. Por ora, vamos considerá-los a mesma coisa, por adaptação didática, sabendo que, para certas aplicações, como em Machine Learning, conforme vamos ganhando conhecimento sobre o uso da linguagem, torna-se conveniente fazer a distintação de ambos os termos."
   ]
  },
  {
   "cell_type": "markdown",
   "metadata": {},
   "source": [
    "uma função permite que uma determinada rotina, dada por uma sequência de operações, possa ser customizada, fechada em uma determinada palavra, garantindo que tenhamos consistência das operações e reprodutibilidade, sem que tenhamos que copiar todas as pequenas tarefas a cada vez que queiramos implementar uma dada rotina."
   ]
  },
  {
   "cell_type": "markdown",
   "metadata": {
    "ExecuteTime": {
     "end_time": "2020-09-02T16:23:21.016379Z",
     "start_time": "2020-09-02T16:23:21.011385Z"
    }
   },
   "source": [
    "uma função é chamda"
   ]
  },
  {
   "cell_type": "markdown",
   "metadata": {},
   "source": [
    "Em Python nós podemos encontrar 3 tipos de funções\n",
    "\n",
    "* funções nativas (_built-in functions_)\n",
    "* funções definidas por usuários\n",
    "* funções anônimas"
   ]
  },
  {
   "cell_type": "markdown",
   "metadata": {},
   "source": [
    "### Funções Nativas"
   ]
  },
  {
   "cell_type": "markdown",
   "metadata": {},
   "source": [
    "As funções nativas são aquelas que estão disponíveis diretamente a partir da linguagem Python. A depender da versão que estamos usando, chegamos a ter aproximadamente 70 funções nativas.\n",
    "\n",
    "O importante aqui é que decoremos todas elas sem exceção! Certo? Errado!\n",
    "\n",
    "Não precisamos ter isso decorado. Quando precisarmos de uma determinada funcionalidade, podemos consultar na internet se existe uma função que já dá conta do recado. Caso não exista nativamente, pode ser que exista um pacote que possamos importar (assunto para outra conversa) ou pode ser que devamos desenvolver nossas próprias funções.\n",
    "\n",
    "Ao final dessa bateria de exemplos, nosso objetivo é criar uma certa intui\n",
    "\n",
    "* uma intuição sobre o tipo de soluções possíveis com funções nativas;\n",
    "* entendimento do procedimento de chamada (call) de funções;\n",
    "* noção da operação de algumas funções de uso bastante comum;\n",
    "\n",
    "\n",
    "Algumas funções, no entanto, são bastante comuns"
   ]
  },
  {
   "cell_type": "markdown",
   "metadata": {},
   "source": [
    "Para faciliatar nosso contato com algumas funções disponíveis nativamente em Python, podemos agrupá-las nas seguintes categorias de funcionalidades: \n",
    "\n",
    "* Funções lógico-numéricas\n",
    "* Ajuda e consulta de objetos e módulos\n",
    "* Interatividade do usuário\n",
    "* Iterador\n",
    "* Funções para consulta e alteração de objetos compostos\n",
    "* Diversas\n",
    "\n",
    "Essas não são categorias existentes na documentação oficial do Python, mas apenas grupos que podemos utilizar adiannte para uma exposição mais didática das funções. Para cada uma das funções, é recomendável que façamos também alguns testes por conta própria, nas células em branco, a fim de nos familiarizarmos com esses objetos."
   ]
  },
  {
   "cell_type": "markdown",
   "metadata": {},
   "source": [
    "## Funções lógico-numéricas:"
   ]
  },
  {
   "cell_type": "markdown",
   "metadata": {},
   "source": [
    "As funções que aqui chamamos de lógico-numéricas apresentam funcionalidades complementares àquelas dos operadores aritméticos e lógicos.\n",
    "\n",
    "* abs()\n",
    "* all()\n",
    "* any()\n",
    "* sum()"
   ]
  },
  {
   "cell_type": "markdown",
   "metadata": {},
   "source": [
    "A função **abs()** retorna o valor absoluto de um número, ou seja, a distâcia desse número ao zero. Com isso, valores negativos retornam seu coorrespondente valor positivo.\n",
    "\n",
    "Suponha que você precisa garantir que o resultado de uma função seja positivo sempre (um sistema randômico que tenta emular a compra de apartamentos em uma cidade que não permite imóveis habitacionais no subsolo, por exemplo). Pode ser que nesse seus sitema razoavelmente complexo, haja a necessidade de usar função **abs()** em algum momento."
   ]
  },
  {
   "cell_type": "code",
   "execution_count": 12,
   "metadata": {
    "ExecuteTime": {
     "end_time": "2020-09-02T19:48:47.083892Z",
     "start_time": "2020-09-02T19:48:47.078114Z"
    }
   },
   "outputs": [
    {
     "name": "stdout",
     "output_type": "stream",
     "text": [
      "1 1\n"
     ]
    }
   ],
   "source": [
    "print(abs(1), abs(-1))"
   ]
  },
  {
   "cell_type": "code",
   "execution_count": 30,
   "metadata": {
    "ExecuteTime": {
     "end_time": "2020-09-02T20:39:16.276510Z",
     "start_time": "2020-09-02T20:39:16.267295Z"
    }
   },
   "outputs": [],
   "source": []
  },
  {
   "cell_type": "markdown",
   "metadata": {},
   "source": [
    "A função all() verifica se todos os elementos de um objeto iterável (por ora pensemos em objeto composto) são verdadeiros. Por sua vez, a função any() verifica se ao menos um elemento de objeto iterável é verdadeiro."
   ]
  },
  {
   "cell_type": "code",
   "execution_count": 22,
   "metadata": {
    "ExecuteTime": {
     "end_time": "2020-09-02T20:30:13.872928Z",
     "start_time": "2020-09-02T20:30:13.864770Z"
    }
   },
   "outputs": [
    {
     "name": "stdout",
     "output_type": "stream",
     "text": [
      "True True False False True\n"
     ]
    }
   ],
   "source": [
    "#Em todos os exemplos somente quando Em todos os exemploss os valores podem corresponder a True, a consulta all() retorna True\n",
    "print(all([1,1,1]), all([1,1,1]), all([1,1,None]), all([True, True, False]), all([1, 2, 3]))"
   ]
  },
  {
   "cell_type": "code",
   "execution_count": 23,
   "metadata": {
    "ExecuteTime": {
     "end_time": "2020-09-02T20:32:27.154933Z",
     "start_time": "2020-09-02T20:32:27.146171Z"
    }
   },
   "outputs": [
    {
     "name": "stdout",
     "output_type": "stream",
     "text": [
      "True True True True\n"
     ]
    }
   ],
   "source": [
    "#Em todos os exemplos, basta que um valor corresponda a True para a consulta all() retornar True\n",
    "print(any([1,1,1]), any([1,1,1]), any([1,1,None]), any([True, True, False]))"
   ]
  },
  {
   "cell_type": "markdown",
   "metadata": {},
   "source": [
    "Se um criarmos um jogo RPG, pode ser que façamos um desenvolvimento em que a personagem só possa passar de um determinado ponto se todas as condições listadas forem cumpridas. Nesa circunstância, a função **all** ajudar a elaborar essa funcionalidade. Por outro lado, se, para ter acesso a uma poção, baste que o herói cumpra ao menos uma tarefa da lista, a função **any** certamnte vai ser parte desse código.\n",
    "Vejamos se conseguimos replicar abaixo a lógica de aplicação dessas funções: \n",
    "\n",
    "nomedafuncao(lista/tupla/set/ou outros objetos compostos com elementos que podem ser reduzidos a True ou False)"
   ]
  },
  {
   "cell_type": "code",
   "execution_count": null,
   "metadata": {},
   "outputs": [],
   "source": []
  },
  {
   "cell_type": "code",
   "execution_count": null,
   "metadata": {},
   "outputs": [],
   "source": []
  },
  {
   "cell_type": "markdown",
   "metadata": {
    "ExecuteTime": {
     "end_time": "2020-09-02T19:35:54.111478Z",
     "start_time": "2020-09-02T19:35:54.100237Z"
    }
   },
   "source": [
    "Quando obtemos dados de fontes externas, armazenados em diferentes formatos, por vezes o número de casas decimais é inadequado para uma visualização mais clara. Nesse momento, entra a função **round()**. A função round() arredonda valores numéricos. Dois argumentos podem ser passados como argumentos, valor a ser arredondado e número de casas decimais. Se apenas o valor a ser arredondado for declarado na função, o retorno é um valor inteiro, como objeto de tipo integer. Se o segundo valor for declarado, o retorno será um float, com o correspondente número de casas decimais. Veja os exemplos abaixo e sinta-se a vontade para criar seus testes: "
   ]
  },
  {
   "cell_type": "code",
   "execution_count": 31,
   "metadata": {
    "ExecuteTime": {
     "end_time": "2020-09-02T20:42:42.549700Z",
     "start_time": "2020-09-02T20:42:42.542930Z"
    }
   },
   "outputs": [
    {
     "data": {
      "text/plain": [
       "1"
      ]
     },
     "execution_count": 31,
     "metadata": {},
     "output_type": "execute_result"
    }
   ],
   "source": [
    "round(0.9)"
   ]
  },
  {
   "cell_type": "code",
   "execution_count": 33,
   "metadata": {
    "ExecuteTime": {
     "end_time": "2020-09-02T20:43:33.051101Z",
     "start_time": "2020-09-02T20:43:33.044294Z"
    }
   },
   "outputs": [
    {
     "data": {
      "text/plain": [
       "0"
      ]
     },
     "execution_count": 33,
     "metadata": {},
     "output_type": "execute_result"
    }
   ],
   "source": [
    "round(0.1)"
   ]
  },
  {
   "cell_type": "code",
   "execution_count": 16,
   "metadata": {
    "ExecuteTime": {
     "end_time": "2020-09-03T13:00:18.997663Z",
     "start_time": "2020-09-03T13:00:18.992677Z"
    }
   },
   "outputs": [
    {
     "data": {
      "text/plain": [
       "0.0"
      ]
     },
     "execution_count": 16,
     "metadata": {},
     "output_type": "execute_result"
    }
   ],
   "source": [
    "round(0.0519, 0)"
   ]
  },
  {
   "cell_type": "code",
   "execution_count": 17,
   "metadata": {
    "ExecuteTime": {
     "end_time": "2020-09-03T13:00:19.389450Z",
     "start_time": "2020-09-03T13:00:19.384463Z"
    }
   },
   "outputs": [
    {
     "data": {
      "text/plain": [
       "0.1"
      ]
     },
     "execution_count": 17,
     "metadata": {},
     "output_type": "execute_result"
    }
   ],
   "source": [
    "round(0.0519, 1)"
   ]
  },
  {
   "cell_type": "code",
   "execution_count": 18,
   "metadata": {
    "ExecuteTime": {
     "end_time": "2020-09-03T13:00:19.800023Z",
     "start_time": "2020-09-03T13:00:19.795006Z"
    }
   },
   "outputs": [
    {
     "data": {
      "text/plain": [
       "0.05"
      ]
     },
     "execution_count": 18,
     "metadata": {},
     "output_type": "execute_result"
    }
   ],
   "source": [
    "round(0.0519, 2)"
   ]
  },
  {
   "cell_type": "code",
   "execution_count": 19,
   "metadata": {
    "ExecuteTime": {
     "end_time": "2020-09-03T13:00:20.991546Z",
     "start_time": "2020-09-03T13:00:20.986585Z"
    }
   },
   "outputs": [
    {
     "data": {
      "text/plain": [
       "0.052"
      ]
     },
     "execution_count": 19,
     "metadata": {},
     "output_type": "execute_result"
    }
   ],
   "source": [
    "round(0.0519, 3)"
   ]
  },
  {
   "cell_type": "code",
   "execution_count": null,
   "metadata": {},
   "outputs": [],
   "source": []
  },
  {
   "cell_type": "code",
   "execution_count": null,
   "metadata": {},
   "outputs": [],
   "source": []
  },
  {
   "cell_type": "code",
   "execution_count": null,
   "metadata": {},
   "outputs": [],
   "source": []
  },
  {
   "cell_type": "markdown",
   "metadata": {},
   "source": [
    "O operador + faz a soma entre o valor a sua esquerda e a sua direita. E se quiséssemos fazer a soma de todos os valores em uma determinada coleção? Python resolve isso com a função sum()."
   ]
  },
  {
   "cell_type": "code",
   "execution_count": 28,
   "metadata": {
    "ExecuteTime": {
     "end_time": "2020-09-03T13:11:52.414317Z",
     "start_time": "2020-09-03T13:11:52.409323Z"
    }
   },
   "outputs": [
    {
     "name": "stdout",
     "output_type": "stream",
     "text": [
      "31\n"
     ]
    }
   ],
   "source": [
    "notas_primeiro_bimestre = tuple([10, 9, 7, 5])\n",
    "\n",
    "notas_total_1 = sum(notas_primeiro_bimestre)\n",
    "\n",
    "print(notas_total_1)"
   ]
  },
  {
   "cell_type": "code",
   "execution_count": 29,
   "metadata": {
    "ExecuteTime": {
     "end_time": "2020-09-03T13:12:00.186403Z",
     "start_time": "2020-09-03T13:12:00.182446Z"
    }
   },
   "outputs": [
    {
     "name": "stdout",
     "output_type": "stream",
     "text": [
      "38\n"
     ]
    }
   ],
   "source": [
    "notas_segundo_bimestre = list((10, 10, 9, 9))\n",
    "\n",
    "notas_total_2 = sum(notas_segundo_bimestre)\n",
    "\n",
    "print(notas_total_2)"
   ]
  },
  {
   "cell_type": "code",
   "execution_count": null,
   "metadata": {},
   "outputs": [],
   "source": []
  },
  {
   "cell_type": "code",
   "execution_count": null,
   "metadata": {},
   "outputs": [],
   "source": []
  },
  {
   "cell_type": "markdown",
   "metadata": {},
   "source": [
    "Python é capaz de operações matemáticas muito robustas. Seria, no entanto, muito custoso em termos de espaço na memória, trazer todas essas funcionalidades diretamente a partir da instalação básica da linguagem. Assim, é possível estender essas funcionalidades a partir da importação de pacotes, como o pacote math (parte da distribuição Python), ou de pacotes de terceiros. Por ora, no entanto, isso está fora do escopo das nossas conversas. A seu tempo, trataremos de pacotes."
   ]
  },
  {
   "cell_type": "markdown",
   "metadata": {},
   "source": [
    "## Ajuda e consulta de objetos e módulos"
   ]
  },
  {
   "cell_type": "markdown",
   "metadata": {},
   "source": [
    "Existem algumas funções que podem nos ajudar muito a entender o objeto com o qual estamos trabalhando, entre elas, destacamos as seguintes:\n",
    "\n",
    "* Python type() - Returns the type of the object\n",
    "* Python help() - Invokes the built-in Help System\n",
    "* Python dir() - Tries to Return Attributes of Object\n",
    "* Python id() - Returns Identify of an Object"
   ]
  },
  {
   "cell_type": "markdown",
   "metadata": {
    "ExecuteTime": {
     "end_time": "2020-09-03T13:36:27.563730Z",
     "start_time": "2020-09-03T13:36:27.556782Z"
    }
   },
   "source": [
    "Para avançar sobre as funções que fazem consultas e oferecem ajuda acerca de objetos, podemos começar com nossa velha amiga, a função type(). Essa função retorna o tipo de qualquer objeto python. Isso se refere não apenas os tipos básicos de dados simples e compostos que vimos (int, float, None, lista, dicionário, set, tupla etc.), mas mesmo funções, pacotes, módulos, classes e objetos que são criados por terceiros e que, de tão variados, não conseguimos nem antecipar aqui. Abaixo, está demonstrado como type consegue retornar inclusive que um objeto é um módulo, ou seja um extensão das funcionalidades do Python (os detalhes sobre módulos em Python serão vistos oportunamente)."
   ]
  },
  {
   "cell_type": "code",
   "execution_count": 51,
   "metadata": {
    "ExecuteTime": {
     "end_time": "2020-09-03T15:17:48.184537Z",
     "start_time": "2020-09-03T15:17:48.177556Z"
    }
   },
   "outputs": [],
   "source": [
    "# Abaixo estamos importando um pacote chamado math, que estende as funcionalidades em Python com mais objetos matemáticos\n",
    "import math"
   ]
  },
  {
   "cell_type": "code",
   "execution_count": 53,
   "metadata": {
    "ExecuteTime": {
     "end_time": "2020-09-03T15:21:02.798624Z",
     "start_time": "2020-09-03T15:21:02.795641Z"
    }
   },
   "outputs": [
    {
     "data": {
      "text/plain": [
       "module"
      ]
     },
     "execution_count": 53,
     "metadata": {},
     "output_type": "execute_result"
    }
   ],
   "source": [
    "# aqui usamos type para identificar que tipo de objeto é math\n",
    "type(math)"
   ]
  },
  {
   "cell_type": "markdown",
   "metadata": {},
   "source": [
    "Importante! Se queremos identificar se algum objeto é uma função, então, dentro da função type, nós não colocamos o objeto a consultar com a notação que chama a execução de funcionalidade, ou seja, seguido de parênteses. Nesse caso, nós colocamos somente o nome do objeto."
   ]
  },
  {
   "cell_type": "code",
   "execution_count": 46,
   "metadata": {
    "ExecuteTime": {
     "end_time": "2020-09-03T13:43:39.288906Z",
     "start_time": "2020-09-03T13:43:39.283952Z"
    }
   },
   "outputs": [
    {
     "data": {
      "text/plain": [
       "builtin_function_or_method"
      ]
     },
     "execution_count": 46,
     "metadata": {},
     "output_type": "execute_result"
    }
   ],
   "source": [
    "type(sum)"
   ]
  },
  {
   "cell_type": "code",
   "execution_count": 48,
   "metadata": {
    "ExecuteTime": {
     "end_time": "2020-09-03T13:44:06.289625Z",
     "start_time": "2020-09-03T13:44:06.285680Z"
    }
   },
   "outputs": [
    {
     "data": {
      "text/plain": [
       "builtin_function_or_method"
      ]
     },
     "execution_count": 48,
     "metadata": {},
     "output_type": "execute_result"
    }
   ],
   "source": [
    "type(print)"
   ]
  },
  {
   "cell_type": "code",
   "execution_count": 49,
   "metadata": {
    "ExecuteTime": {
     "end_time": "2020-09-03T13:44:16.042974Z",
     "start_time": "2020-09-03T13:44:16.038972Z"
    }
   },
   "outputs": [
    {
     "data": {
      "text/plain": [
       "builtin_function_or_method"
      ]
     },
     "execution_count": 49,
     "metadata": {},
     "output_type": "execute_result"
    }
   ],
   "source": [
    "type(dir)"
   ]
  },
  {
   "cell_type": "code",
   "execution_count": 50,
   "metadata": {
    "ExecuteTime": {
     "end_time": "2020-09-03T13:47:14.187587Z",
     "start_time": "2020-09-03T13:47:14.184594Z"
    }
   },
   "outputs": [],
   "source": [
    "# insira nesta célula o nome de alguma outra função que tenha aprendido e chame type() para conferir que é uma função\n",
    "\n"
   ]
  },
  {
   "cell_type": "markdown",
   "metadata": {},
   "source": [
    "Tratar dessa da função type é uma oportunidade para tratarmos da sequência de execução de funções em Python. Nossa linguagem Python faz procedimentos de forma sequencial. Se uma cadeia de funções é feita, com várias funções, uma dentro da outra, Python fará as operações desde a mais interna até a mais externa.\n",
    "\n",
    "Note, no exemplo abaixo, quatro operações. O construtor de objeto está criando um set com dois valores, 1 e 2, que, em seguida, estão sendo somados, com resultado igual a 3. Na sequência, o valor é elevado ao quadrado (pow é uma função que eleva o primeiro argumento ao segundo), o que resulta em 9. No final, esse número é um argumento dentro de uma função type, que retorna _int_, indicando que se trata de um integer."
   ]
  },
  {
   "cell_type": "code",
   "execution_count": 44,
   "metadata": {
    "ExecuteTime": {
     "end_time": "2020-09-03T13:36:48.613454Z",
     "start_time": "2020-09-03T13:36:48.608493Z"
    }
   },
   "outputs": [
    {
     "data": {
      "text/plain": [
       "int"
      ]
     },
     "execution_count": 44,
     "metadata": {},
     "output_type": "execute_result"
    }
   ],
   "source": [
    "type(pow(sum(set([1,2])),2))"
   ]
  },
  {
   "cell_type": "markdown",
   "metadata": {
    "ExecuteTime": {
     "end_time": "2020-09-03T13:43:48.362178Z",
     "start_time": "2020-09-03T13:43:48.357218Z"
    }
   },
   "source": [
    "Não há com o que se assustar aqui. Parece bastante óbvio que uma sequência de procedimentos seja encadeada para dar um resultado final. Isso, na verdade, é uma das bases sobre as quais podemos otimizar nossas rotinas e criar procedimentos rebuscados, que retornarão os resultados que desejamos no nosso fluxo de trabalho, seja no desenvolvimento de um software, na elaboração de uma análise técnica, ou em um estudo científico. \n",
    "Assim, esse tipo de encadeamento de função rapidamente se torna algo bastante corriqueiro na nossa prática, conforme avançarmos nos exemplos e na aplicação quotidiana do Python em nossos trabalhos. O que é mais importante aqui é notar que cada operação pode retornar um tipo diferente de objeto, de tal forma que a operação seguinte tem que ser condizente com esse objeto.\n",
    "No exemplo acima, primeiro tivemos um set, a operação sum pode ser aplicada a esse tipo de objeto. Em seguida, dado que sum retornou um número de tipo _integer_, a função pow pode utilizar esse valor como um de seus argumentos para operar uma potenciação. No fimm, a função type é bastante agnóstica, ou seja, consegue operar em qualquer tipo de objeto, de tal forma que ao receber o número resultante dessa cadeia de operações, ela simplesmente retorna seu tipo, como é esperado. \n",
    "\n",
    "**Assim, esteja alerta! As funções em Python dependem que seus argumentos sejam de tipos por elas suportados, para que funcionem!**\n",
    "\n",
    "Se estiver curioso sobre encadeamento de funções, pode utilizar as linhas abaixo para fazer alguns experimentos com as funções que já conhece. Tente algo como fazer uma lista com alguns valores (list), somar esses valores (sum), arredondar o número (round) e apresentar na tela o resultado (print)."
   ]
  },
  {
   "cell_type": "code",
   "execution_count": null,
   "metadata": {},
   "outputs": [],
   "source": []
  },
  {
   "cell_type": "code",
   "execution_count": null,
   "metadata": {},
   "outputs": [],
   "source": []
  },
  {
   "cell_type": "code",
   "execution_count": null,
   "metadata": {},
   "outputs": [],
   "source": []
  },
  {
   "cell_type": "markdown",
   "metadata": {},
   "source": [
    "Outra função importante para nos auxiliar é a função **help()**. Quando aplicada a outra função, a help apresenta a assinatura dessa função, ou seja, a estrutura que a forma, a partir do seu nome e da notação de chamada, parênteses, com os argumentos requeridos. Apresenta também o que é chamado de _docstring_, que é um texto inserido pelo desenvolvedor da função para auxiliar a identificar o que faz a função, quais os tipos de objetos ela aceita entre seus argumentos, além da forma como cada argumentoo pode incidir em diferentes funcionalidades e comportamentos.\n",
    "\n",
    "\n",
    "Vejamos abaixo, conforme o retorno de **help**, alguns detalhes sobre a função **sum**:"
   ]
  },
  {
   "cell_type": "code",
   "execution_count": 59,
   "metadata": {
    "ExecuteTime": {
     "end_time": "2020-09-03T16:33:10.503769Z",
     "start_time": "2020-09-03T16:33:10.499781Z"
    }
   },
   "outputs": [
    {
     "name": "stdout",
     "output_type": "stream",
     "text": [
      "Help on built-in function sum in module builtins:\n",
      "\n",
      "sum(iterable, start=0, /)\n",
      "    Return the sum of a 'start' value (default: 0) plus an iterable of numbers\n",
      "    \n",
      "    When the iterable is empty, return the start value.\n",
      "    This function is intended specifically for use with numeric values and may\n",
      "    reject non-numeric types.\n",
      "\n"
     ]
    }
   ],
   "source": [
    "help(sum)"
   ]
  },
  {
   "cell_type": "markdown",
   "metadata": {},
   "source": [
    "Conforme o help, sum:\n",
    "* é uma função built-in, ou seja, nativa do Python\n",
    "* retorna a soma dos valores de um objeto iterável (leia-se objeto composto, por ora)\n",
    "* soma todos os valores contidos no objeto iterável, mais um valor dado como segundo argumento, _start_ \n",
    "* tem 0 como valor padrão (_default_) para o segundo argumento, _start_\n",
    "* é voltada para valores numéricos e pode rejeitar tipos não-numéricos\n",
    "\n",
    "Com a função help, aprendemos algo coisas novas sobre sum. Uma delas é que ela não aceita como argumento apenas o objeto com os valores numéricos (argumento _iterable_ na assinatura da função), mas também um argumento _start_, que também é somado ao resultado. Vamos colocar esse conhecimento em prática, criando uma lista com 3 vezes o número dez e gerando a função sum, com o segundo argumento recebendo o número 5."
   ]
  },
  {
   "cell_type": "code",
   "execution_count": 85,
   "metadata": {
    "ExecuteTime": {
     "end_time": "2020-09-03T17:03:08.899392Z",
     "start_time": "2020-09-03T17:03:08.895403Z"
    }
   },
   "outputs": [],
   "source": [
    "lista10 = [10,10,10] "
   ]
  },
  {
   "cell_type": "code",
   "execution_count": 86,
   "metadata": {
    "ExecuteTime": {
     "end_time": "2020-09-03T17:03:09.279988Z",
     "start_time": "2020-09-03T17:03:09.276002Z"
    }
   },
   "outputs": [
    {
     "data": {
      "text/plain": [
       "35"
      ]
     },
     "execution_count": 86,
     "metadata": {},
     "output_type": "execute_result"
    }
   ],
   "source": [
    "sum(lista10, 5)"
   ]
  },
  {
   "cell_type": "markdown",
   "metadata": {},
   "source": [
    "Útil a função help! Tente aplicar também a outras funções, como print, round, pow, all e any. Tente aplicar também sobre a função id, sobre a qual discutimos brevemente na aula sobre tipos básicos de dados em Python."
   ]
  },
  {
   "cell_type": "code",
   "execution_count": null,
   "metadata": {},
   "outputs": [],
   "source": []
  },
  {
   "cell_type": "code",
   "execution_count": null,
   "metadata": {},
   "outputs": [],
   "source": []
  },
  {
   "cell_type": "code",
   "execution_count": null,
   "metadata": {},
   "outputs": [],
   "source": []
  },
  {
   "cell_type": "code",
   "execution_count": null,
   "metadata": {},
   "outputs": [],
   "source": []
  },
  {
   "cell_type": "markdown",
   "metadata": {},
   "source": []
  },
  {
   "cell_type": "markdown",
   "metadata": {
    "ExecuteTime": {
     "end_time": "2020-09-03T17:04:48.003818Z",
     "start_time": "2020-09-03T17:04:47.999860Z"
    }
   },
   "source": [
    "A função dir é ótima para nos ajudar a conhecer os objetos  em Python. Não podemos ir a fundo nela, uma vez que ela avança sobre temas sobre os quais não é recomendável que nos debrucemos. Podemos adiantar, no entanto, que, quando temos um pacote com diversos recursos, tais como novos tipos de dados (novas classes de objetos), novas funções e até outros subpacotes, a função dir toma o diretório em que essa estrutura está armazenada e retorna uma lista com todos esses objetos disponíveis. Trata-se de uma função muito boa para utilizar quando estamos conhecendo novos pacotes. \n",
    "\n",
    "Vejamos abaixo quantos recursos temos disponíveis no pacote math. "
   ]
  },
  {
   "cell_type": "code",
   "execution_count": 1,
   "metadata": {
    "ExecuteTime": {
     "end_time": "2020-09-03T19:24:09.706005Z",
     "start_time": "2020-09-03T19:24:09.694075Z"
    }
   },
   "outputs": [
    {
     "name": "stdout",
     "output_type": "stream",
     "text": [
      "['__doc__', '__loader__', '__name__', '__package__', '__spec__', 'acos', 'acosh', 'asin', 'asinh', 'atan', 'atan2', 'atanh', 'ceil', 'copysign', 'cos', 'cosh', 'degrees', 'e', 'erf', 'erfc', 'exp', 'expm1', 'fabs', 'factorial', 'floor', 'fmod', 'frexp', 'fsum', 'gamma', 'gcd', 'hypot', 'inf', 'isclose', 'isfinite', 'isinf', 'isnan', 'ldexp', 'lgamma', 'log', 'log10', 'log1p', 'log2', 'modf', 'nan', 'pi', 'pow', 'radians', 'sin', 'sinh', 'sqrt', 'tan', 'tanh', 'tau', 'trunc']\n"
     ]
    }
   ],
   "source": [
    "import math\n",
    "\n",
    "print(dir(math))"
   ]
  },
  {
   "cell_type": "markdown",
   "metadata": {},
   "source": [
    "## Interatividade do usuário"
   ]
  },
  {
   "cell_type": "markdown",
   "metadata": {},
   "source": [
    "Python apresenta duas funções muito importantes para interatividade com o usuário, print() e input(). A primeira serve para expor dados para o usuário, enquanto a segunda pode armazenar dados inseridos por ele, que servirão para processamento em nossos programas. Input é o tipo de função que estará por traz daquelas caixas de diálogo em _websites_ ou _apps_ de _smartphones_, a partir dos quais um terceiro, que não tem acesso ao código, pode inserir dados diversos, a partir dos quais os serviços de aplicação podem ser prestados.\n",
    "\n",
    "No Jupyter Notebook, estamos em um ambiente interativo. Assim, se errarmos o valor do input, a célula pode ficar em estado de execução indefinidamente. Por essa razão, se virmos que, ao lado da célula, o asterisco que indica \"em execução\" está presente continuamente ao chamar uma função input, a solução é selecionar o botão stop no topo da página, para interromper o _kernel_, ou seja a unidade de processamento dinâmico do Python para nosso ambiente de programação aqui.  \n",
    "\n",
    "Para vermos as duas ferramentas, input e print, em ação, vamos rodar a célula abaixo e inserir o que ela pedir na caixa de texto. "
   ]
  },
  {
   "cell_type": "code",
   "execution_count": 104,
   "metadata": {
    "ExecuteTime": {
     "end_time": "2020-09-03T17:25:52.241843Z",
     "start_time": "2020-09-03T17:25:48.182927Z"
    }
   },
   "outputs": [
    {
     "name": "stdout",
     "output_type": "stream",
     "text": [
      "insira seu nome completo: Augusto Pereira\n",
      "Olá, Augusto Pereira!\n",
      "eu acho Pereira um belo sobrenome!\n"
     ]
    }
   ],
   "source": [
    "nome = input('insira seu nome completo: ')\n",
    "print('Olá, ' + nome + '!')\n",
    "print('eu acho ' + nome.split()[-1] + ' um belo sobrenome!') #aqui split é um método colocado para separa cada palavra no espaço, a fim de que peguemos a última palavra [-1], que esperamos ser o sobrenome da pessoa"
   ]
  },
  {
   "cell_type": "markdown",
   "metadata": {},
   "source": [
    "Agora temos já conhecimento o suficiente para começarmos a fazer algumas coisas, como cálculo de índice de massa corporal (https://pt.wikipedia.org/wiki/%C3%8Dndice_de_massa_corporal). Não esqueça de lançar os valores com ponto como delimitador de decimais."
   ]
  },
  {
   "cell_type": "code",
   "execution_count": 118,
   "metadata": {
    "ExecuteTime": {
     "end_time": "2020-09-03T17:43:00.341604Z",
     "start_time": "2020-09-03T17:42:12.108184Z"
    }
   },
   "outputs": [
    {
     "name": "stdout",
     "output_type": "stream",
     "text": [
      "Insira seu peso em kg (ex: 73.3): 102.6\n",
      "Insira sua altura em metros (ex: 1.7): 1.82\n",
      "Seu IMC é: 30.97\n"
     ]
    }
   ],
   "source": [
    "peso = float(input('Insira seu peso em kg (ex: 73.3): ')) # Python usa . como delimitador de decimais, não esqueça!\n",
    "altura = float(input('Insira sua altura em metros (ex: 1.7): '))\n",
    "IMC = peso / altura ** 2\n",
    "print('Seu IMC é: ' + str(round(IMC,2))) # + concatena duas strings. IMC, arredondado por round, no entanto, é um número. Logo usamos str() para transformar em string."
   ]
  },
  {
   "cell_type": "code",
   "execution_count": null,
   "metadata": {},
   "outputs": [],
   "source": []
  },
  {
   "cell_type": "code",
   "execution_count": null,
   "metadata": {},
   "outputs": [],
   "source": []
  },
  {
   "cell_type": "code",
   "execution_count": null,
   "metadata": {},
   "outputs": [],
   "source": []
  },
  {
   "cell_type": "code",
   "execution_count": null,
   "metadata": {},
   "outputs": [],
   "source": []
  },
  {
   "cell_type": "code",
   "execution_count": null,
   "metadata": {},
   "outputs": [],
   "source": []
  },
  {
   "cell_type": "markdown",
   "metadata": {},
   "source": [
    "## Iterador\n",
    "\n",
    "* Python next() - Retrieves next item from the iterator\n",
    "* Python iter() - returns an iterator\n",
    "* Python zip() - Returns an iterator of tuples\n",
    "* Python enumerate() - Returns an Enumerate Object"
   ]
  },
  {
   "cell_type": "code",
   "execution_count": null,
   "metadata": {},
   "outputs": [],
   "source": [
    "* Python next() - Retrieves next item from the iterator\n",
    "* Python iter() - returns an iterator\n",
    "* Python zip() - Returns an iterator of tuples\n",
    "* Python enumerate() - Returns an Enumerate Object"
   ]
  },
  {
   "cell_type": "markdown",
   "metadata": {},
   "source": [
    "## Funções para consulta e alteração de objetos compostos\n",
    "* Python reversed() - returns the reversed iterator of a sequence\n",
    "* returns the reversed iterator of a sequence\n",
    "* Python slice() returns a slice object\n",
    "* Python sorted() - returns a sorted list from the given iterable\n",
    "* Python len() - Returns Length of an Object\n",
    "* Python max() - returns the largest item\n",
    "* Python min() - returns the smallest value"
   ]
  },
  {
   "cell_type": "markdown",
   "metadata": {},
   "source": [
    "Podemos utilizar reversed para inverter uma determinada sequência. O resultado é um objeto iterador, portanto precisamos transformá-lo em algum objeto composto em sequência, como uma lista. "
   ]
  },
  {
   "cell_type": "code",
   "execution_count": 23,
   "metadata": {
    "ExecuteTime": {
     "end_time": "2020-09-03T20:31:11.569647Z",
     "start_time": "2020-09-03T20:31:11.562006Z"
    }
   },
   "outputs": [
    {
     "name": "stdout",
     "output_type": "stream",
     "text": [
      "['cinco', 'quatro', 'três', 'dois', 'um']\n"
     ]
    }
   ],
   "source": [
    "lista_contagem = ['um', 'dois', 'três', 'quatro', 'cinco']\n",
    "\n",
    "lista_contagem_regressiva = list(reversed(lista_contagem))\n",
    "\n",
    "print(lista_contagem_regressiva)"
   ]
  },
  {
   "cell_type": "code",
   "execution_count": 25,
   "metadata": {
    "ExecuteTime": {
     "end_time": "2020-09-03T20:32:54.204615Z",
     "start_time": "2020-09-03T20:32:48.755860Z"
    }
   },
   "outputs": [
    {
     "name": "stdout",
     "output_type": "stream",
     "text": [
      "Insira seu nome: Augusto dos Santos Pereira\n"
     ]
    }
   ],
   "source": [
    "nome = str(input('Insira seu nome: '))"
   ]
  },
  {
   "cell_type": "code",
   "execution_count": 26,
   "metadata": {
    "ExecuteTime": {
     "end_time": "2020-09-03T20:33:39.249283Z",
     "start_time": "2020-09-03T20:33:39.240573Z"
    }
   },
   "outputs": [
    {
     "name": "stdout",
     "output_type": "stream",
     "text": [
      "['a', 'r', 'i', 'e', 'r', 'e', 'P', ' ', 's', 'o', 't', 'n', 'a', 'S', ' ', 's', 'o', 'd', ' ', 'o', 't', 's', 'u', 'g', 'u', 'A']\n"
     ]
    }
   ],
   "source": [
    "lista_nome_reverso = list(reversed(nome))\n",
    "\n",
    "print(lista_nome_reverso)"
   ]
  },
  {
   "cell_type": "markdown",
   "metadata": {},
   "source": [
    "Por sua vez, sorted() é uma função que permite ordenar uma sequência."
   ]
  },
  {
   "cell_type": "code",
   "execution_count": 29,
   "metadata": {
    "ExecuteTime": {
     "end_time": "2020-09-03T20:35:57.627886Z",
     "start_time": "2020-09-03T20:35:57.621916Z"
    }
   },
   "outputs": [
    {
     "name": "stdout",
     "output_type": "stream",
     "text": [
      "[' ', ' ', ' ', 'A', 'P', 'S', 'a', 'a', 'd', 'e', 'e', 'g', 'i', 'n', 'o', 'o', 'o', 'r', 'r', 's', 's', 's', 't', 't', 'u', 'u']\n"
     ]
    }
   ],
   "source": [
    "print(sorted(nome))"
   ]
  },
  {
   "cell_type": "markdown",
   "metadata": {
    "ExecuteTime": {
     "end_time": "2020-09-03T20:35:38.029697Z",
     "start_time": "2020-09-03T20:35:38.023093Z"
    }
   },
   "source": [
    "Observe adiante o que ocorre se repetirmos as funções imediatamente acima, mas com o argumento reverse=True dentro da função sorted.\n",
    "\n",
    "Dica: ~~print(sorted(nome, reverse=True))~~"
   ]
  },
  {
   "cell_type": "code",
   "execution_count": 32,
   "metadata": {
    "ExecuteTime": {
     "end_time": "2020-09-03T20:39:31.735773Z",
     "start_time": "2020-09-03T20:39:31.727907Z"
    }
   },
   "outputs": [
    {
     "name": "stdout",
     "output_type": "stream",
     "text": [
      "['u', 'u', 't', 't', 's', 's', 's', 'r', 'r', 'o', 'o', 'o', 'n', 'i', 'g', 'e', 'e', 'd', 'a', 'a', 'S', 'P', 'A', ' ', ' ', ' ']\n"
     ]
    }
   ],
   "source": [
    "print(sorted(nome, reverse=True))"
   ]
  },
  {
   "cell_type": "code",
   "execution_count": 36,
   "metadata": {
    "ExecuteTime": {
     "end_time": "2020-09-03T20:43:47.226404Z",
     "start_time": "2020-09-03T20:43:47.219961Z"
    }
   },
   "outputs": [
    {
     "name": "stdout",
     "output_type": "stream",
     "text": [
      "['a', 'b', 'c', 'd', 'e', 'f', 'g', 'h', 'i', 'j', 'k', 'l', 'm', 'n', 'o', 'p', 'q', 'r', 's', 't', 'u', 'v', 'w', 'x', 'y', 'z']\n"
     ]
    }
   ],
   "source": [
    "alfab = 'abcdefghijklmnopqrstuvwxyz'\n",
    "list_alfab = list(alfab)\n",
    "print(list_alfab)"
   ]
  },
  {
   "cell_type": "markdown",
   "metadata": {},
   "source": [
    "As funções max() retornao valor máximo de uma determinada sequência, conforme podemos ver adiante."
   ]
  },
  {
   "cell_type": "code",
   "execution_count": 40,
   "metadata": {
    "ExecuteTime": {
     "end_time": "2020-09-03T20:45:34.178946Z",
     "start_time": "2020-09-03T20:45:34.171527Z"
    }
   },
   "outputs": [
    {
     "data": {
      "text/plain": [
       "'z'"
      ]
     },
     "execution_count": 40,
     "metadata": {},
     "output_type": "execute_result"
    }
   ],
   "source": [
    "max('abcdefghijklmnopqrstuvwxyz')"
   ]
  },
  {
   "cell_type": "code",
   "execution_count": 41,
   "metadata": {
    "ExecuteTime": {
     "end_time": "2020-09-03T20:45:46.666277Z",
     "start_time": "2020-09-03T20:45:46.661673Z"
    }
   },
   "outputs": [
    {
     "data": {
      "text/plain": [
       "'z'"
      ]
     },
     "execution_count": 41,
     "metadata": {},
     "output_type": "execute_result"
    }
   ],
   "source": [
    "max(list_alfab)"
   ]
  },
  {
   "cell_type": "code",
   "execution_count": 43,
   "metadata": {
    "ExecuteTime": {
     "end_time": "2020-09-03T20:48:50.703937Z",
     "start_time": "2020-09-03T20:48:50.695920Z"
    }
   },
   "outputs": [],
   "source": [
    "um_a_nove = tuple((0,1,2,3,4,5,6,7,8,9))"
   ]
  },
  {
   "cell_type": "code",
   "execution_count": 44,
   "metadata": {
    "ExecuteTime": {
     "end_time": "2020-09-03T20:49:05.594226Z",
     "start_time": "2020-09-03T20:49:05.588716Z"
    }
   },
   "outputs": [
    {
     "data": {
      "text/plain": [
       "9"
      ]
     },
     "execution_count": 44,
     "metadata": {},
     "output_type": "execute_result"
    }
   ],
   "source": [
    "max(um_a_nove)"
   ]
  },
  {
   "cell_type": "markdown",
   "metadata": {},
   "source": [
    "Repita o procedimenot acima com a função min(), que retorna o mínimo de uma sequência."
   ]
  },
  {
   "cell_type": "code",
   "execution_count": null,
   "metadata": {
    "ExecuteTime": {
     "end_time": "2020-09-03T20:45:34.178946Z",
     "start_time": "2020-09-03T20:45:34.171527Z"
    }
   },
   "outputs": [],
   "source": []
  },
  {
   "cell_type": "code",
   "execution_count": null,
   "metadata": {},
   "outputs": [],
   "source": []
  },
  {
   "cell_type": "code",
   "execution_count": null,
   "metadata": {},
   "outputs": [],
   "source": []
  },
  {
   "cell_type": "markdown",
   "metadata": {},
   "source": [
    "Com certeza, a mais utilizada entre as funções nativas para consulta de objetos compostos é a função len(), que retorna a extensão (do Inglês length) desses objetos."
   ]
  },
  {
   "cell_type": "code",
   "execution_count": 37,
   "metadata": {
    "ExecuteTime": {
     "end_time": "2020-09-03T20:44:17.660978Z",
     "start_time": "2020-09-03T20:44:17.653918Z"
    }
   },
   "outputs": [
    {
     "data": {
      "text/plain": [
       "26"
      ]
     },
     "execution_count": 37,
     "metadata": {},
     "output_type": "execute_result"
    }
   ],
   "source": [
    "len(list_alfab)"
   ]
  },
  {
   "cell_type": "code",
   "execution_count": 38,
   "metadata": {
    "ExecuteTime": {
     "end_time": "2020-09-03T20:44:29.986103Z",
     "start_time": "2020-09-03T20:44:29.979130Z"
    }
   },
   "outputs": [
    {
     "data": {
      "text/plain": [
       "26"
      ]
     },
     "execution_count": 38,
     "metadata": {},
     "output_type": "execute_result"
    }
   ],
   "source": [
    "len(alfab)"
   ]
  },
  {
   "cell_type": "code",
   "execution_count": 39,
   "metadata": {
    "ExecuteTime": {
     "end_time": "2020-09-03T20:44:34.752675Z",
     "start_time": "2020-09-03T20:44:34.742174Z"
    }
   },
   "outputs": [
    {
     "data": {
      "text/plain": [
       "26"
      ]
     },
     "execution_count": 39,
     "metadata": {},
     "output_type": "execute_result"
    }
   ],
   "source": [
    "len(nome)"
   ]
  },
  {
   "cell_type": "markdown",
   "metadata": {},
   "source": [
    "Nas próximas células, aplique a função len() aos objetos armazenados anteriormente nas variáveis um_a_nove, alfab e list_alfab."
   ]
  },
  {
   "cell_type": "code",
   "execution_count": null,
   "metadata": {},
   "outputs": [],
   "source": []
  },
  {
   "cell_type": "code",
   "execution_count": null,
   "metadata": {},
   "outputs": [],
   "source": []
  },
  {
   "cell_type": "code",
   "execution_count": null,
   "metadata": {},
   "outputs": [],
   "source": []
  },
  {
   "cell_type": "markdown",
   "metadata": {},
   "source": [
    "## Diversos\n",
    "\n",
    "As funções filter(), map(), range() e open() são extremamente importantes e muito utilizdas em todos os tipos de projetos. Dada sua relevância e complexidade, é mais adequado que nos atenhamos somente às funções vistas acima, por ora. Após alguns exercícios que sedimentem os conhecimentos vistos acima, poderemos passar ao trato de assuntos mais robustos. "
   ]
  },
  {
   "cell_type": "markdown",
   "metadata": {},
   "source": [
    "## Recapitulando"
   ]
  },
  {
   "cell_type": "markdown",
   "metadata": {},
   "source": [
    "Todas as funções nativas em Python e aquelas vistas aqui estão descritas na documentação da linguagem, em https://docs.python.org/3/library/functions.html. Para aqueles que estiverem tendo o primeiro contato com programação e com a linguagem Python a partir dessas conversas, a documentação pode parecer um pouco \"hieroglífica\". Não se preocupe, pode começar a se habitar a fazer esse tipo de consulta que, com o tempo, tendo feito várias soluções com código, participado de outros cursos, lido livros sobre o assunto e consultado _sites_ de colaboração, esse tipo de documentação vai fazer perfeito sentido."
   ]
  }
 ],
 "metadata": {
  "kernelspec": {
   "display_name": "aulas",
   "language": "python",
   "name": "aulas"
  },
  "language_info": {
   "codemirror_mode": {
    "name": "ipython",
    "version": 3
   },
   "file_extension": ".py",
   "mimetype": "text/x-python",
   "name": "python",
   "nbconvert_exporter": "python",
   "pygments_lexer": "ipython3",
   "version": "3.6.10"
  },
  "toc": {
   "base_numbering": 1,
   "nav_menu": {},
   "number_sections": true,
   "sideBar": true,
   "skip_h1_title": false,
   "title_cell": "Table of Contents",
   "title_sidebar": "Contents",
   "toc_cell": false,
   "toc_position": {},
   "toc_section_display": true,
   "toc_window_display": false
  }
 },
 "nbformat": 4,
 "nbformat_minor": 4
}
