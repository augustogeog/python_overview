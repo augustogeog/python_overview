{
 "cells": [
  {
   "cell_type": "markdown",
   "metadata": {
    "heading_collapsed": true
   },
   "source": [
    "##  Tipos de Operadores em Python"
   ]
  },
  {
   "cell_type": "markdown",
   "metadata": {
    "hidden": true
   },
   "source": [
    "Agora que conhecemos os tipos básicos de dados em Python, tanto os simples (int, float, bool, None) como os compostos (listas, dicionários, tuplas, sets e strings), precisamos avançar sobre os objetos Python que podem processar esses dados, transformando-os, conforme nossa necessidade.\n",
    "\n",
    "Assim, vamos falar hoje sobre os seguintes tipos de operadores: \n",
    "\n",
    "* Operadores aritméticos\n",
    "\n",
    "* Operadores de atribuição\n",
    "\n",
    "* Operadores de comparação\n",
    "\n",
    "* Operadores Lógicos\n",
    "\n",
    "* Operadores de associação/pertencimento (member operators)\n",
    "\n",
    "* Operadores bit a bit\n",
    "\n",
    "* Operadores de Identidade\n",
    "\n",
    "Vamos a eles!"
   ]
  },
  {
   "cell_type": "markdown",
   "metadata": {
    "heading_collapsed": true
   },
   "source": [
    "## Operadores Aritméticos"
   ]
  },
  {
   "cell_type": "markdown",
   "metadata": {
    "hidden": true
   },
   "source": [
    "O quadro abaixo mostra os operadores aritméticos em Python\n",
    "\n",
    "Operador\t|\tNome\t|\tExemplo\t|\toperação\n",
    ":---------: | :--------:| :-------: | :--------:\n",
    "+\t|\tAdição\t|\tx + y\t|\tsoma valores\n",
    "-\t|\tSubtração\t|\tx - y\t|\tsubtrai valores\n",
    "*\t|\tMultiplicação\t|\tx * y\t|\tmultiplica valores\n",
    "/\t|\tDivisão\t|\tx / y\t|\tdivide valores\n",
    "%\t|\tMódulo\t|\tx % y\t|\tretorna o resto de uma divisão\n",
    "**\t|\tExponenciação\t|\tx ** y\t|\tEleva um valor x a um valor y\n",
    "//\t|\tDivisão Inteira\t|\tx // y\t|\tdivide valores, trazendo a parte inteira do resultado"
   ]
  },
  {
   "cell_type": "markdown",
   "metadata": {
    "hidden": true
   },
   "source": [
    "Abaixo, rode a célula em que são atribuídos valores às variáveis x e y e, em seguida, nas demais células reservadas, insira as operações destacadas na tabela acima."
   ]
  },
  {
   "cell_type": "code",
   "execution_count": 13,
   "metadata": {
    "ExecuteTime": {
     "end_time": "2020-09-01T23:21:14.944191Z",
     "start_time": "2020-09-01T23:21:14.941184Z"
    },
    "hidden": true
   },
   "outputs": [],
   "source": [
    "x = 10\n",
    "\n",
    "y = 2"
   ]
  },
  {
   "cell_type": "code",
   "execution_count": 2,
   "metadata": {
    "ExecuteTime": {
     "end_time": "2020-09-01T23:10:49.189144Z",
     "start_time": "2020-09-01T23:10:49.177180Z"
    },
    "hidden": true
   },
   "outputs": [
    {
     "data": {
      "text/plain": [
       "12"
      ]
     },
     "execution_count": 2,
     "metadata": {},
     "output_type": "execute_result"
    }
   ],
   "source": []
  },
  {
   "cell_type": "code",
   "execution_count": 3,
   "metadata": {
    "ExecuteTime": {
     "end_time": "2020-09-01T23:10:58.449791Z",
     "start_time": "2020-09-01T23:10:58.444834Z"
    },
    "hidden": true
   },
   "outputs": [
    {
     "data": {
      "text/plain": [
       "8"
      ]
     },
     "execution_count": 3,
     "metadata": {},
     "output_type": "execute_result"
    }
   ],
   "source": []
  },
  {
   "cell_type": "code",
   "execution_count": 4,
   "metadata": {
    "ExecuteTime": {
     "end_time": "2020-09-01T23:11:09.799030Z",
     "start_time": "2020-09-01T23:11:09.794066Z"
    },
    "hidden": true
   },
   "outputs": [
    {
     "data": {
      "text/plain": [
       "20"
      ]
     },
     "execution_count": 4,
     "metadata": {},
     "output_type": "execute_result"
    }
   ],
   "source": []
  },
  {
   "cell_type": "code",
   "execution_count": 5,
   "metadata": {
    "ExecuteTime": {
     "end_time": "2020-09-01T23:11:17.631742Z",
     "start_time": "2020-09-01T23:11:17.626756Z"
    },
    "hidden": true
   },
   "outputs": [
    {
     "data": {
      "text/plain": [
       "5.0"
      ]
     },
     "execution_count": 5,
     "metadata": {},
     "output_type": "execute_result"
    }
   ],
   "source": []
  },
  {
   "cell_type": "code",
   "execution_count": 6,
   "metadata": {
    "ExecuteTime": {
     "end_time": "2020-09-01T23:11:31.437518Z",
     "start_time": "2020-09-01T23:11:31.431568Z"
    },
    "hidden": true
   },
   "outputs": [
    {
     "data": {
      "text/plain": [
       "0"
      ]
     },
     "execution_count": 6,
     "metadata": {},
     "output_type": "execute_result"
    }
   ],
   "source": []
  },
  {
   "cell_type": "code",
   "execution_count": 8,
   "metadata": {
    "ExecuteTime": {
     "end_time": "2020-09-01T23:14:10.130413Z",
     "start_time": "2020-09-01T23:14:10.126424Z"
    },
    "hidden": true
   },
   "outputs": [
    {
     "data": {
      "text/plain": [
       "100"
      ]
     },
     "execution_count": 8,
     "metadata": {},
     "output_type": "execute_result"
    }
   ],
   "source": []
  },
  {
   "cell_type": "code",
   "execution_count": 12,
   "metadata": {
    "ExecuteTime": {
     "end_time": "2020-09-01T23:14:57.412174Z",
     "start_time": "2020-09-01T23:14:57.408180Z"
    },
    "hidden": true
   },
   "outputs": [
    {
     "data": {
      "text/plain": [
       "5"
      ]
     },
     "execution_count": 12,
     "metadata": {},
     "output_type": "execute_result"
    }
   ],
   "source": []
  },
  {
   "cell_type": "markdown",
   "metadata": {
    "hidden": true
   },
   "source": [
    "Note acima que, dividindo dois ints (integers), ou seja, dois números inteiros, na forma  x // y, o resultado foi também um int. Por outro lado, na divisão x / y, o resultado foi um _float_, com parte inteira e decimal. A tipagem dinâmica do Python faz que o tipo do resultado se adeque à operação realizada.\n",
    "\n",
    "Podemos fazer outras operações adiante para testar o comportamento dos operadores aritméticos em Python. Atribua valores às variáveis z e v para identificar seus cálculos nas células que se seguem."
   ]
  },
  {
   "cell_type": "code",
   "execution_count": 14,
   "metadata": {
    "ExecuteTime": {
     "end_time": "2020-09-01T23:22:16.934276Z",
     "start_time": "2020-09-01T23:22:16.930319Z"
    },
    "hidden": true
   },
   "outputs": [
    {
     "data": {
      "text/plain": [
       "20"
      ]
     },
     "execution_count": 14,
     "metadata": {},
     "output_type": "execute_result"
    }
   ],
   "source": [
    "z = ... # No lugar das reticências, insira o valor que desejar \n",
    "\n",
    "v = ... # No lugar das reticências, insira o valor que desejar"
   ]
  },
  {
   "cell_type": "code",
   "execution_count": 15,
   "metadata": {
    "ExecuteTime": {
     "end_time": "2020-09-01T23:22:20.531396Z",
     "start_time": "2020-09-01T23:22:20.526377Z"
    },
    "hidden": true
   },
   "outputs": [
    {
     "data": {
      "text/plain": [
       "0"
      ]
     },
     "execution_count": 15,
     "metadata": {},
     "output_type": "execute_result"
    }
   ],
   "source": [
    "z - v"
   ]
  },
  {
   "cell_type": "code",
   "execution_count": 16,
   "metadata": {
    "ExecuteTime": {
     "end_time": "2020-09-01T23:22:23.689022Z",
     "start_time": "2020-09-01T23:22:23.683038Z"
    },
    "hidden": true
   },
   "outputs": [
    {
     "data": {
      "text/plain": [
       "100"
      ]
     },
     "execution_count": 16,
     "metadata": {},
     "output_type": "execute_result"
    }
   ],
   "source": [
    "z * v"
   ]
  },
  {
   "cell_type": "code",
   "execution_count": 17,
   "metadata": {
    "ExecuteTime": {
     "end_time": "2020-09-01T23:22:30.581898Z",
     "start_time": "2020-09-01T23:22:30.576911Z"
    },
    "hidden": true
   },
   "outputs": [
    {
     "data": {
      "text/plain": [
       "1.0"
      ]
     },
     "execution_count": 17,
     "metadata": {},
     "output_type": "execute_result"
    }
   ],
   "source": [
    "z / v"
   ]
  },
  {
   "cell_type": "code",
   "execution_count": 18,
   "metadata": {
    "ExecuteTime": {
     "end_time": "2020-09-01T23:22:36.699941Z",
     "start_time": "2020-09-01T23:22:36.696942Z"
    },
    "hidden": true
   },
   "outputs": [
    {
     "data": {
      "text/plain": [
       "0"
      ]
     },
     "execution_count": 18,
     "metadata": {},
     "output_type": "execute_result"
    }
   ],
   "source": [
    "z % v"
   ]
  },
  {
   "cell_type": "code",
   "execution_count": 19,
   "metadata": {
    "ExecuteTime": {
     "end_time": "2020-09-01T23:22:57.471322Z",
     "start_time": "2020-09-01T23:22:57.466361Z"
    },
    "hidden": true
   },
   "outputs": [
    {
     "data": {
      "text/plain": [
       "10000000000"
      ]
     },
     "execution_count": 19,
     "metadata": {},
     "output_type": "execute_result"
    }
   ],
   "source": [
    "z ** v"
   ]
  },
  {
   "cell_type": "code",
   "execution_count": 20,
   "metadata": {
    "ExecuteTime": {
     "end_time": "2020-09-01T23:23:09.736672Z",
     "start_time": "2020-09-01T23:23:09.733646Z"
    },
    "hidden": true
   },
   "outputs": [
    {
     "data": {
      "text/plain": [
       "1"
      ]
     },
     "execution_count": 20,
     "metadata": {},
     "output_type": "execute_result"
    }
   ],
   "source": [
    "z // v"
   ]
  },
  {
   "cell_type": "markdown",
   "metadata": {
    "hidden": true
   },
   "source": [
    "Utilize as células abaixo livremente para fazer testes com os operadores aritméticos."
   ]
  },
  {
   "cell_type": "code",
   "execution_count": null,
   "metadata": {
    "hidden": true
   },
   "outputs": [],
   "source": []
  },
  {
   "cell_type": "code",
   "execution_count": null,
   "metadata": {
    "hidden": true
   },
   "outputs": [],
   "source": []
  },
  {
   "cell_type": "code",
   "execution_count": null,
   "metadata": {
    "hidden": true
   },
   "outputs": [],
   "source": []
  },
  {
   "cell_type": "markdown",
   "metadata": {
    "hidden": true
   },
   "source": [
    "Em matemática, os operadores apresentam uma ordem de execução. Primeiramente são realizadas as exponenciações, depois multiplicações e divisões, em seguida somas e subtrações. Em Python, esse comportamento funciona assim, como esperado. Podemos estabelecer a ordem com que queremos que operações consecutivas sejam feitas, utilizando parênteses ().\n",
    "\n",
    "\n",
    "Podemos observar, abaixo, que, no primeiro exemplo, 9 é elevado a 1, o que resulta em 9, e depois dividido por dois, que resulta em 4,5. No segundo exemplo, os parênteses fazem com que primeiro 1 seja divido por 2, resultando em 0,5, depois elevando nove a esse expoente. Na prática, é assim que podemos fazer radiciação em Python."
   ]
  },
  {
   "cell_type": "code",
   "execution_count": 24,
   "metadata": {
    "ExecuteTime": {
     "end_time": "2020-09-01T23:33:04.629416Z",
     "start_time": "2020-09-01T23:33:04.624397Z"
    },
    "hidden": true
   },
   "outputs": [
    {
     "data": {
      "text/plain": [
       "4.5"
      ]
     },
     "execution_count": 24,
     "metadata": {},
     "output_type": "execute_result"
    }
   ],
   "source": [
    "9 ** 1/2"
   ]
  },
  {
   "cell_type": "code",
   "execution_count": 23,
   "metadata": {
    "ExecuteTime": {
     "end_time": "2020-09-01T23:32:07.572148Z",
     "start_time": "2020-09-01T23:32:07.567130Z"
    },
    "hidden": true
   },
   "outputs": [
    {
     "data": {
      "text/plain": [
       "3.0"
      ]
     },
     "execution_count": 23,
     "metadata": {},
     "output_type": "execute_result"
    }
   ],
   "source": [
    "9 ** (1/2)"
   ]
  },
  {
   "cell_type": "code",
   "execution_count": 25,
   "metadata": {
    "ExecuteTime": {
     "end_time": "2020-09-01T23:35:33.820764Z",
     "start_time": "2020-09-01T23:35:33.815768Z"
    },
    "hidden": true
   },
   "outputs": [
    {
     "data": {
      "text/plain": [
       "81.0"
      ]
     },
     "execution_count": 25,
     "metadata": {},
     "output_type": "execute_result"
    }
   ],
   "source": [
    "9 ** ((1/2) * 4)"
   ]
  },
  {
   "cell_type": "code",
   "execution_count": 27,
   "metadata": {
    "ExecuteTime": {
     "end_time": "2020-09-01T23:36:25.472154Z",
     "start_time": "2020-09-01T23:36:25.468168Z"
    },
    "hidden": true
   },
   "outputs": [
    {
     "data": {
      "text/plain": [
       "9.0"
      ]
     },
     "execution_count": 27,
     "metadata": {},
     "output_type": "execute_result"
    }
   ],
   "source": [
    "(9 / 3.0) ** ((1/2) * 4)"
   ]
  },
  {
   "cell_type": "markdown",
   "metadata": {
    "hidden": true
   },
   "source": [
    "Os operadores, em Python, são contextuais, ou seja, eles operam de forma distinta a depender do tipo de objeto. Acima, ao utilizar + e * com _integers_ e _floats_, nós fizemos operações matemáticas básicas, de adição e de multiplicação. No entanto, esses mesmos operadores podem ser utilizados com outros tipos de objetos, tais como _strings_, trazendo outros comportamentos.\n",
    "\n",
    "Veja abaixo, que operador + concatena _strings_, ao passo que * repete um texto quantas vezes for indicado por uma valor númerico."
   ]
  },
  {
   "cell_type": "code",
   "execution_count": 30,
   "metadata": {
    "ExecuteTime": {
     "end_time": "2020-09-01T23:44:32.998647Z",
     "start_time": "2020-09-01T23:44:32.994633Z"
    },
    "hidden": true
   },
   "outputs": [
    {
     "data": {
      "text/plain": [
       "'oba-oba'"
      ]
     },
     "execution_count": 30,
     "metadata": {},
     "output_type": "execute_result"
    }
   ],
   "source": [
    "texto = 'oba'\n",
    "\n",
    "texto + '-' + texto"
   ]
  },
  {
   "cell_type": "code",
   "execution_count": 32,
   "metadata": {
    "ExecuteTime": {
     "end_time": "2020-09-01T23:46:18.544113Z",
     "start_time": "2020-09-01T23:46:18.539094Z"
    },
    "hidden": true
   },
   "outputs": [
    {
     "data": {
      "text/plain": [
       "'obaobaoba'"
      ]
     },
     "execution_count": 32,
     "metadata": {},
     "output_type": "execute_result"
    }
   ],
   "source": [
    "texto * 3"
   ]
  },
  {
   "cell_type": "markdown",
   "metadata": {
    "hidden": true
   },
   "source": [
    "Podemos utilizar as células abaixo para fazer experimentos com esse tipo de comportamento dos operadores indicados e objetos de tipo _string_."
   ]
  },
  {
   "cell_type": "code",
   "execution_count": null,
   "metadata": {
    "hidden": true
   },
   "outputs": [],
   "source": []
  },
  {
   "cell_type": "code",
   "execution_count": null,
   "metadata": {
    "hidden": true
   },
   "outputs": [],
   "source": []
  },
  {
   "cell_type": "code",
   "execution_count": null,
   "metadata": {
    "hidden": true
   },
   "outputs": [],
   "source": []
  },
  {
   "cell_type": "code",
   "execution_count": null,
   "metadata": {
    "hidden": true
   },
   "outputs": [],
   "source": []
  },
  {
   "cell_type": "markdown",
   "metadata": {
    "heading_collapsed": true
   },
   "source": [
    "## Operadores de Atribuição"
   ]
  },
  {
   "cell_type": "markdown",
   "metadata": {
    "hidden": true
   },
   "source": [
    "Operadores de atribuição são aqueles que designam um valor a uma variável. No notebook 2, nós já observarmos o operador =, que serve para atribuir um valor/objeto qualquer a uma variável. No entanto, esse não é o único. Python utiliza notações compostas com o operador de atribuição = e operadores aritméticos de forma que as operações são realizadas utilizando-se uma variável declarada e o resultado é imediatamente reatribuído a essa mesma variável.\n",
    "\n",
    "\n",
    "Vamos tratar apenas do caso mais utilizado, que é o +=. \n",
    "\n",
    "```Python\n",
    ">>> c = 1 # atribui o valor 1 à variável c\n",
    "\n",
    ">>> c += 2 # soma o valor 2 ao valor armazenado na variável c e atualiza essa variável\n",
    "\n",
    ">>> print(c)\n",
    "\n",
    "3\n",
    "```\n",
    "\n",
    "O uso da notação acima substitui o caso demonstrado abaixo:\n",
    "\n",
    "\n",
    "```Python\n",
    ">>> c = 1\n",
    "\n",
    ">>> c =  c + 2 \n",
    "\n",
    ">>> print(c)\n",
    "\n",
    "3\n",
    "\n",
    "```"
   ]
  },
  {
   "cell_type": "code",
   "execution_count": 33,
   "metadata": {
    "ExecuteTime": {
     "end_time": "2020-09-02T01:50:44.291922Z",
     "start_time": "2020-09-02T01:50:44.285899Z"
    },
    "hidden": true
   },
   "outputs": [
    {
     "name": "stdout",
     "output_type": "stream",
     "text": [
      "2\n"
     ]
    }
   ],
   "source": [
    "valor = 1\n",
    "\n",
    "valor += 1\n",
    "\n",
    "print(valor)"
   ]
  },
  {
   "cell_type": "markdown",
   "metadata": {
    "hidden": true
   },
   "source": [
    "Utilize o espaço abaixo para testes que queira fazer com esse tipo de notação, utilizando a variável **valor**."
   ]
  },
  {
   "cell_type": "code",
   "execution_count": null,
   "metadata": {
    "hidden": true
   },
   "outputs": [],
   "source": []
  },
  {
   "cell_type": "code",
   "execution_count": null,
   "metadata": {
    "hidden": true
   },
   "outputs": [],
   "source": []
  },
  {
   "cell_type": "code",
   "execution_count": null,
   "metadata": {
    "hidden": true
   },
   "outputs": [],
   "source": []
  },
  {
   "cell_type": "markdown",
   "metadata": {
    "heading_collapsed": true
   },
   "source": [
    "## Operadores de comparação"
   ]
  },
  {
   "cell_type": "markdown",
   "metadata": {
    "hidden": true
   },
   "source": [
    "**Operadores de Comparação em Python**\n",
    "\n",
    "operadores\t|\tdescrição\n",
    ":----------: | :--------------:\n",
    "==\t|\tIgual - comparar objetos de igualdade\n",
    "! =\t|\tNão é igual - comparar dois objectos não são iguais\n",
    "<>\t|\tNão é igual - comparar dois objectos não são iguais\n",
    ">\t|\tMaior que - Retorna se x é maior que y\n",
    "<\t|\tMenos de - Retorna se x é menor que y\n",
    "> =\t|\tMaior do que ou igual - Retorna se x é maior do que ou igual y\n",
    "<=\t|\tMenor ou igual - Retorna se x é menor ou igual y\n",
    "\n",
    "Fonte: http://www.w3big.com/pt/python/python-operators.html\n",
    "\n",
    "\n",
    "Vale observar que, em Python, o operador = serve para atribuição de valores a variáveis. Quando queremos identificar igualdade, utilizamos ==."
   ]
  },
  {
   "cell_type": "code",
   "execution_count": 37,
   "metadata": {
    "ExecuteTime": {
     "end_time": "2020-09-02T02:19:05.287849Z",
     "start_time": "2020-09-02T02:19:05.281815Z"
    },
    "hidden": true
   },
   "outputs": [
    {
     "data": {
      "text/plain": [
       "True"
      ]
     },
     "execution_count": 37,
     "metadata": {},
     "output_type": "execute_result"
    }
   ],
   "source": [
    "True == True"
   ]
  },
  {
   "cell_type": "code",
   "execution_count": 38,
   "metadata": {
    "ExecuteTime": {
     "end_time": "2020-09-02T02:19:06.544614Z",
     "start_time": "2020-09-02T02:19:06.539659Z"
    },
    "hidden": true
   },
   "outputs": [
    {
     "data": {
      "text/plain": [
       "False"
      ]
     },
     "execution_count": 38,
     "metadata": {},
     "output_type": "execute_result"
    }
   ],
   "source": [
    "True == False "
   ]
  },
  {
   "cell_type": "code",
   "execution_count": 39,
   "metadata": {
    "ExecuteTime": {
     "end_time": "2020-09-02T02:19:15.974857Z",
     "start_time": "2020-09-02T02:19:15.967837Z"
    },
    "hidden": true
   },
   "outputs": [
    {
     "data": {
      "text/plain": [
       "True"
      ]
     },
     "execution_count": 39,
     "metadata": {},
     "output_type": "execute_result"
    }
   ],
   "source": [
    "1 == 1"
   ]
  },
  {
   "cell_type": "code",
   "execution_count": 40,
   "metadata": {
    "ExecuteTime": {
     "end_time": "2020-09-02T02:19:20.520981Z",
     "start_time": "2020-09-02T02:19:20.515041Z"
    },
    "hidden": true
   },
   "outputs": [
    {
     "data": {
      "text/plain": [
       "False"
      ]
     },
     "execution_count": 40,
     "metadata": {},
     "output_type": "execute_result"
    }
   ],
   "source": [
    "1 == 2"
   ]
  },
  {
   "cell_type": "code",
   "execution_count": 47,
   "metadata": {
    "ExecuteTime": {
     "end_time": "2020-09-02T02:22:34.438682Z",
     "start_time": "2020-09-02T02:22:34.432786Z"
    },
    "hidden": true
   },
   "outputs": [
    {
     "data": {
      "text/plain": [
       "False"
      ]
     },
     "execution_count": 47,
     "metadata": {},
     "output_type": "execute_result"
    }
   ],
   "source": [
    "True != True"
   ]
  },
  {
   "cell_type": "code",
   "execution_count": 48,
   "metadata": {
    "ExecuteTime": {
     "end_time": "2020-09-02T02:22:44.908389Z",
     "start_time": "2020-09-02T02:22:44.902369Z"
    },
    "hidden": true
   },
   "outputs": [
    {
     "data": {
      "text/plain": [
       "True"
      ]
     },
     "execution_count": 48,
     "metadata": {},
     "output_type": "execute_result"
    }
   ],
   "source": [
    "1 != 2"
   ]
  },
  {
   "cell_type": "code",
   "execution_count": 49,
   "metadata": {
    "ExecuteTime": {
     "end_time": "2020-09-02T02:23:30.259995Z",
     "start_time": "2020-09-02T02:23:30.255074Z"
    },
    "hidden": true
   },
   "outputs": [
    {
     "data": {
      "text/plain": [
       "True"
      ]
     },
     "execution_count": 49,
     "metadata": {},
     "output_type": "execute_result"
    }
   ],
   "source": [
    "1 > 0"
   ]
  },
  {
   "cell_type": "code",
   "execution_count": 50,
   "metadata": {
    "ExecuteTime": {
     "end_time": "2020-09-02T02:23:30.859364Z",
     "start_time": "2020-09-02T02:23:30.855311Z"
    },
    "hidden": true
   },
   "outputs": [
    {
     "data": {
      "text/plain": [
       "False"
      ]
     },
     "execution_count": 50,
     "metadata": {},
     "output_type": "execute_result"
    }
   ],
   "source": [
    "1 > 2"
   ]
  },
  {
   "cell_type": "code",
   "execution_count": 53,
   "metadata": {
    "ExecuteTime": {
     "end_time": "2020-09-02T02:24:35.009622Z",
     "start_time": "2020-09-02T02:24:35.001680Z"
    },
    "hidden": true
   },
   "outputs": [
    {
     "data": {
      "text/plain": [
       "False"
      ]
     },
     "execution_count": 53,
     "metadata": {},
     "output_type": "execute_result"
    }
   ],
   "source": [
    "1 < 1"
   ]
  },
  {
   "cell_type": "code",
   "execution_count": 52,
   "metadata": {
    "ExecuteTime": {
     "end_time": "2020-09-02T02:23:59.066429Z",
     "start_time": "2020-09-02T02:23:59.061443Z"
    },
    "hidden": true
   },
   "outputs": [
    {
     "data": {
      "text/plain": [
       "True"
      ]
     },
     "execution_count": 52,
     "metadata": {},
     "output_type": "execute_result"
    }
   ],
   "source": [
    "1 < 2"
   ]
  },
  {
   "cell_type": "code",
   "execution_count": 57,
   "metadata": {
    "ExecuteTime": {
     "end_time": "2020-09-02T02:27:38.417041Z",
     "start_time": "2020-09-02T02:27:38.412073Z"
    },
    "hidden": true
   },
   "outputs": [
    {
     "data": {
      "text/plain": [
       "True"
      ]
     },
     "execution_count": 57,
     "metadata": {},
     "output_type": "execute_result"
    }
   ],
   "source": [
    "1.0000 >= 1"
   ]
  },
  {
   "cell_type": "code",
   "execution_count": 56,
   "metadata": {
    "ExecuteTime": {
     "end_time": "2020-09-02T02:27:29.508456Z",
     "start_time": "2020-09-02T02:27:29.504691Z"
    },
    "hidden": true
   },
   "outputs": [
    {
     "data": {
      "text/plain": [
       "True"
      ]
     },
     "execution_count": 56,
     "metadata": {},
     "output_type": "execute_result"
    }
   ],
   "source": [
    "1 <= 1.0"
   ]
  },
  {
   "cell_type": "markdown",
   "metadata": {
    "hidden": true
   },
   "source": [
    "Objetos compostos também podem ser comparados, como se pode ver adiante:"
   ]
  },
  {
   "cell_type": "code",
   "execution_count": 44,
   "metadata": {
    "ExecuteTime": {
     "end_time": "2020-09-02T02:22:02.903140Z",
     "start_time": "2020-09-02T02:22:02.897153Z"
    },
    "hidden": true
   },
   "outputs": [],
   "source": [
    "lista1 = [1, 2, 3, 4]\n",
    "\n",
    "lista2 = [1, 0, 3, 0]\n",
    "\n",
    "lista3 = [1, 2, 3, 4]"
   ]
  },
  {
   "cell_type": "code",
   "execution_count": 45,
   "metadata": {
    "ExecuteTime": {
     "end_time": "2020-09-02T02:22:03.270122Z",
     "start_time": "2020-09-02T02:22:03.263174Z"
    },
    "hidden": true
   },
   "outputs": [
    {
     "data": {
      "text/plain": [
       "False"
      ]
     },
     "execution_count": 45,
     "metadata": {},
     "output_type": "execute_result"
    }
   ],
   "source": [
    "lista1 == lista2"
   ]
  },
  {
   "cell_type": "code",
   "execution_count": 46,
   "metadata": {
    "ExecuteTime": {
     "end_time": "2020-09-02T02:22:03.792754Z",
     "start_time": "2020-09-02T02:22:03.785743Z"
    },
    "hidden": true
   },
   "outputs": [
    {
     "data": {
      "text/plain": [
       "True"
      ]
     },
     "execution_count": 46,
     "metadata": {},
     "output_type": "execute_result"
    }
   ],
   "source": [
    "lista1 == lista3"
   ]
  },
  {
   "cell_type": "markdown",
   "metadata": {
    "heading_collapsed": true
   },
   "source": [
    "## Operadores Lógicos"
   ]
  },
  {
   "cell_type": "markdown",
   "metadata": {
    "hidden": true
   },
   "source": [
    "Em Python, os operadores or, and e not servem para estabelecer relações lógicas entre elementos que têm valor boleano (verdadeiro/falso). São bastante conhecidos de qualquer um que tenha feito alguma disciplina de lógica.\n",
    "\n",
    "Em lógica, se temos duas sentenças às quais se pode atribuir valor verdadeiro ou falso, o conjunto de ambas, ligadas por um conectivo **e** (and, no Python) só será verdadeiro se ambas forem verdadeiras. Basta que uma seja falsa, para que a composição toda seja considerada falsa.\n",
    "\n",
    "\n",
    "A sentença composta abaixo, ligada pelo conectivo e é verdadeira, no meu caso, pois a primeira sentença é verdadeira e a seguinda sentença também é verdadeira. \n",
    "\n",
    "**estou aprendendo Python e isso será útil na minha carreira**\n",
    "\n",
    "Uma vez que estabelecemos que cada uma das sentenças acima é verdadeira, logo, abaixo temos uma sentença composta falsa, pois a primeira sentença é verdadeira, mas a segunda sentença, que é uma negação da verdade, é falsa.\n",
    "\n",
    "**estou aprendendo Python e isso não será útil na minha carreira**\n",
    "\n",
    "\n",
    "Por sua vez, o conectivo lógico ou (operador or, em Python), significa que basta que uma das sentenças seja verdadeira para que o conjunto seja considerado verdadeiro. No caso da sentença abaixo, em três cenários, a sentença composta será verdadeira: quando apenas a primeira sentença for verdadeira, quando apenas a segunda setença for verdadeira e quando ambas forem verdadeiras. A sentença abaixo só será falsa se ambas forem falsas.\n",
    "\n",
    "**tenho fome ou tenho sede**\n",
    "\n",
    "Esses detalhes da lógica podem ser consultados em qualquer bom site que trate sobre tabela verdade. Para nós aqui, o importante é manter em mente como utilizamos esses operadores em Python.\n",
    "\n",
    "\n",
    "Operação |\tDefinição\n",
    ":------- | :------------\n",
    "x or y\t | retorna verdadeiro se ao menos um dos valores é verdadeiro\n",
    "x and y\t | retorna verdadeiro apenas quando ambos os valores são verdadeiros\n",
    "not x\t | reverte o valor lógico False para True e vice-versa\n",
    "\n",
    "\n",
    "Para entender isso, vamos começar com operações bastante simples, para identificar seu resultado:"
   ]
  },
  {
   "cell_type": "code",
   "execution_count": 1,
   "metadata": {
    "ExecuteTime": {
     "end_time": "2020-09-02T11:01:56.587759Z",
     "start_time": "2020-09-02T11:01:56.563417Z"
    },
    "hidden": true
   },
   "outputs": [
    {
     "data": {
      "text/plain": [
       "True"
      ]
     },
     "execution_count": 1,
     "metadata": {},
     "output_type": "execute_result"
    }
   ],
   "source": [
    "# verdadeiro ou verdadeiro é igual a verdadeiro (de fato duas sentenças verdadeiras ligadas por ou geram uma sentença composta verdadeira)\n",
    "\n",
    "True or True"
   ]
  },
  {
   "cell_type": "code",
   "execution_count": 2,
   "metadata": {
    "ExecuteTime": {
     "end_time": "2020-09-02T11:02:42.215067Z",
     "start_time": "2020-09-02T11:02:42.206813Z"
    },
    "hidden": true
   },
   "outputs": [
    {
     "data": {
      "text/plain": [
       "True"
      ]
     },
     "execution_count": 2,
     "metadata": {},
     "output_type": "execute_result"
    }
   ],
   "source": [
    "# verdadeiro ou falso é igual a verdadeiro (com operador ou, basta que uma das sentenças seja verdadeira, para que o conjunto seja verdadeiro)\n",
    "\n",
    "True or False"
   ]
  },
  {
   "cell_type": "code",
   "execution_count": 60,
   "metadata": {
    "ExecuteTime": {
     "end_time": "2020-09-02T03:05:41.854393Z",
     "start_time": "2020-09-02T03:05:41.847413Z"
    },
    "hidden": true
   },
   "outputs": [
    {
     "data": {
      "text/plain": [
       "True"
      ]
     },
     "execution_count": 60,
     "metadata": {},
     "output_type": "execute_result"
    }
   ],
   "source": [
    "# verdadeiro e verdadeiro é igual a verdadeiro\n",
    "True and True"
   ]
  },
  {
   "cell_type": "code",
   "execution_count": 3,
   "metadata": {
    "ExecuteTime": {
     "end_time": "2020-09-02T11:03:29.216550Z",
     "start_time": "2020-09-02T11:03:29.208722Z"
    },
    "hidden": true
   },
   "outputs": [
    {
     "data": {
      "text/plain": [
       "False"
      ]
     },
     "execution_count": 3,
     "metadata": {},
     "output_type": "execute_result"
    }
   ],
   "source": [
    "# basta que uma sentença seja falsa para que o conjunto, conectado por e, seja falso\n",
    "\n",
    "True and False"
   ]
  },
  {
   "cell_type": "code",
   "execution_count": 5,
   "metadata": {
    "ExecuteTime": {
     "end_time": "2020-09-02T11:07:28.736215Z",
     "start_time": "2020-09-02T11:07:28.726337Z"
    },
    "hidden": true
   },
   "outputs": [
    {
     "data": {
      "text/plain": [
       "False"
      ]
     },
     "execution_count": 5,
     "metadata": {},
     "output_type": "execute_result"
    }
   ],
   "source": [
    "# aqui o operador not nega o operador True, o que corresponde a Falso, logo a sentença ligada por e se torna falsa\n",
    "True and not True"
   ]
  },
  {
   "cell_type": "markdown",
   "metadata": {
    "hidden": true
   },
   "source": [
    "Sentenças como essas expostas acima não necessariamente são muito úteis em programação, servindo mais como exemplo do funcionamento da estrutura sintática e semântica da linguagem Python quanto a operadores lógicos. É quando juntamos esses operadores com outros, como os operadores de comparação, que podemos obter resultados significativos para o desenvolvimento de rotinas computacionais interessantes."
   ]
  },
  {
   "cell_type": "code",
   "execution_count": 12,
   "metadata": {
    "ExecuteTime": {
     "end_time": "2020-09-02T11:17:12.046137Z",
     "start_time": "2020-09-02T11:17:12.040722Z"
    },
    "hidden": true
   },
   "outputs": [
    {
     "data": {
      "text/plain": [
       "True"
      ]
     },
     "execution_count": 12,
     "metadata": {},
     "output_type": "execute_result"
    }
   ],
   "source": [
    "# verificando se ao menos uma das sentenças está correta (1 maior que 2 é falso, mas 1 igual a 1 é verdadeiro, logo, ao menos uma sentença é verdadeira, o que torna o conjunto verdadeiro)\n",
    "1 > 2 or 1 == 1"
   ]
  },
  {
   "cell_type": "code",
   "execution_count": 13,
   "metadata": {
    "ExecuteTime": {
     "end_time": "2020-09-02T11:18:06.551694Z",
     "start_time": "2020-09-02T11:18:06.543118Z"
    },
    "hidden": true
   },
   "outputs": [
    {
     "data": {
      "text/plain": [
       "False"
      ]
     },
     "execution_count": 13,
     "metadata": {},
     "output_type": "execute_result"
    }
   ],
   "source": [
    "# verificando se ao menos uma das sentenças está correta (1 igual a 2 é falso, enquanto 1 igual a 3 também é falso, logo ambas as sentenças são falsas, o que torna o conjunto falso)\n",
    "1 == 2 or 1 == 3"
   ]
  },
  {
   "cell_type": "code",
   "execution_count": 15,
   "metadata": {
    "ExecuteTime": {
     "end_time": "2020-09-02T11:19:28.193556Z",
     "start_time": "2020-09-02T11:19:28.186572Z"
    },
    "hidden": true
   },
   "outputs": [
    {
     "data": {
      "text/plain": [
       "True"
      ]
     },
     "execution_count": 15,
     "metadata": {},
     "output_type": "execute_result"
    }
   ],
   "source": [
    "# verificando se ambas as sentenças estão corretas (1 diferente de 2 é verdadeiro, enquanto 1 igual a 1 é verdadeiro. Ambas as afirmações verdadeiras é a condição necessária para o conjunto ligado por e seja verdadeiro)\n",
    "1 != 2 and 1 == 1"
   ]
  },
  {
   "cell_type": "code",
   "execution_count": 18,
   "metadata": {
    "ExecuteTime": {
     "end_time": "2020-09-02T11:21:26.247555Z",
     "start_time": "2020-09-02T11:21:26.239705Z"
    },
    "hidden": true
   },
   "outputs": [
    {
     "data": {
      "text/plain": [
       "False"
      ]
     },
     "execution_count": 18,
     "metadata": {},
     "output_type": "execute_result"
    }
   ],
   "source": [
    "# abaixo 1 == 1 é verdadeiro, mas not nega essa sentença, fazendo com que seu resultado seja falso, por essa razão, esse conjunto ligado por e se torna falso.\n",
    "1 != 2 and not 1 == 1"
   ]
  },
  {
   "cell_type": "markdown",
   "metadata": {
    "hidden": true
   },
   "source": [
    "Assim, como existe uma sequência nas operações aritméticas (exponenciação/radiciação, multiplicação/divisão, soma/subtração), existe uma sequência nas demais operações. No caso acima, primeiro são feitas as comparações de igualdade e diferença, em seguida é negada a igualdade (not), depois é verificado se ambas as sentenças são verdadeiras ao mesmo tempo (and).\n",
    "\n",
    "Na prática, parte significativa das regras de sequência não são memorizadas por desenvolvedores. Assim, é comum que, para garantir melhor legibilidade e fácil manutenção do código, a ordem das sentenças seja explicitamente declarada a partir do uso de parênteses, como nos dois exemplos abaixo:"
   ]
  },
  {
   "cell_type": "code",
   "execution_count": 20,
   "metadata": {
    "ExecuteTime": {
     "end_time": "2020-09-02T11:28:16.064600Z",
     "start_time": "2020-09-02T11:28:16.057391Z"
    },
    "hidden": true
   },
   "outputs": [
    {
     "data": {
      "text/plain": [
       "False"
      ]
     },
     "execution_count": 20,
     "metadata": {},
     "output_type": "execute_result"
    }
   ],
   "source": [
    "(1 != 2) and (not 1 == 1)"
   ]
  },
  {
   "cell_type": "code",
   "execution_count": 22,
   "metadata": {
    "ExecuteTime": {
     "end_time": "2020-09-02T11:28:56.347256Z",
     "start_time": "2020-09-02T11:28:56.339826Z"
    },
    "hidden": true
   },
   "outputs": [
    {
     "data": {
      "text/plain": [
       "False"
      ]
     },
     "execution_count": 22,
     "metadata": {},
     "output_type": "execute_result"
    }
   ],
   "source": [
    "(1 != 2) and (not (1 == 1))"
   ]
  },
  {
   "cell_type": "markdown",
   "metadata": {
    "hidden": true
   },
   "source": [
    "Em casos complexos, utilizar parênteses significa aplicar alguns princípios de boas práticas do Zen do Python, entre eles o princípio 1 (contado do zero, claro!), **\"explícito é melhor que implícito\"**, e o 2, **\"legibilidade conta\"**.\n",
    "\n",
    "Os dezenove princípios podem ser encontrados em: https://pt.wikipedia.org/wiki/Zen_of_Python.\n",
    "\n",
    "Nenhuma das células acima tem dependência, ou seja, nenhuma delas declara alguma variável que será utilizada adiante. Por isso, podemos aproveitar para fazer os testes que quisermos. Utilize essas células para aplicar diferentes operadores comparativos e lógicos e identifique quais os resultados boleanos (True/False). Tente identificar qual o motivo de cada resultado, segundo as regras da lógica."
   ]
  },
  {
   "cell_type": "markdown",
   "metadata": {
    "hidden": true
   },
   "source": [
    "### Aplicação dos operadores"
   ]
  },
  {
   "cell_type": "markdown",
   "metadata": {
    "hidden": true
   },
   "source": [
    "Existe um assunto que vamos tratar a fundo no notebook 3, que são as declarações **if**. Trata-se de declarações que condicionam a operação de um bloco de código ao atendimento de uma determinada regra lógica. Embora não seja momento de nos aprofundarmos nesse assunto, podemos aproveitar para ver como esse tipo de declaração é uma das aplicações mais importantes para operadores de comparação, operadores aritméticos e valores boleanos (True/False).\n",
    "\n",
    "Vamos ver se vai dar praia:"
   ]
  },
  {
   "cell_type": "code",
   "execution_count": 29,
   "metadata": {
    "ExecuteTime": {
     "end_time": "2020-09-02T14:12:57.400232Z",
     "start_time": "2020-09-02T14:12:57.392830Z"
    },
    "hidden": true
   },
   "outputs": [
    {
     "name": "stdout",
     "output_type": "stream",
     "text": [
      "Hoje vai dar praia\n"
     ]
    }
   ],
   "source": [
    "tempo = 'ensolarado' # aqui declaramos uma variável tempo, que guarda como está a condição meteorológica hoje.\n",
    "\n",
    "if tempo == 'ensolarado': # aqui uma sentença condicional if  só permitirá que o código abaixo rode se o resultado da condição for True\n",
    "    print(f'Hoje vai dar praia') # esse código identado só rodará se tempo == 'ensolarado' for True, ou seja, se tempo for qualquer coisa que não ensolarado, a condição será falsa e não tem praia\n",
    "    \n",
    "else: # essa condição aqui verifica se o bloco acima rodou. De outro modo (else em Inglês), o bloco abaixo é que roda.\n",
    "    print(f'Hoje vai ser Netflix')"
   ]
  },
  {
   "cell_type": "code",
   "execution_count": 30,
   "metadata": {
    "ExecuteTime": {
     "end_time": "2020-09-02T14:13:01.373335Z",
     "start_time": "2020-09-02T14:13:01.364315Z"
    },
    "hidden": true
   },
   "outputs": [
    {
     "name": "stdout",
     "output_type": "stream",
     "text": [
      "Hoje vai ser Netflix\n"
     ]
    }
   ],
   "source": [
    "tempo = 'nublado'\n",
    "\n",
    "if tempo == 'ensolarado':\n",
    "    print(f'Hoje vai dar praia')\n",
    "    \n",
    "else:\n",
    "    print(f'Hoje vai ser Netflix')"
   ]
  },
  {
   "cell_type": "markdown",
   "metadata": {
    "hidden": true
   },
   "source": [
    "Podemos ir mais longe e identificar se duas condições são atingidas simultaneamente para garantir que ir para a praia será uma boa experiência:"
   ]
  },
  {
   "cell_type": "code",
   "execution_count": 31,
   "metadata": {
    "ExecuteTime": {
     "end_time": "2020-09-02T14:14:15.490909Z",
     "start_time": "2020-09-02T14:14:15.482391Z"
    },
    "hidden": true
   },
   "outputs": [
    {
     "name": "stdout",
     "output_type": "stream",
     "text": [
      "Hoje vai dar praia\n"
     ]
    }
   ],
   "source": [
    "tempo = 'ensolarado'\n",
    "\n",
    "temperatura = 25\n",
    "\n",
    "if (tempo == 'ensolarado') and (temperatura > 20): # o dia tem que estar ensolarado e a temperatura tem que ser maior que 20\n",
    "    print(f'Hoje vai dar praia')\n",
    "    \n",
    "else:\n",
    "    print(f'Hoje vai ser Netflix')"
   ]
  },
  {
   "cell_type": "code",
   "execution_count": 27,
   "metadata": {
    "ExecuteTime": {
     "end_time": "2020-09-02T14:00:44.112370Z",
     "start_time": "2020-09-02T14:00:44.104444Z"
    },
    "hidden": true
   },
   "outputs": [
    {
     "name": "stdout",
     "output_type": "stream",
     "text": [
      "Hoje vai ser Netflix\n"
     ]
    }
   ],
   "source": [
    "tempo = 'ensolarado'\n",
    "\n",
    "temperatura = 20\n",
    "\n",
    "if (tempo == 'ensolarado') and (temperatura > 20):\n",
    "    print(f'Hoje vai dar praia')\n",
    "    \n",
    "else:\n",
    "    print(f'Hoje vai ser Netflix')"
   ]
  },
  {
   "cell_type": "markdown",
   "metadata": {
    "hidden": true
   },
   "source": [
    "O assunto das declarações condicionais **if** serão explorados a seu tempo, mas se estivermos muito ansiosos para avançar sobre esse tipo de recurso, podemos utilizar as células abaixo para fazer alguns experimentos."
   ]
  },
  {
   "cell_type": "code",
   "execution_count": null,
   "metadata": {
    "hidden": true
   },
   "outputs": [],
   "source": []
  },
  {
   "cell_type": "code",
   "execution_count": null,
   "metadata": {
    "hidden": true
   },
   "outputs": [],
   "source": []
  },
  {
   "cell_type": "code",
   "execution_count": null,
   "metadata": {
    "hidden": true
   },
   "outputs": [],
   "source": []
  },
  {
   "cell_type": "markdown",
   "metadata": {
    "heading_collapsed": true
   },
   "source": [
    "## Operadores de associação/pertencimento (member operators)\n"
   ]
  },
  {
   "cell_type": "markdown",
   "metadata": {
    "hidden": true
   },
   "source": [
    "Operadores de associação/pertencimento servem para verificar se um determinado valor se encontra dentro de uma sequência. Os operadores são **in** e **not in**."
   ]
  },
  {
   "cell_type": "code",
   "execution_count": 42,
   "metadata": {
    "ExecuteTime": {
     "end_time": "2020-09-02T14:51:30.463208Z",
     "start_time": "2020-09-02T14:51:30.459202Z"
    },
    "hidden": true
   },
   "outputs": [
    {
     "name": "stdout",
     "output_type": "stream",
     "text": [
      "['mamão', 'laranja', 'abacate', 'ovos']\n"
     ]
    }
   ],
   "source": [
    "lista_da_feira = ['mamão', 'laranja', 'abacate', 'ovos']\n",
    "\n",
    "print(lista_da_feira)"
   ]
  },
  {
   "cell_type": "code",
   "execution_count": 38,
   "metadata": {
    "ExecuteTime": {
     "end_time": "2020-09-02T14:48:56.555792Z",
     "start_time": "2020-09-02T14:48:56.551789Z"
    },
    "hidden": true
   },
   "outputs": [
    {
     "data": {
      "text/plain": [
       "True"
      ]
     },
     "execution_count": 38,
     "metadata": {},
     "output_type": "execute_result"
    }
   ],
   "source": [
    "'mamão' in lista_da_feira"
   ]
  },
  {
   "cell_type": "code",
   "execution_count": 39,
   "metadata": {
    "ExecuteTime": {
     "end_time": "2020-09-02T14:49:56.263508Z",
     "start_time": "2020-09-02T14:49:56.259489Z"
    },
    "hidden": true
   },
   "outputs": [
    {
     "data": {
      "text/plain": [
       "False"
      ]
     },
     "execution_count": 39,
     "metadata": {},
     "output_type": "execute_result"
    }
   ],
   "source": [
    "'mamão' not in lista_da_feira"
   ]
  },
  {
   "cell_type": "markdown",
   "metadata": {
    "hidden": true
   },
   "source": [
    "Novamente, temos aí uma operação que pode ser utilizada em condicionais."
   ]
  },
  {
   "cell_type": "code",
   "execution_count": 43,
   "metadata": {
    "ExecuteTime": {
     "end_time": "2020-09-02T14:52:39.914304Z",
     "start_time": "2020-09-02T14:52:39.909317Z"
    },
    "hidden": true
   },
   "outputs": [
    {
     "name": "stdout",
     "output_type": "stream",
     "text": [
      "não esqueça de comprar tomate\n"
     ]
    }
   ],
   "source": [
    "if 'tomate' not in lista_da_feira:\n",
    "    \n",
    "    print('não esqueça de comprar tomate')\n",
    "else:\n",
    "    print('aproveita e me compra um pastel')"
   ]
  },
  {
   "cell_type": "markdown",
   "metadata": {
    "hidden": true
   },
   "source": [
    "Podemos fazer vários testes com operadores de associação/pertencimento nas células abaixo:"
   ]
  },
  {
   "cell_type": "code",
   "execution_count": null,
   "metadata": {
    "hidden": true
   },
   "outputs": [],
   "source": []
  },
  {
   "cell_type": "code",
   "execution_count": null,
   "metadata": {
    "hidden": true
   },
   "outputs": [],
   "source": []
  },
  {
   "cell_type": "code",
   "execution_count": null,
   "metadata": {
    "hidden": true
   },
   "outputs": [],
   "source": []
  },
  {
   "cell_type": "markdown",
   "metadata": {
    "heading_collapsed": true
   },
   "source": [
    "## Operadores de Identidade"
   ]
  },
  {
   "cell_type": "markdown",
   "metadata": {
    "hidden": true
   },
   "source": [
    "Os operadores de identidade **is** e **is not** servem para verificar se dois objetos ocupam uma mesma unidade de armazenamento. \n",
    "\n",
    "Muitas vezes, esses dois operadores são são confundidos com os operadores de comparação == e !=, como se is e is not servissem para verificar se dois valores são, ou não são, idênticos. Não é o caso. Esses operadores verificam se\n",
    "\n",
    "Quando um objeto é declarado em Python, a linguagem cria um número de identificação, **_identity_**, ou **id**, que serve como referência única para esse objeto, durante seu ciclo de vida. A rigor esse número serve como identificação do objeto na memória. Se dois objetos apresentam o mesmo número identity, isso signica que eles apontam para um mesmo local de armazenamento."
   ]
  },
  {
   "cell_type": "code",
   "execution_count": 50,
   "metadata": {
    "ExecuteTime": {
     "end_time": "2020-09-02T15:30:01.916703Z",
     "start_time": "2020-09-02T15:30:01.912702Z"
    },
    "hidden": true
   },
   "outputs": [],
   "source": [
    "variavel1 = 10"
   ]
  },
  {
   "cell_type": "code",
   "execution_count": 51,
   "metadata": {
    "ExecuteTime": {
     "end_time": "2020-09-02T15:30:02.481038Z",
     "start_time": "2020-09-02T15:30:02.479035Z"
    },
    "hidden": true
   },
   "outputs": [],
   "source": [
    "variavel2 = 10"
   ]
  },
  {
   "cell_type": "code",
   "execution_count": 55,
   "metadata": {
    "ExecuteTime": {
     "end_time": "2020-09-02T15:31:51.190663Z",
     "start_time": "2020-09-02T15:31:51.186673Z"
    },
    "hidden": true
   },
   "outputs": [
    {
     "name": "stdout",
     "output_type": "stream",
     "text": [
      "True\n"
     ]
    }
   ],
   "source": [
    "print(variavel1 == variavel2) # verifica se os valores nas variáveis são iguais"
   ]
  },
  {
   "cell_type": "code",
   "execution_count": 56,
   "metadata": {
    "ExecuteTime": {
     "end_time": "2020-09-02T15:32:40.385131Z",
     "start_time": "2020-09-02T15:32:40.382113Z"
    },
    "hidden": true
   },
   "outputs": [
    {
     "name": "stdout",
     "output_type": "stream",
     "text": [
      "True\n"
     ]
    }
   ],
   "source": [
    "print(variavel1 is variavel2) # verifica se as variáveis apresentam a mesma id, ous seja apontam para o mesmo lugar na memória"
   ]
  },
  {
   "cell_type": "markdown",
   "metadata": {
    "hidden": true
   },
   "source": [
    "No caso da variavel1 e da variavel2, é possível observar que ambas apresentam valor idêntico, o que é observável pela operação de comparação **==**. Mais do que isso, ambas as variáveis apontam para uma mesma localização na memória, o que é observável pelo retorno True para a operação **is**. Podemos confirmar isso na célula adiante, a partir da função id(), que retorna o **_identity number_** dos objetos dessas variáveis."
   ]
  },
  {
   "cell_type": "code",
   "execution_count": 53,
   "metadata": {
    "ExecuteTime": {
     "end_time": "2020-09-02T15:36:14.607515Z",
     "start_time": "2020-09-02T15:36:14.603506Z"
    },
    "hidden": true
   },
   "outputs": [
    {
     "name": "stdout",
     "output_type": "stream",
     "text": [
      "1722397184 1722397184\n"
     ]
    }
   ],
   "source": [
    "print(id(variavel1), id(variavel2))"
   ]
  },
  {
   "cell_type": "markdown",
   "metadata": {
    "hidden": true
   },
   "source": [
    "Python aproveitou que as variáveis foram declaradas com valores idênticos e utilizou um mesmo local para armazenamento. Como cada objeto Python é composto de seu valor, tipo e __identity number__, essa associação entre dois objetos declarado depende que cada um desses elementos armazenados seja o mesmo. Vejamos o que acontece quando declaramos os mesmos valores, mas com tipos diferentes."
   ]
  },
  {
   "cell_type": "code",
   "execution_count": 62,
   "metadata": {
    "ExecuteTime": {
     "end_time": "2020-09-02T15:39:57.217905Z",
     "start_time": "2020-09-02T15:39:57.213877Z"
    },
    "hidden": true
   },
   "outputs": [],
   "source": [
    "variavel3 = 10.0 # dez agora é um float, ou seja, número decimal."
   ]
  },
  {
   "cell_type": "code",
   "execution_count": 60,
   "metadata": {
    "ExecuteTime": {
     "end_time": "2020-09-02T15:36:14.140752Z",
     "start_time": "2020-09-02T15:36:14.136762Z"
    },
    "hidden": true
   },
   "outputs": [],
   "source": [
    "variavel4 = 10"
   ]
  },
  {
   "cell_type": "code",
   "execution_count": 65,
   "metadata": {
    "ExecuteTime": {
     "end_time": "2020-09-02T15:40:31.729938Z",
     "start_time": "2020-09-02T15:40:31.725902Z"
    },
    "hidden": true
   },
   "outputs": [
    {
     "name": "stdout",
     "output_type": "stream",
     "text": [
      "True\n"
     ]
    }
   ],
   "source": [
    "print(variavel3 == variavel4)"
   ]
  },
  {
   "cell_type": "code",
   "execution_count": 66,
   "metadata": {
    "ExecuteTime": {
     "end_time": "2020-09-02T15:40:39.855304Z",
     "start_time": "2020-09-02T15:40:39.850318Z"
    },
    "hidden": true
   },
   "outputs": [
    {
     "name": "stdout",
     "output_type": "stream",
     "text": [
      "False\n"
     ]
    }
   ],
   "source": [
    "print(variavel3 is variavel4)"
   ]
  },
  {
   "cell_type": "code",
   "execution_count": 61,
   "metadata": {
    "ExecuteTime": {
     "end_time": "2020-09-02T15:36:14.607515Z",
     "start_time": "2020-09-02T15:36:14.603506Z"
    },
    "hidden": true
   },
   "outputs": [
    {
     "name": "stdout",
     "output_type": "stream",
     "text": [
      "2166792789352 1722397184\n"
     ]
    }
   ],
   "source": [
    "print(id(variavel3), id(variavel4))"
   ]
  },
  {
   "cell_type": "code",
   "execution_count": 67,
   "metadata": {
    "ExecuteTime": {
     "end_time": "2020-09-02T15:44:39.718643Z",
     "start_time": "2020-09-02T15:44:39.714622Z"
    },
    "hidden": true
   },
   "outputs": [
    {
     "name": "stdout",
     "output_type": "stream",
     "text": [
      "<class 'float'> <class 'int'>\n"
     ]
    }
   ],
   "source": [
    "print(type(variavel3), type(variavel4))"
   ]
  },
  {
   "cell_type": "markdown",
   "metadata": {
    "hidden": true
   },
   "source": [
    "Notemos que acima a operação de igualde retorna True, indicando que os valores nas variáveis variavel3 e variavel4 são equivalentes. No entanto, esses objetos não são o mesmo, por que estão armazenados em diferentes lugares na memória, com diferentes **_identity numbers_** e tipos."
   ]
  },
  {
   "cell_type": "markdown",
   "metadata": {
    "heading_collapsed": true
   },
   "source": [
    "## Operadores bit a bit\n"
   ]
  },
  {
   "cell_type": "markdown",
   "metadata": {
    "hidden": true
   },
   "source": [
    "Existem também operadores de comparação bit a bit, porém é um assunto que dificilmente utilizaremos de imediato. Em alguns pacotes importantes para Data Science, como Pandas, parte desses operadores funcionam como **and**, **or** e **not**, mas aplicados a sequências de objetos, em vez de dois objetos por vez. Assim, como não é algo que devemos utilizar nos próximos notebooks, deixemos aqui apenas a referência a esse tipo de operador, caso "
   ]
  }
 ],
 "metadata": {
  "kernelspec": {
   "display_name": "aulas",
   "language": "python",
   "name": "aulas"
  },
  "language_info": {
   "codemirror_mode": {
    "name": "ipython",
    "version": 3
   },
   "file_extension": ".py",
   "mimetype": "text/x-python",
   "name": "python",
   "nbconvert_exporter": "python",
   "pygments_lexer": "ipython3",
   "version": "3.6.10"
  },
  "toc": {
   "base_numbering": 1,
   "nav_menu": {},
   "number_sections": true,
   "sideBar": true,
   "skip_h1_title": false,
   "title_cell": "Table of Contents",
   "title_sidebar": "Contents",
   "toc_cell": false,
   "toc_position": {},
   "toc_section_display": true,
   "toc_window_display": false
  }
 },
 "nbformat": 4,
 "nbformat_minor": 4
}
