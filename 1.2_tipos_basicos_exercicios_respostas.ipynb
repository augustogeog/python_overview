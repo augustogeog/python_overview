{
 "cells": [
  {
   "cell_type": "markdown",
   "metadata": {},
   "source": [
    "# EXERCÍCIOS DE TIPOS BÁSICOS DE DADOS"
   ]
  },
  {
   "cell_type": "markdown",
   "metadata": {},
   "source": [
    "## Tipos Simples e Declaração de Variáveis"
   ]
  },
  {
   "cell_type": "markdown",
   "metadata": {},
   "source": [
    "### Declaração de Variáveis, Tipagem e Verificação de Tipos"
   ]
  },
  {
   "cell_type": "markdown",
   "metadata": {},
   "source": [
    "Para fixação de entendimento sobre a forma como Python atribui automaticamente tipos a objetos, a partir da declaração de objetos, faça a ativida do enunciado abaixo:\n",
    "\n",
    "Nas células abaixo, declare as variáveis com os nomes indicados em comentário. Atribua a essas variáveis valores que correspondam aos tipos simples solicitados. Garanta que os tipos sejam reconhecidos pelo Python a partir da forma como os valores forem expressados. Não utilize construtores de objetos - float(), int() ou bool(). <br> Na sequência de cada célula em que tenha declarado variável, utilize a função type() para confirmar qual o tipo do objeto na variável."
   ]
  },
  {
   "cell_type": "code",
   "execution_count": 1,
   "metadata": {
    "ExecuteTime": {
     "end_time": "2020-09-05T00:40:51.090486Z",
     "start_time": "2020-09-05T00:40:51.087908Z"
    }
   },
   "outputs": [],
   "source": [
    "# declare a variável num_int, a receber um número qualquer, de tipo integer\n",
    "\n",
    "num_int = 99999999"
   ]
  },
  {
   "cell_type": "code",
   "execution_count": 2,
   "metadata": {
    "ExecuteTime": {
     "end_time": "2020-09-05T00:40:51.113210Z",
     "start_time": "2020-09-05T00:40:51.092813Z"
    }
   },
   "outputs": [
    {
     "data": {
      "text/plain": [
       "int"
      ]
     },
     "execution_count": 2,
     "metadata": {},
     "output_type": "execute_result"
    }
   ],
   "source": [
    "# utilize a função type() para verificar o tipo da variável num_int\n",
    "type(num_int)"
   ]
  },
  {
   "cell_type": "code",
   "execution_count": 3,
   "metadata": {
    "ExecuteTime": {
     "end_time": "2020-09-05T00:40:51.127555Z",
     "start_time": "2020-09-05T00:40:51.115325Z"
    }
   },
   "outputs": [],
   "source": [
    "# declare a variável num_float, a receber um número qualquer, de tipo float\n",
    "\n",
    "num_float = .9999"
   ]
  },
  {
   "cell_type": "code",
   "execution_count": 4,
   "metadata": {
    "ExecuteTime": {
     "end_time": "2020-09-05T00:40:51.151285Z",
     "start_time": "2020-09-05T00:40:51.128585Z"
    }
   },
   "outputs": [
    {
     "data": {
      "text/plain": [
       "float"
      ]
     },
     "execution_count": 4,
     "metadata": {},
     "output_type": "execute_result"
    }
   ],
   "source": [
    "# utilize a função type() para verificar o tipo da variável num_float\n",
    "type(num_float)"
   ]
  },
  {
   "cell_type": "code",
   "execution_count": 5,
   "metadata": {
    "ExecuteTime": {
     "end_time": "2020-09-05T00:40:51.171681Z",
     "start_time": "2020-09-05T00:40:51.152732Z"
    }
   },
   "outputs": [],
   "source": [
    "# declare a variável valor_boleano, a receber um valor lógico, verdadeiro ou falso, de tipo bool\n",
    "\n",
    "valor_boleano = True"
   ]
  },
  {
   "cell_type": "code",
   "execution_count": 6,
   "metadata": {
    "ExecuteTime": {
     "end_time": "2020-09-05T00:40:51.191673Z",
     "start_time": "2020-09-05T00:40:51.173676Z"
    }
   },
   "outputs": [
    {
     "data": {
      "text/plain": [
       "bool"
      ]
     },
     "execution_count": 6,
     "metadata": {},
     "output_type": "execute_result"
    }
   ],
   "source": [
    "# utilize a função type() para verificar se o tipo da variável valor_boleano é bool\n",
    "\n",
    "type(valor_boleano)"
   ]
  },
  {
   "cell_type": "markdown",
   "metadata": {},
   "source": [
    "### Uso de construtores de objetos na atribuição de tipos"
   ]
  },
  {
   "cell_type": "markdown",
   "metadata": {},
   "source": [
    "Com vistas a manter o entendimento sobre o papel dos construtores de objeto na declaração de diferentes tipos, faça o que é pedido adiante:\n",
    "\n",
    "Nas próximas células, execute os mesmos procedimentos indicados no exercício anterior, com a diferença de utilizar os construtores de objetos: float(), int() ou bool(). Declare também uma variável chamada valor_null, que deve receber valor de tipo None."
   ]
  },
  {
   "cell_type": "code",
   "execution_count": 7,
   "metadata": {
    "ExecuteTime": {
     "end_time": "2020-09-05T00:40:51.265190Z",
     "start_time": "2020-09-05T00:40:51.257251Z"
    }
   },
   "outputs": [],
   "source": [
    "# declare a variável num_int2, a receber um número qualquer, de tipo integer\n",
    "\n",
    "num_int2 = int(1.0)"
   ]
  },
  {
   "cell_type": "code",
   "execution_count": 8,
   "metadata": {
    "ExecuteTime": {
     "end_time": "2020-09-05T00:40:51.280662Z",
     "start_time": "2020-09-05T00:40:51.267978Z"
    }
   },
   "outputs": [
    {
     "data": {
      "text/plain": [
       "int"
      ]
     },
     "execution_count": 8,
     "metadata": {},
     "output_type": "execute_result"
    }
   ],
   "source": [
    "# utilize a função type() para verificar o tipo da variável num_int2\n",
    "\n",
    "type(num_int2)"
   ]
  },
  {
   "cell_type": "code",
   "execution_count": 9,
   "metadata": {
    "ExecuteTime": {
     "end_time": "2020-09-05T00:40:51.303882Z",
     "start_time": "2020-09-05T00:40:51.283577Z"
    }
   },
   "outputs": [],
   "source": [
    "# declare a variável num_float2, a receber um número qualquer, de tipo float\n",
    "\n",
    "num_float2 = float(1)"
   ]
  },
  {
   "cell_type": "code",
   "execution_count": 10,
   "metadata": {
    "ExecuteTime": {
     "end_time": "2020-09-05T00:40:51.313236Z",
     "start_time": "2020-09-05T00:40:51.305879Z"
    }
   },
   "outputs": [
    {
     "data": {
      "text/plain": [
       "float"
      ]
     },
     "execution_count": 10,
     "metadata": {},
     "output_type": "execute_result"
    }
   ],
   "source": [
    "# utilize a função type() para verificar o tipo da variável num_float2\n",
    "\n",
    "type(num_float2)"
   ]
  },
  {
   "cell_type": "code",
   "execution_count": 11,
   "metadata": {
    "ExecuteTime": {
     "end_time": "2020-09-05T00:40:51.325473Z",
     "start_time": "2020-09-05T00:40:51.314670Z"
    }
   },
   "outputs": [],
   "source": [
    "# declare a variável valor_boleano2, a receber um valor lógico, verdadeiro ou falso, de tipo bool\n",
    "\n",
    "valor_boleano2 = bool(0.99)"
   ]
  },
  {
   "cell_type": "code",
   "execution_count": 12,
   "metadata": {
    "ExecuteTime": {
     "end_time": "2020-09-05T00:40:51.349410Z",
     "start_time": "2020-09-05T00:40:51.326470Z"
    }
   },
   "outputs": [
    {
     "data": {
      "text/plain": [
       "bool"
      ]
     },
     "execution_count": 12,
     "metadata": {},
     "output_type": "execute_result"
    }
   ],
   "source": [
    "# utilize a função type() para verificar se o tipo da variável valor_boleano2 é bool\n",
    "\n",
    "type(valor_boleano2)"
   ]
  },
  {
   "cell_type": "code",
   "execution_count": 13,
   "metadata": {
    "ExecuteTime": {
     "end_time": "2020-09-05T00:40:51.369779Z",
     "start_time": "2020-09-05T00:40:51.349410Z"
    }
   },
   "outputs": [],
   "source": [
    "# declare a variável valor_null, que deve receber valor de tipo None\n",
    "\n",
    "valor_null = None"
   ]
  },
  {
   "cell_type": "code",
   "execution_count": 14,
   "metadata": {
    "ExecuteTime": {
     "end_time": "2020-09-05T00:40:51.397000Z",
     "start_time": "2020-09-05T00:40:51.370778Z"
    }
   },
   "outputs": [
    {
     "data": {
      "text/plain": [
       "NoneType"
      ]
     },
     "execution_count": 14,
     "metadata": {},
     "output_type": "execute_result"
    }
   ],
   "source": [
    "# utilize a função type() para verificar o tipo da variável valor_null\n",
    "\n",
    "type(valor_null)"
   ]
  },
  {
   "cell_type": "markdown",
   "metadata": {},
   "source": [
    "## Alteração de Tipos"
   ]
  },
  {
   "cell_type": "markdown",
   "metadata": {},
   "source": [
    "### Alterando tipos"
   ]
  },
  {
   "cell_type": "markdown",
   "metadata": {},
   "source": [
    "Utilize construtores de variáveis para alterar os tipos armazenados nas variáveis criadas nos exercícios anteriores. Armazene os dados alterados em novas variáveis, conforme solicitado nos comentários das células seguintes."
   ]
  },
  {
   "cell_type": "code",
   "execution_count": 15,
   "metadata": {
    "ExecuteTime": {
     "end_time": "2020-09-05T00:40:51.538665Z",
     "start_time": "2020-09-05T00:40:51.531825Z"
    }
   },
   "outputs": [],
   "source": [
    "# Use o construtor correspondente para aplicar o tipo float ao valor da variável num_int.\n",
    "# Atribua o resultado à variável num_f\n",
    "\n",
    "\n",
    "num_f = float(num_int)"
   ]
  },
  {
   "cell_type": "code",
   "execution_count": 16,
   "metadata": {
    "ExecuteTime": {
     "end_time": "2020-09-05T00:40:51.557355Z",
     "start_time": "2020-09-05T00:40:51.540858Z"
    }
   },
   "outputs": [
    {
     "data": {
      "text/plain": [
       "float"
      ]
     },
     "execution_count": 16,
     "metadata": {},
     "output_type": "execute_result"
    }
   ],
   "source": [
    "# utilize a função type() para verificar o tipo da variável num_f\n",
    "\n",
    "type(num_f)"
   ]
  },
  {
   "cell_type": "code",
   "execution_count": 17,
   "metadata": {
    "ExecuteTime": {
     "end_time": "2020-09-05T00:40:51.568483Z",
     "start_time": "2020-09-05T00:40:51.560869Z"
    }
   },
   "outputs": [],
   "source": [
    "# Use o construtor correspondente para aplicar o tipo int ao valor da variável num_float.\n",
    "# Atribua o resultado à variável num_i\n",
    "\n",
    "\n",
    "num_i = int(num_float)"
   ]
  },
  {
   "cell_type": "code",
   "execution_count": 18,
   "metadata": {
    "ExecuteTime": {
     "end_time": "2020-09-05T00:40:51.583504Z",
     "start_time": "2020-09-05T00:40:51.570505Z"
    }
   },
   "outputs": [
    {
     "data": {
      "text/plain": [
       "int"
      ]
     },
     "execution_count": 18,
     "metadata": {},
     "output_type": "execute_result"
    }
   ],
   "source": [
    "# Use o construtor correspondente para aplicar o tipo int ao valor da variável num_float.\n",
    "# Atribua o resultado à variável num_i\n",
    "\n",
    "\n",
    "type(num_i)"
   ]
  },
  {
   "cell_type": "code",
   "execution_count": 19,
   "metadata": {
    "ExecuteTime": {
     "end_time": "2020-09-05T00:40:51.597914Z",
     "start_time": "2020-09-05T00:40:51.584468Z"
    }
   },
   "outputs": [],
   "source": [
    "# Use o construtor correspondente para aplicar o tipo float ao valor da variável valor_boleano.\n",
    "# Atribua o resultado à variável num_i\n",
    "\n",
    "val_f = float(valor_boleano)"
   ]
  },
  {
   "cell_type": "code",
   "execution_count": 20,
   "metadata": {
    "ExecuteTime": {
     "end_time": "2020-09-05T00:40:51.623367Z",
     "start_time": "2020-09-05T00:40:51.597914Z"
    }
   },
   "outputs": [
    {
     "data": {
      "text/plain": [
       "float"
      ]
     },
     "execution_count": 20,
     "metadata": {},
     "output_type": "execute_result"
    }
   ],
   "source": [
    "# utilize a função type() para verificar se o tipo da variável val_f é float\n",
    "\n",
    "type(val_f)"
   ]
  },
  {
   "cell_type": "code",
   "execution_count": 21,
   "metadata": {
    "ExecuteTime": {
     "end_time": "2020-09-05T00:40:51.634930Z",
     "start_time": "2020-09-05T00:40:51.625123Z"
    }
   },
   "outputs": [
    {
     "data": {
      "text/plain": [
       "1.0"
      ]
     },
     "execution_count": 21,
     "metadata": {},
     "output_type": "execute_result"
    }
   ],
   "source": [
    "# execute esta célula para verificar o conteúdo da variável val_f\n",
    "\n",
    "val_f"
   ]
  },
  {
   "cell_type": "markdown",
   "metadata": {
    "hide_input": false
   },
   "source": [
    "## Tipos Compostos"
   ]
  },
  {
   "cell_type": "markdown",
   "metadata": {},
   "source": [
    "### Declarando strings e listas"
   ]
  },
  {
   "cell_type": "markdown",
   "metadata": {},
   "source": [
    "Declare as variáveis solicitadas nos comentários das células abaixo, contendo os tipos compostos indicados. "
   ]
  },
  {
   "cell_type": "code",
   "execution_count": 22,
   "metadata": {
    "ExecuteTime": {
     "end_time": "2020-09-05T00:40:51.794417Z",
     "start_time": "2020-09-05T00:40:51.789287Z"
    }
   },
   "outputs": [],
   "source": [
    "# declare as variáveis faltantes, contendo strings, conforme a sequência iniciada:\n",
    "\n",
    "m1 = 'janeiro'\n",
    "m2 = 'fevereiro'\n",
    "m3 = 'março'\n",
    "m4 = 'abril'\n",
    "m5 = 'maio'\n",
    "m6 = 'junho'\n",
    "m7 = 'julho'\n",
    "m8 = 'agosto'\n",
    "m9 = 'setembro'\n",
    "m10 = 'outubro'\n",
    "m11 = 'novembro'\n",
    "m12 = 'dezembro'"
   ]
  },
  {
   "cell_type": "code",
   "execution_count": 23,
   "metadata": {
    "ExecuteTime": {
     "end_time": "2020-09-05T00:40:51.818532Z",
     "start_time": "2020-09-05T00:40:51.796411Z"
    }
   },
   "outputs": [],
   "source": [
    "# crie uma variavel chamada lista_meses\n",
    "# Utilize colchetes para criar, na variavel lista_meses, um objeto de tipo lista que contenha...\n",
    "# todas as variáveis criadas acima, de m1 a m12\n",
    "\n",
    "\n",
    "lista_meses = [m1, m2, m3, m4, m5, m6, m7, m8, m9, m10, m11, m12]"
   ]
  },
  {
   "cell_type": "code",
   "execution_count": 24,
   "metadata": {
    "ExecuteTime": {
     "end_time": "2020-09-05T00:40:51.837972Z",
     "start_time": "2020-09-05T00:40:51.820527Z"
    }
   },
   "outputs": [
    {
     "name": "stdout",
     "output_type": "stream",
     "text": [
      "['janeiro', 'fevereiro', 'março', 'abril', 'maio', 'junho', 'julho', 'agosto', 'setembro', 'outubro', 'novembro', 'dezembro']\n"
     ]
    }
   ],
   "source": [
    "# execute o código print(lista_meses) para verificar como ficou o conteúdo da lista\n",
    "\n",
    "print(lista_meses)"
   ]
  },
  {
   "cell_type": "markdown",
   "metadata": {},
   "source": [
    "Nota: Estamos em etapa de aprendizado, por isso os exercícios contam com certo nível de repetição de procedimentos bastanta simples. Devemos guardar em mente que isso é uma adaptação didática e que o trabalho de desenvolvimento em Python vai perdendo esse caráter repetitivo, quanto mais aprendemos a utilizar a ferramenta. De fato, esse design, com diversas variáveis sendo declaradas manualmente, para depois serem chamadas em uma lista, seria o tipo de coisa que um desenvolvedor experiente se sentiria constrangido de fazer, e que o levaria a criar uma rotina mais elegante e com menos digitação."
   ]
  },
  {
   "cell_type": "markdown",
   "metadata": {},
   "source": [
    "### Indexando e fatiando"
   ]
  },
  {
   "cell_type": "markdown",
   "metadata": {
    "ExecuteTime": {
     "end_time": "2020-08-04T12:13:23.146141Z",
     "start_time": "2020-08-04T12:13:23.142145Z"
    }
   },
   "source": [
    "Por meio de indexação e fatiamento, obtenha os valores requeridos nas células adiante."
   ]
  },
  {
   "cell_type": "code",
   "execution_count": 25,
   "metadata": {
    "ExecuteTime": {
     "end_time": "2020-09-05T00:40:52.030762Z",
     "start_time": "2020-09-05T00:40:52.024508Z"
    }
   },
   "outputs": [
    {
     "data": {
      "text/plain": [
       "'janeiro'"
      ]
     },
     "execution_count": 25,
     "metadata": {},
     "output_type": "execute_result"
    }
   ],
   "source": [
    "# obtenha o primeiro mês na lista lista_meses\n",
    "\n",
    "lista_meses[0]"
   ]
  },
  {
   "cell_type": "code",
   "execution_count": 26,
   "metadata": {
    "ExecuteTime": {
     "end_time": "2020-09-05T00:40:52.051345Z",
     "start_time": "2020-09-05T00:40:52.033984Z"
    }
   },
   "outputs": [
    {
     "data": {
      "text/plain": [
       "'dezembro'"
      ]
     },
     "execution_count": 26,
     "metadata": {},
     "output_type": "execute_result"
    }
   ],
   "source": [
    "# obtenha o último mês na lista lista_meses, utilizando número positivo como índice \n",
    "\n",
    "lista_meses[11]"
   ]
  },
  {
   "cell_type": "code",
   "execution_count": 27,
   "metadata": {
    "ExecuteTime": {
     "end_time": "2020-09-05T00:40:52.079689Z",
     "start_time": "2020-09-05T00:40:52.055786Z"
    }
   },
   "outputs": [
    {
     "data": {
      "text/plain": [
       "'dezembro'"
      ]
     },
     "execution_count": 27,
     "metadata": {},
     "output_type": "execute_result"
    }
   ],
   "source": [
    "# obtenha o último mês na lista lista_meses, utilizando número negativo como índice \n",
    "\n",
    "lista_meses[-1]"
   ]
  },
  {
   "cell_type": "code",
   "execution_count": 28,
   "metadata": {
    "ExecuteTime": {
     "end_time": "2020-09-05T00:40:52.098302Z",
     "start_time": "2020-09-05T00:40:52.083539Z"
    }
   },
   "outputs": [
    {
     "data": {
      "text/plain": [
       "'abril'"
      ]
     },
     "execution_count": 28,
     "metadata": {},
     "output_type": "execute_result"
    }
   ],
   "source": [
    "# obtenha o mês de abril a partir da lista lista_meses\n",
    "\n",
    "lista_meses[3]"
   ]
  },
  {
   "cell_type": "code",
   "execution_count": 29,
   "metadata": {
    "ExecuteTime": {
     "end_time": "2020-09-05T00:40:52.116054Z",
     "start_time": "2020-09-05T00:40:52.099291Z"
    }
   },
   "outputs": [
    {
     "data": {
      "text/plain": [
       "'agosto'"
      ]
     },
     "execution_count": 29,
     "metadata": {},
     "output_type": "execute_result"
    }
   ],
   "source": [
    "# obtenha o mês de agosto a partir da lista lista_meses\n",
    "\n",
    "lista_meses[7]"
   ]
  },
  {
   "cell_type": "code",
   "execution_count": 30,
   "metadata": {
    "ExecuteTime": {
     "end_time": "2020-09-05T00:40:52.154875Z",
     "start_time": "2020-09-05T00:40:52.119046Z"
    }
   },
   "outputs": [],
   "source": [
    "# obtenha os três primeiros meses do ano, a partir lista lista_meses\n",
    "# Salve o resultado na lista trimestre1\n",
    "\n",
    "trimestre1 = lista_meses[0:3]"
   ]
  },
  {
   "cell_type": "code",
   "execution_count": 31,
   "metadata": {
    "ExecuteTime": {
     "end_time": "2020-09-05T00:40:52.167355Z",
     "start_time": "2020-09-05T00:40:52.159230Z"
    }
   },
   "outputs": [
    {
     "name": "stdout",
     "output_type": "stream",
     "text": [
      "['janeiro', 'fevereiro', 'março']\n"
     ]
    }
   ],
   "source": [
    "# execute esta célula, para verificar se a variável trimestre1 foi criada corretamente \n",
    "\n",
    "print(trimestre1)"
   ]
  },
  {
   "cell_type": "code",
   "execution_count": 32,
   "metadata": {
    "ExecuteTime": {
     "end_time": "2020-09-05T00:40:52.180603Z",
     "start_time": "2020-09-05T00:40:52.169314Z"
    }
   },
   "outputs": [],
   "source": [
    "# obtenha o meses do segundo trimestre ano, a partir lista lista_meses\n",
    "# Salve o resultado na lista trimestre2\n",
    "\n",
    "trimestre2 = lista_meses[3:6]"
   ]
  },
  {
   "cell_type": "code",
   "execution_count": 33,
   "metadata": {
    "ExecuteTime": {
     "end_time": "2020-09-05T00:40:52.188733Z",
     "start_time": "2020-09-05T00:40:52.180603Z"
    }
   },
   "outputs": [
    {
     "name": "stdout",
     "output_type": "stream",
     "text": [
      "['abril', 'maio', 'junho']\n"
     ]
    }
   ],
   "source": [
    "# execute esta célula, para verificar se a variável trimestre2 foi criada corretamente \n",
    "\n",
    "print(trimestre2)"
   ]
  },
  {
   "cell_type": "code",
   "execution_count": 34,
   "metadata": {
    "ExecuteTime": {
     "end_time": "2020-09-05T00:40:52.196619Z",
     "start_time": "2020-09-05T00:40:52.190493Z"
    }
   },
   "outputs": [],
   "source": [
    "# obtenha o meses do terceiro trimestre ano, a partir lista lista_meses\n",
    "# Salve o resultado na lista trimestre3\n",
    "\n",
    "trimestre3 = lista_meses[6:9]"
   ]
  },
  {
   "cell_type": "code",
   "execution_count": 35,
   "metadata": {
    "ExecuteTime": {
     "end_time": "2020-09-05T00:40:52.204577Z",
     "start_time": "2020-09-05T00:40:52.197617Z"
    }
   },
   "outputs": [
    {
     "name": "stdout",
     "output_type": "stream",
     "text": [
      "['julho', 'agosto', 'setembro']\n"
     ]
    }
   ],
   "source": [
    "# execute esta célula, para verificar se a variável trimestre1 foi criada corretamente \n",
    "\n",
    "print(trimestre3)"
   ]
  },
  {
   "cell_type": "code",
   "execution_count": 36,
   "metadata": {
    "ExecuteTime": {
     "end_time": "2020-09-05T00:40:52.212802Z",
     "start_time": "2020-09-05T00:40:52.205575Z"
    }
   },
   "outputs": [],
   "source": [
    "# De lista_meses, obtenha os meses do último trimestre do ano, utilizando índice negativo aplicado ao primeiro mês a retornar\n",
    "# para o último mês a retornar, lembre-se do que ocorre quando omitimos um índice posicional na notação de fatiamento\n",
    "# Salve o resultado na lista trimestre4\n",
    "\n",
    "trimestre4 = lista_meses[-3:]"
   ]
  },
  {
   "cell_type": "code",
   "execution_count": 37,
   "metadata": {
    "ExecuteTime": {
     "end_time": "2020-09-05T00:40:52.220940Z",
     "start_time": "2020-09-05T00:40:52.214396Z"
    }
   },
   "outputs": [
    {
     "name": "stdout",
     "output_type": "stream",
     "text": [
      "['outubro', 'novembro', 'dezembro']\n"
     ]
    }
   ],
   "source": [
    "# execute esta célula, para verificar se a variável trimestre4 foi criada corretamente \n",
    "\n",
    "print(trimestre4)"
   ]
  },
  {
   "cell_type": "code",
   "execution_count": 38,
   "metadata": {
    "ExecuteTime": {
     "end_time": "2020-09-05T00:40:52.229169Z",
     "start_time": "2020-09-05T00:40:52.223344Z"
    }
   },
   "outputs": [
    {
     "data": {
      "text/plain": [
       "['janeiro',\n",
       " 'fevereiro',\n",
       " 'março',\n",
       " 'abril',\n",
       " 'maio',\n",
       " 'junho',\n",
       " 'julho',\n",
       " 'agosto',\n",
       " 'setembro',\n",
       " 'outubro',\n",
       " 'novembro',\n",
       " 'dezembro']"
      ]
     },
     "execution_count": 38,
     "metadata": {},
     "output_type": "execute_result"
    }
   ],
   "source": [
    "# obtenha o intervalo de todos os meses do ano, a partir do fatiamento da lista:meses\n",
    "#utilize notação com omissão de índices\n",
    "\n",
    "lista_meses[:]"
   ]
  },
  {
   "cell_type": "code",
   "execution_count": 39,
   "metadata": {
    "ExecuteTime": {
     "end_time": "2020-09-05T00:40:52.242261Z",
     "start_time": "2020-09-05T00:40:52.231566Z"
    }
   },
   "outputs": [],
   "source": [
    "# dê continuidade à criação da lista lm, contendo apenas as três primeiras letras de cada mês\n",
    "\n",
    "lm =  [m1[0:3], m2[0:3], m3[0:3], m4[0:3], m5[0:3], m6[0:3], m7[0:3], m8[0:3], m9[0:3], m10[0:3], m11[0:3], m12[0:3]]"
   ]
  },
  {
   "cell_type": "code",
   "execution_count": 40,
   "metadata": {
    "ExecuteTime": {
     "end_time": "2020-09-05T00:40:52.250298Z",
     "start_time": "2020-09-05T00:40:52.244255Z"
    }
   },
   "outputs": [
    {
     "name": "stdout",
     "output_type": "stream",
     "text": [
      "['jan', 'fev', 'mar', 'abr', 'mai', 'jun', 'jul', 'ago', 'set', 'out', 'nov', 'dez']\n"
     ]
    }
   ],
   "source": [
    "# execute esta célula, para verificar se a variável trimestre4 foi criada corretamente \n",
    "\n",
    "print(lm)"
   ]
  },
  {
   "cell_type": "code",
   "execution_count": 41,
   "metadata": {
    "ExecuteTime": {
     "end_time": "2020-09-05T00:40:52.262942Z",
     "start_time": "2020-09-05T00:40:52.252950Z"
    }
   },
   "outputs": [
    {
     "name": "stdout",
     "output_type": "stream",
     "text": [
      "['jan', 'fev', 'mar']\n"
     ]
    }
   ],
   "source": [
    "# observe como notações sucessivas fazem a indexação de uma lista e, a partir dela, o fatiamento da respectiva string\n",
    "\n",
    "pri_trimestre = [trimestre1[0][0:3], trimestre1[1][0:3], trimestre1[2][0:3]]\n",
    "\n",
    "print(pri_trimestre)"
   ]
  },
  {
   "cell_type": "code",
   "execution_count": 42,
   "metadata": {
    "ExecuteTime": {
     "end_time": "2020-09-05T00:40:52.270585Z",
     "start_time": "2020-09-05T00:40:52.264939Z"
    }
   },
   "outputs": [
    {
     "name": "stdout",
     "output_type": "stream",
     "text": [
      "['out', 'nov', 'dez']\n"
     ]
    }
   ],
   "source": [
    "# Faça o mesmo procedimento realizado acima, mas agora com a variável trimestre4\n",
    "\n",
    "quarto_trimestre = [trimestre4[0][0:3], trimestre4[1][0:3], trimestre4[2][0:3]]\n",
    "\n",
    "print(quarto_trimestre)"
   ]
  },
  {
   "cell_type": "markdown",
   "metadata": {},
   "source": [
    "### Encadeamento de objetos compostos"
   ]
  },
  {
   "cell_type": "markdown",
   "metadata": {},
   "source": [
    "Declare listas compostas por outras listas, conforme solicitado adiante. "
   ]
  },
  {
   "cell_type": "code",
   "execution_count": 43,
   "metadata": {
    "ExecuteTime": {
     "end_time": "2020-09-05T00:40:52.325068Z",
     "start_time": "2020-09-05T00:40:52.318470Z"
    }
   },
   "outputs": [],
   "source": [
    "# Atribua à variável trimestres uma lista, contendo as listas trimestre1, trimestre2, trimestre3 e trimestre4\n",
    "\n",
    "trimestres = [trimestre1, trimestre2, trimestre3, trimestre4]"
   ]
  },
  {
   "cell_type": "code",
   "execution_count": 44,
   "metadata": {
    "ExecuteTime": {
     "end_time": "2020-09-05T00:40:52.333364Z",
     "start_time": "2020-09-05T00:40:52.327064Z"
    }
   },
   "outputs": [
    {
     "name": "stdout",
     "output_type": "stream",
     "text": [
      "[['janeiro', 'fevereiro', 'março'], ['abril', 'maio', 'junho'], ['julho', 'agosto', 'setembro'], ['outubro', 'novembro', 'dezembro']]\n"
     ]
    }
   ],
   "source": [
    "# execute esta célula, para verificar se a variável trimestres foi criada corretamente \n",
    "\n",
    "print(trimestres)"
   ]
  },
  {
   "cell_type": "code",
   "execution_count": 45,
   "metadata": {
    "ExecuteTime": {
     "end_time": "2020-09-05T00:40:52.341543Z",
     "start_time": "2020-09-05T00:40:52.333364Z"
    }
   },
   "outputs": [
    {
     "data": {
      "text/plain": [
       "'janeiro'"
      ]
     },
     "execution_count": 45,
     "metadata": {},
     "output_type": "execute_result"
    }
   ],
   "source": [
    "# Execute esta célula e observe seu resultado\n",
    "\n",
    "trimestres[0][0]"
   ]
  },
  {
   "cell_type": "code",
   "execution_count": 46,
   "metadata": {
    "ExecuteTime": {
     "end_time": "2020-09-05T00:40:52.348796Z",
     "start_time": "2020-09-05T00:40:52.342790Z"
    }
   },
   "outputs": [
    {
     "data": {
      "text/plain": [
       "'dezembro'"
      ]
     },
     "execution_count": 46,
     "metadata": {},
     "output_type": "execute_result"
    }
   ],
   "source": [
    "# com base no comportamento acima, obtenha o mês de dezembro a partir da variável trimestres\n",
    "\n",
    "trimestres[-1][-1]"
   ]
  },
  {
   "cell_type": "code",
   "execution_count": 47,
   "metadata": {
    "ExecuteTime": {
     "end_time": "2020-09-05T00:40:52.356499Z",
     "start_time": "2020-09-05T00:40:52.348796Z"
    }
   },
   "outputs": [
    {
     "data": {
      "text/plain": [
       "['abril', 'maio', 'junho']"
      ]
     },
     "execution_count": 47,
     "metadata": {},
     "output_type": "execute_result"
    }
   ],
   "source": [
    "# obtenha a lista que contém todos os meses do segundo trimestre a partir da variável trimestres\n",
    "\n",
    "trimestres[1]"
   ]
  },
  {
   "cell_type": "markdown",
   "metadata": {},
   "source": [
    "### Tuplas"
   ]
  },
  {
   "cell_type": "markdown",
   "metadata": {},
   "source": [
    "Em relação às tuplas, faça o que é pedido adiante:"
   ]
  },
  {
   "cell_type": "code",
   "execution_count": 48,
   "metadata": {
    "ExecuteTime": {
     "end_time": "2020-09-05T00:40:52.538901Z",
     "start_time": "2020-09-05T00:40:52.528854Z"
    }
   },
   "outputs": [],
   "source": [
    "# Declare a tupla tupla_meses, contendo os valores contidos na lista lm\n",
    "\n",
    "tupla_meses = tuple(lm)"
   ]
  },
  {
   "cell_type": "code",
   "execution_count": 49,
   "metadata": {
    "ExecuteTime": {
     "end_time": "2020-09-05T00:40:52.546783Z",
     "start_time": "2020-09-05T00:40:52.541610Z"
    }
   },
   "outputs": [
    {
     "name": "stdout",
     "output_type": "stream",
     "text": [
      "('jan', 'fev', 'mar', 'abr', 'mai', 'jun', 'jul', 'ago', 'set', 'out', 'nov', 'dez')\n"
     ]
    }
   ],
   "source": [
    "# execute esta célula para verificar se a operação acima foi correta\n",
    "\n",
    "print(tupla_meses)"
   ]
  },
  {
   "cell_type": "code",
   "execution_count": 50,
   "metadata": {
    "ExecuteTime": {
     "end_time": "2020-09-05T00:40:52.560869Z",
     "start_time": "2020-09-05T00:40:52.549575Z"
    }
   },
   "outputs": [],
   "source": [
    "# na variável tp, atribua os dois primeiros meses armazenados na variável tupla_meses\n",
    "\n",
    "tp = tupla_meses[:2]"
   ]
  },
  {
   "cell_type": "code",
   "execution_count": 51,
   "metadata": {
    "ExecuteTime": {
     "end_time": "2020-09-05T00:40:52.573780Z",
     "start_time": "2020-09-05T00:40:52.562470Z"
    }
   },
   "outputs": [
    {
     "name": "stdout",
     "output_type": "stream",
     "text": [
      "('jan', 'fev')\n"
     ]
    }
   ],
   "source": [
    "# execute esta célula para verificar se a operação acima foi correta\n",
    "\n",
    "print(tp)"
   ]
  },
  {
   "cell_type": "code",
   "execution_count": 52,
   "metadata": {
    "ExecuteTime": {
     "end_time": "2020-09-05T00:40:52.581515Z",
     "start_time": "2020-09-05T00:40:52.575342Z"
    }
   },
   "outputs": [],
   "source": [
    "# Por meio da técnica tuple unpacking, atribua os meses de janeiro e fevereiro, em tp, às variáveis m01 e m02\n",
    "\n",
    "\n",
    "m01, m02 = tp"
   ]
  },
  {
   "cell_type": "code",
   "execution_count": 53,
   "metadata": {
    "ExecuteTime": {
     "end_time": "2020-09-05T00:40:52.586702Z",
     "start_time": "2020-09-05T00:40:52.583290Z"
    }
   },
   "outputs": [
    {
     "name": "stdout",
     "output_type": "stream",
     "text": [
      "A variável m01 armazena \"jan\" e a variável m02 armazena \"fev\".\n"
     ]
    }
   ],
   "source": [
    "# execute esta célula para verificar se a operação acima foi correta\n",
    "\n",
    "print(f'A variável m01 armazena \"{m01}\" e a variável m02 armazena \"{m02}\".')"
   ]
  },
  {
   "cell_type": "markdown",
   "metadata": {},
   "source": [
    "Note que os valores constantes dentro da tupla passaram a integrar valores das variáveis lat e long com apenas uma operação de atribuição.\n",
    "\n",
    "Suponha que, precisando apenas da latitude e da longitude, a tupla de origem dos dados ainda desse outros dois valores, altitude e população. Como poderíamos fazer a atribuição das variáveis lat e long, deixando de lado a altitude?\n",
    "\n",
    "Isso pode ser feito, utilizando _underscore_ \"_\" como uma variável descartável, que recebe os valores de altitude e de população."
   ]
  },
  {
   "cell_type": "markdown",
   "metadata": {},
   "source": [
    "### Dicionários"
   ]
  },
  {
   "cell_type": "markdown",
   "metadata": {},
   "source": [
    "Declare as variáveis solicitadas nos comentários das células abaixo, contendo os dicionários indicados. "
   ]
  },
  {
   "cell_type": "code",
   "execution_count": 54,
   "metadata": {
    "ExecuteTime": {
     "end_time": "2020-09-05T00:40:52.776363Z",
     "start_time": "2020-09-05T00:40:52.770180Z"
    }
   },
   "outputs": [],
   "source": [
    "# declare uma variável chamada dict_dias_semana, contendo um dicionário vazio\n",
    "# para tanto, pode utilizar apenas os delimitadores do dicionário, ou o construtor desse tipo de objeto\n",
    "\n",
    "# dict_dias_semana = {} é possível\n",
    "\n",
    "dict_dias_semana = dict()"
   ]
  },
  {
   "cell_type": "markdown",
   "metadata": {
    "ExecuteTime": {
     "end_time": "2020-09-05T00:04:03.755410Z",
     "start_time": "2020-09-05T00:04:03.747228Z"
    }
   },
   "source": [
    "Nas próximas células, adicione pares chave:valor ao dicionário dict_dias_semana, contendo nome e ordem do dia da semana, conforme o exemplo da próxima adiante."
   ]
  },
  {
   "cell_type": "code",
   "execution_count": 55,
   "metadata": {
    "ExecuteTime": {
     "end_time": "2020-09-05T00:40:52.851559Z",
     "start_time": "2020-09-05T00:40:52.846138Z"
    }
   },
   "outputs": [],
   "source": [
    "# declare o valor 1, para a chave 'domingo', segundo o padrão: dict_dias_semana['domingo'] = 1\n",
    "\n",
    "dict_dias_semana['domingo'] = 1"
   ]
  },
  {
   "cell_type": "code",
   "execution_count": 56,
   "metadata": {
    "ExecuteTime": {
     "end_time": "2020-09-05T00:40:52.859099Z",
     "start_time": "2020-09-05T00:40:52.853076Z"
    }
   },
   "outputs": [],
   "source": [
    "# declare o valor 2, para a chave 'segunda', segundo o padrão: dict_dias_semana['segunda'] = 2\n",
    "\n",
    "dict_dias_semana['segunda'] = 2"
   ]
  },
  {
   "cell_type": "code",
   "execution_count": 57,
   "metadata": {
    "ExecuteTime": {
     "end_time": "2020-09-05T00:40:52.895490Z",
     "start_time": "2020-09-05T00:40:52.888890Z"
    }
   },
   "outputs": [],
   "source": [
    "#repita o processo para terça e 3\n",
    "\n",
    "dict_dias_semana['terça'] = 3"
   ]
  },
  {
   "cell_type": "code",
   "execution_count": 58,
   "metadata": {
    "ExecuteTime": {
     "end_time": "2020-09-05T00:40:52.895490Z",
     "start_time": "2020-09-05T00:40:52.888890Z"
    }
   },
   "outputs": [],
   "source": [
    "#repita o processo para quarta e 4\n",
    "\n",
    "dict_dias_semana['quarta'] = 4"
   ]
  },
  {
   "cell_type": "code",
   "execution_count": 59,
   "metadata": {
    "ExecuteTime": {
     "end_time": "2020-09-05T00:40:52.895490Z",
     "start_time": "2020-09-05T00:40:52.888890Z"
    }
   },
   "outputs": [],
   "source": [
    "#repita o processo para quinta e 5\n",
    "\n",
    "dict_dias_semana['quinta'] = 5"
   ]
  },
  {
   "cell_type": "code",
   "execution_count": 60,
   "metadata": {
    "ExecuteTime": {
     "end_time": "2020-09-05T00:40:52.895490Z",
     "start_time": "2020-09-05T00:40:52.888890Z"
    }
   },
   "outputs": [],
   "source": [
    "#repita o processo para sexta e 6\n",
    "\n",
    "dict_dias_semana['sexta'] = 6"
   ]
  },
  {
   "cell_type": "code",
   "execution_count": 61,
   "metadata": {
    "ExecuteTime": {
     "end_time": "2020-09-05T00:40:52.895490Z",
     "start_time": "2020-09-05T00:40:52.888890Z"
    }
   },
   "outputs": [],
   "source": [
    "#repita o processo para sábado e 7\n",
    "\n",
    "dict_dias_semana['sábado'] = 7"
   ]
  },
  {
   "cell_type": "code",
   "execution_count": 62,
   "metadata": {
    "ExecuteTime": {
     "end_time": "2020-09-05T00:40:52.900552Z",
     "start_time": "2020-09-05T00:40:52.896487Z"
    }
   },
   "outputs": [
    {
     "name": "stdout",
     "output_type": "stream",
     "text": [
      "{'domingo': 1, 'segunda': 2, 'terça': 3, 'quarta': 4, 'quinta': 5, 'sexta': 6, 'sábado': 7}\n"
     ]
    }
   ],
   "source": [
    "# execute esta célula\n",
    "\n",
    "print(dict_dias_semana)"
   ]
  },
  {
   "cell_type": "markdown",
   "metadata": {},
   "source": [
    "Aproveite abaixo o dict_dias_semana para consultar a ordem de alguns dias."
   ]
  },
  {
   "cell_type": "code",
   "execution_count": 63,
   "metadata": {
    "ExecuteTime": {
     "end_time": "2020-09-05T00:40:52.976362Z",
     "start_time": "2020-09-05T00:40:52.964148Z"
    }
   },
   "outputs": [
    {
     "data": {
      "text/plain": [
       "4"
      ]
     },
     "execution_count": 63,
     "metadata": {},
     "output_type": "execute_result"
    }
   ],
   "source": [
    "# consulte a ordem do dia da semana correspondente à quarta\n",
    "\n",
    "dict_dias_semana['quarta']"
   ]
  },
  {
   "cell_type": "code",
   "execution_count": 64,
   "metadata": {
    "ExecuteTime": {
     "end_time": "2020-09-05T00:40:52.991036Z",
     "start_time": "2020-09-05T00:40:52.979059Z"
    }
   },
   "outputs": [
    {
     "data": {
      "text/plain": [
       "6"
      ]
     },
     "execution_count": 64,
     "metadata": {},
     "output_type": "execute_result"
    }
   ],
   "source": [
    "# consulte a ordem do dia da semana correspondente à sexta\n",
    "\n",
    "dict_dias_semana['sexta']"
   ]
  },
  {
   "cell_type": "code",
   "execution_count": 65,
   "metadata": {
    "ExecuteTime": {
     "end_time": "2020-09-05T00:40:53.002520Z",
     "start_time": "2020-09-05T00:40:52.994020Z"
    }
   },
   "outputs": [
    {
     "data": {
      "text/plain": [
       "7"
      ]
     },
     "execution_count": 65,
     "metadata": {},
     "output_type": "execute_result"
    }
   ],
   "source": [
    "# consulte a ordem do dia da semana correspondente ao sábado\n",
    "\n",
    "dict_dias_semana['sábado']"
   ]
  },
  {
   "cell_type": "code",
   "execution_count": 66,
   "metadata": {
    "ExecuteTime": {
     "end_time": "2020-09-05T00:40:53.012878Z",
     "start_time": "2020-09-05T00:40:53.003520Z"
    }
   },
   "outputs": [],
   "source": [
    "# na variável ordem_hoje, armazene a ordem do dia de hoje a partir de chave correspondente no dicionário dict_dias_semana\n",
    "\n",
    "ordem_hoje = dict_dias_semana['sábado']"
   ]
  },
  {
   "cell_type": "code",
   "execution_count": null,
   "metadata": {},
   "outputs": [],
   "source": []
  },
  {
   "cell_type": "markdown",
   "metadata": {},
   "source": [
    "Uma vez que um valor armazenado em um dicionário pode ser consultado ao se"
   ]
  },
  {
   "cell_type": "code",
   "execution_count": 67,
   "metadata": {
    "ExecuteTime": {
     "end_time": "2020-09-05T00:40:53.063956Z",
     "start_time": "2020-09-05T00:40:53.059937Z"
    }
   },
   "outputs": [],
   "source": [
    "ordem_hoje = dict_dias_semana['sábado']"
   ]
  },
  {
   "cell_type": "code",
   "execution_count": 68,
   "metadata": {
    "ExecuteTime": {
     "end_time": "2020-09-05T00:40:53.070750Z",
     "start_time": "2020-09-05T00:40:53.065952Z"
    }
   },
   "outputs": [
    {
     "name": "stdout",
     "output_type": "stream",
     "text": [
      "Hoje é o 7º dia da semana\n"
     ]
    }
   ],
   "source": [
    "# execute esta célula\n",
    "\n",
    "print(f'Hoje é o {ordem_hoje}º dia da semana')"
   ]
  },
  {
   "cell_type": "code",
   "execution_count": null,
   "metadata": {},
   "outputs": [],
   "source": []
  },
  {
   "cell_type": "code",
   "execution_count": null,
   "metadata": {},
   "outputs": [],
   "source": []
  },
  {
   "cell_type": "code",
   "execution_count": null,
   "metadata": {},
   "outputs": [],
   "source": []
  },
  {
   "cell_type": "code",
   "execution_count": 69,
   "metadata": {
    "ExecuteTime": {
     "end_time": "2020-09-05T00:40:53.083666Z",
     "start_time": "2020-09-05T00:40:53.077240Z"
    }
   },
   "outputs": [],
   "source": [
    "#continue a declarar dict_mes com pares chave:valor formadas por ordem do mês em integers e nome correspondente, respectivamente.\n",
    "# faça isso somente entre fevereiro e dezembro\n",
    "\n",
    "\n",
    "dict_mes = {2:'fevereiro', 3:'março', 4:'abrill', 5:'maio', 6:'junho', 7:'julho', 8:'agosto', 9:'setembro', 10:'outubro', 11:'novembro', 12:'dezembro'}"
   ]
  },
  {
   "cell_type": "code",
   "execution_count": 70,
   "metadata": {
    "ExecuteTime": {
     "end_time": "2020-09-05T00:40:53.095400Z",
     "start_time": "2020-09-05T00:40:53.085662Z"
    }
   },
   "outputs": [
    {
     "name": "stdout",
     "output_type": "stream",
     "text": [
      "{2: 'fevereiro', 3: 'março', 4: 'abrill', 5: 'maio', 6: 'junho', 7: 'julho', 8: 'agosto', 9: 'setembro', 10: 'outubro', 11: 'novembro', 12: 'dezembro'}\n"
     ]
    }
   ],
   "source": [
    "# execute esta célula para conferir o resultado da atividade anterior\n",
    "print(dict_mes)"
   ]
  },
  {
   "cell_type": "code",
   "execution_count": 71,
   "metadata": {
    "ExecuteTime": {
     "end_time": "2020-09-05T00:40:53.100593Z",
     "start_time": "2020-09-05T00:40:53.097070Z"
    }
   },
   "outputs": [],
   "source": [
    "# insira o mês de janeiro no dicionário dict_mes\n",
    "\n",
    "dict_mes[1] = 'janeiro'"
   ]
  },
  {
   "cell_type": "code",
   "execution_count": 72,
   "metadata": {
    "ExecuteTime": {
     "end_time": "2020-09-05T00:40:53.110056Z",
     "start_time": "2020-09-05T00:40:53.103067Z"
    }
   },
   "outputs": [
    {
     "name": "stdout",
     "output_type": "stream",
     "text": [
      "{2: 'fevereiro', 3: 'março', 4: 'abrill', 5: 'maio', 6: 'junho', 7: 'julho', 8: 'agosto', 9: 'setembro', 10: 'outubro', 11: 'novembro', 12: 'dezembro', 1: 'janeiro'}\n"
     ]
    }
   ],
   "source": [
    "# execute esta célula para conferir o resultado da atividade anterior\n",
    "\n",
    "print(dict_mes)"
   ]
  },
  {
   "cell_type": "markdown",
   "metadata": {},
   "source": [
    "Não se preocupe se o resultado da função acima não parecer na ordem dos meses no ano. Usualmente, dicionários não são utilizados para manter ordem específicas, pois o retorno à consulta de seus elementos é feito a partir das chaves, não de suas posições."
   ]
  },
  {
   "cell_type": "code",
   "execution_count": 73,
   "metadata": {
    "ExecuteTime": {
     "end_time": "2020-09-05T00:40:53.191495Z",
     "start_time": "2020-09-05T00:40:53.185700Z"
    }
   },
   "outputs": [],
   "source": [
    "# corrija o valor correspondente à chave 4, no dicionário dict_mes, fazendo uma nova atribuição de chave:valor\n",
    "\n",
    "\n",
    "dict_mes[4] = 'abril'"
   ]
  },
  {
   "cell_type": "code",
   "execution_count": 74,
   "metadata": {
    "ExecuteTime": {
     "end_time": "2020-09-05T00:40:53.199349Z",
     "start_time": "2020-09-05T00:40:53.194266Z"
    }
   },
   "outputs": [
    {
     "name": "stdout",
     "output_type": "stream",
     "text": [
      "abril\n"
     ]
    }
   ],
   "source": [
    "# execute esta célula para conferir o resultado da célula anterior\n",
    "\n",
    "print(dict_mes[4])"
   ]
  },
  {
   "cell_type": "code",
   "execution_count": 75,
   "metadata": {
    "ExecuteTime": {
     "end_time": "2020-09-05T00:40:53.208746Z",
     "start_time": "2020-09-05T00:40:53.201343Z"
    }
   },
   "outputs": [
    {
     "name": "stdout",
     "output_type": "stream",
     "text": [
      "Estamos no mês de setembro.\n"
     ]
    }
   ],
   "source": [
    "# Entre as chaves, insira o número correspondente ao mês corrente \n",
    "\n",
    "print(f'Estamos no mês de {dict_mes[9]}.')"
   ]
  },
  {
   "cell_type": "code",
   "execution_count": 76,
   "metadata": {
    "ExecuteTime": {
     "end_time": "2020-09-05T00:40:53.216331Z",
     "start_time": "2020-09-05T00:40:53.208746Z"
    }
   },
   "outputs": [
    {
     "name": "stdout",
     "output_type": "stream",
     "text": [
      "Mês que vem será outubro.\n"
     ]
    }
   ],
   "source": [
    "# Entre as chaves, insira o número correspondente ao próximo mês \n",
    "\n",
    "print(f'Mês que vem será {dict_mes[10]}.')"
   ]
  }
 ],
 "metadata": {
  "kernelspec": {
   "display_name": "aulas",
   "language": "python",
   "name": "aulas"
  },
  "language_info": {
   "codemirror_mode": {
    "name": "ipython",
    "version": 3
   },
   "file_extension": ".py",
   "mimetype": "text/x-python",
   "name": "python",
   "nbconvert_exporter": "python",
   "pygments_lexer": "ipython3",
   "version": "3.6.10"
  },
  "toc": {
   "base_numbering": 1,
   "nav_menu": {},
   "number_sections": true,
   "sideBar": true,
   "skip_h1_title": true,
   "title_cell": "Table of Contents",
   "title_sidebar": "Contents",
   "toc_cell": false,
   "toc_position": {
    "height": "calc(100% - 180px)",
    "left": "10px",
    "top": "150px",
    "width": "165px"
   },
   "toc_section_display": true,
   "toc_window_display": true
  }
 },
 "nbformat": 4,
 "nbformat_minor": 4
}
