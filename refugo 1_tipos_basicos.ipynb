{
 "cells": [
  {
   "cell_type": "code",
   "execution_count": 1,
   "metadata": {
    "ExecuteTime": {
     "end_time": "2020-08-31T23:50:49.009714Z",
     "start_time": "2020-08-31T23:50:49.004729Z"
    }
   },
   "outputs": [
    {
     "name": "stdout",
     "output_type": "stream",
     "text": [
      "Versão do Python:  3.6.10\n"
     ]
    }
   ],
   "source": [
    "from platform import python_version\n",
    "print(\"Versão do Python: \", python_version())"
   ]
  },
  {
   "cell_type": "markdown",
   "metadata": {},
   "source": [
    "## Visão Geral dos Tipos Nativos em Python\n",
    "\n",
    "\n",
    "\n",
    "\n",
    "\n",
    "Os tipos nativos, são as categorias de objetos que estão disponíveis para o desenvolvedor a partir da instalação básica do Python, sem qualquer adição de novos pacotes.\n",
    "\n",
    "Os tipos básicos podem ser simples ou compostos.\n",
    "\n",
    "Tipos simples são objetos unitários, com apenas um valor armazenado em um endereço único na memória.\n",
    "\n",
    "Tipos compostos são coleções formadas por outros objetos, sejam objetos unitários, ou mesmo outros objetos compostos. Trata-se de objetos que ocupam diversos endereços na memória e que são organizados de forma a que possamos acessar os diversos valores neles contidos.\n",
    "\n",
    "* **Simples**\n",
    "    * **Integers** (números inteiros, ou int)\n",
    "        * 1    20    123    9    55555 <br><br>\n",
    "    * **Floats** (números decimais, ou float point number)\n",
    "        * 1.0   20.0  123.0000000   9.0  55555.000   3.333333333333333   66.66666666666    1e-2   1e-3 <br><br>\n",
    "    * **Booleans**  (boleanos, ou bool, valores lógicos Verdadeiro e Falso)\n",
    "        * True False\n",
    "        * Em operações matemáticas, True recebe o valor 1, enquanto False recebe o valor zero <br><br>\n",
    "    * **None** (Valor Nulo. Não confundir com 0, ou vazio. Trata-se de um valor com suas propriedades específicas)\n",
    "    \n",
    "<br>\n",
    "\n",
    "* **Compostos**\n",
    "    * **Strings** (str, ou cadeia de caracteres, são coleções imutáveis de caracteres delimitadas por aspas duplas ou simples)\n",
    "        * \"abcd\", \"Isto é uma string\", \"Cada uma das letras desta string é salva em um lugar distinto da memória\"\n",
    "        * True e False dentro de uma string não têm valor lógico, pois são uma mera coleção de caracteres\n",
    "        * 1 + 1 dentro de uma string não gera resultado, pois são meros caracteres sem valor matemático\n",
    "        * os valores de uma string são acessíveis por índice posicional (indexação), com primeiro elemento contado a partir do número zero. <br><br> \n",
    "    * **Lists** (Listas são coleções mutáveis de objetos separados por vírgulas e delimitados por chaves \\[ \\] \\, podendo receber, ao mesmo tempo, valores de diversos tipos, inclusive compostos)  \n",
    "        * [1, 2, 'três', 'quatro'], [['uma string contida dentro de uma lista que está contida em outra'], [1,2,3,4], [None]]  <br><br>   \n",
    "    * **Tuples** (tuplas são coleções imutáveis delimitadas por parênteses que contêm objetos separados por vírgulas.\n",
    "        * (100, 1000, 10000)  <br><br>\n",
    "    * **Dictionaires** (dicionários, ou dict, são coleção de pares chave-valor (key:value). Os pares são separados entre si por vírgulas e as coleções são delimitadas por colchetes {}. As chaves devem ser imutáveis, enquanto os valores podem ser quaisquer tipos de objetos, mesmo compostos, inclusive outros dicionários.\n",
    "        * {a:1, b:2, c:3}\n",
    "        * {\"primeira lista\":[1,2,3,4], \"segunda lista\":[5,6,7,8], \"primeiro dicionário\": {a:1, b:2, c:3}} <br><br>\n",
    "    * **Sets** (conjuntos são coleções de objetos separados por vírgulas e delimitados por colchetes, que não admitem duplicidade de valores internos)\n",
    "        * {1, 2, 3, 4, ~~1~~}\n",
    "        * embora também sejam delimitados por colchetes, não há como confundir os sets com os dicionários, pois dicionários, em seu interior, apresentam pares key:value.\n",
    "        * os valores inseridos duplicadamente em um set são automaticamente ignorados\n",
    "        * os valores em um set não são acessíveis por índice posicional. É preciso iterar pelo conjunto para acessar seus valores, um-a-um.\n",
    "        "
   ]
  },
  {
   "cell_type": "markdown",
   "metadata": {},
   "source": [
    "Agora vamos começar a fazer algumas operações básicas com esses tipos, mas antes precisamos nos manter dentro de preceitos milenares. Como tradição, aqueles que querem ser iniciados, que querem compreender os segredos dos códigos e da fé, devem escrever um primeiro programa que convoque a CPU para trazer sua mensagem de saudação ao mundo:\n",
    "\n",
    "Assim, escreva na célula abaixo: \n",
    "\n",
    "```Python\n",
    "\n",
    "mensagem = 'Hello world!'\n",
    "\n",
    "print(mensagem)\n",
    "```\n",
    "\n",
    "\n",
    "\n",
    "Para encerrar o ritual, com a célula ativada, pressione shift+Enter, ou clique no botão Run, na barra de comandos acima."
   ]
  },
  {
   "cell_type": "code",
   "execution_count": 2,
   "metadata": {
    "ExecuteTime": {
     "end_time": "2020-08-31T20:16:57.239393Z",
     "start_time": "2020-08-31T20:16:57.232411Z"
    }
   },
   "outputs": [],
   "source": []
  },
  {
   "cell_type": "markdown",
   "metadata": {},
   "source": [
    "## Tipos Simples"
   ]
  },
  {
   "cell_type": "markdown",
   "metadata": {},
   "source": [
    "### Verificando os tipos de objetos simples\n",
    "\n",
    "Observe os comandos abaixo. Eles indicam que o tipo - type - do valor nos parênteses internos devem ser apresentados na tela - print.\n",
    "\n",
    "```Python\n",
    "print(type(1))\n",
    "print(type(1.))\n",
    "print(type('1'))\n",
    "print(type(True))\n",
    "print(type(None))\n",
    "```\n",
    "\n",
    "Na célula abaixo, preencha os valores faltantes conforme o exemplo acima. Em seguida, pressione shift+Enter para ver o resultado."
   ]
  },
  {
   "cell_type": "code",
   "execution_count": 8,
   "metadata": {
    "ExecuteTime": {
     "end_time": "2020-08-04T23:33:48.825076Z",
     "start_time": "2020-08-04T23:33:48.821063Z"
    }
   },
   "outputs": [
    {
     "name": "stdout",
     "output_type": "stream",
     "text": [
      "<class 'int'>\n"
     ]
    }
   ],
   "source": [
    "print(type( ))"
   ]
  },
  {
   "cell_type": "code",
   "execution_count": 9,
   "metadata": {
    "ExecuteTime": {
     "end_time": "2020-08-04T23:33:59.874681Z",
     "start_time": "2020-08-04T23:33:59.872647Z"
    }
   },
   "outputs": [
    {
     "name": "stdout",
     "output_type": "stream",
     "text": [
      "<class 'float'>\n"
     ]
    }
   ],
   "source": [
    "print((1.))"
   ]
  },
  {
   "cell_type": "code",
   "execution_count": 10,
   "metadata": {
    "ExecuteTime": {
     "end_time": "2020-08-04T23:34:08.511155Z",
     "start_time": "2020-08-04T23:34:08.507167Z"
    }
   },
   "outputs": [
    {
     "name": "stdout",
     "output_type": "stream",
     "text": [
      "<class 'str'>\n"
     ]
    }
   ],
   "source": [
    "(type('1'))"
   ]
  },
  {
   "cell_type": "code",
   "execution_count": 3,
   "metadata": {
    "ExecuteTime": {
     "end_time": "2020-08-31T20:19:06.034194Z",
     "start_time": "2020-08-31T20:19:06.029870Z"
    }
   },
   "outputs": [
    {
     "name": "stdout",
     "output_type": "stream",
     "text": [
      "<class 'bool'>\n"
     ]
    }
   ],
   "source": [
    "print(type( ))"
   ]
  },
  {
   "cell_type": "code",
   "execution_count": 12,
   "metadata": {
    "ExecuteTime": {
     "end_time": "2020-08-04T23:34:24.723704Z",
     "start_time": "2020-08-04T23:34:24.721209Z"
    }
   },
   "outputs": [
    {
     "name": "stdout",
     "output_type": "stream",
     "text": [
      "<class 'NoneType'>\n"
     ]
    }
   ],
   "source": [
    "print(type( ))"
   ]
  },
  {
   "cell_type": "markdown",
   "metadata": {},
   "source": [
    "Em Python, podemos utilizar a função Type para identificar qualquer tipo de objeto, não apenas os listados acima."
   ]
  },
  {
   "cell_type": "markdown",
   "metadata": {},
   "source": [
    "### Atribuição de valores a variáveis\n",
    "\n",
    "Os diferentes valores acima não foram armazenados, de forma que possam ser consultados posteriormente. Para armazenar os valores, nós utilizamos variáveis. \n",
    "\n",
    "Um valor é atribuído a uma variável a partir do operador =, segundo o modelo var = val, em que var é a variável e val é o valor a ser armazenado."
   ]
  },
  {
   "cell_type": "code",
   "execution_count": 13,
   "metadata": {
    "ExecuteTime": {
     "end_time": "2020-08-04T23:35:06.320096Z",
     "start_time": "2020-08-04T23:35:06.316112Z"
    }
   },
   "outputs": [],
   "source": [
    "x = 10\n",
    "\n",
    "y = 20\n",
    "\n",
    "z = \"10\""
   ]
  },
  {
   "cell_type": "code",
   "execution_count": 14,
   "metadata": {
    "ExecuteTime": {
     "end_time": "2020-08-04T23:35:24.705159Z",
     "start_time": "2020-08-04T23:35:24.700175Z"
    }
   },
   "outputs": [
    {
     "name": "stdout",
     "output_type": "stream",
     "text": [
      "10\n"
     ]
    }
   ],
   "source": [
    "print(x)"
   ]
  },
  {
   "cell_type": "code",
   "execution_count": 15,
   "metadata": {
    "ExecuteTime": {
     "end_time": "2020-08-04T23:35:28.695727Z",
     "start_time": "2020-08-04T23:35:28.690751Z"
    }
   },
   "outputs": [
    {
     "name": "stdout",
     "output_type": "stream",
     "text": [
      "20\n"
     ]
    }
   ],
   "source": [
    "print(y)"
   ]
  },
  {
   "cell_type": "code",
   "execution_count": 19,
   "metadata": {
    "ExecuteTime": {
     "end_time": "2020-08-04T23:35:41.669446Z",
     "start_time": "2020-08-04T23:35:41.665489Z"
    }
   },
   "outputs": [
    {
     "name": "stdout",
     "output_type": "stream",
     "text": [
      "30\n"
     ]
    }
   ],
   "source": [
    "print(x + y)"
   ]
  },
  {
   "cell_type": "code",
   "execution_count": 20,
   "metadata": {
    "ExecuteTime": {
     "end_time": "2020-08-04T23:35:47.912017Z",
     "start_time": "2020-08-04T23:35:47.908028Z"
    }
   },
   "outputs": [
    {
     "name": "stdout",
     "output_type": "stream",
     "text": [
      "10\n"
     ]
    }
   ],
   "source": [
    "print(z)"
   ]
  },
  {
   "cell_type": "code",
   "execution_count": 21,
   "metadata": {
    "ExecuteTime": {
     "end_time": "2020-08-04T23:35:58.395065Z",
     "start_time": "2020-08-04T23:35:58.392038Z"
    }
   },
   "outputs": [
    {
     "data": {
      "text/plain": [
       "int"
      ]
     },
     "execution_count": 21,
     "metadata": {},
     "output_type": "execute_result"
    }
   ],
   "source": [
    "type(x)"
   ]
  },
  {
   "cell_type": "code",
   "execution_count": 22,
   "metadata": {
    "ExecuteTime": {
     "end_time": "2020-08-04T23:36:03.715962Z",
     "start_time": "2020-08-04T23:36:03.712004Z"
    }
   },
   "outputs": [
    {
     "data": {
      "text/plain": [
       "str"
      ]
     },
     "execution_count": 22,
     "metadata": {},
     "output_type": "execute_result"
    }
   ],
   "source": [
    "type(z)"
   ]
  },
  {
   "cell_type": "markdown",
   "metadata": {},
   "source": [
    "Existem algumas regras para os nomes das variáveis:\n",
    "\n",
    "* O nome de uma variável só pode conter caracteres alfanuméricos e o __underscore__ (A-z, 0-9, and _ );\n",
    "* O nome de uma variável deve começar com uma letrar ou com o caracter _underscore_, \"_\", jamais com um número;\n",
    "* Nomes de variáveis são sensíveis ao uso de letrar maiúsculas ou minúsculas (exemplo, EXEMPLO e Exemplo seriam três variáveis diferentes)\n",
    "\n",
    "Novamente, precisamos considerar que o uso de variáveis serve para qualquer tipo de objeto. Estamos tratando do assunto com os exemplos acima por conveniência."
   ]
  },
  {
   "cell_type": "markdown",
   "metadata": {},
   "source": [
    "### Alterando tipos\n",
    "\n",
    "Observe como o mesmo valor 1 pode se tornar diferentes tipos de objetos."
   ]
  },
  {
   "cell_type": "code",
   "execution_count": 23,
   "metadata": {
    "ExecuteTime": {
     "end_time": "2020-08-04T23:36:26.625180Z",
     "start_time": "2020-08-04T23:36:26.620218Z"
    }
   },
   "outputs": [
    {
     "data": {
      "text/plain": [
       "int"
      ]
     },
     "execution_count": 23,
     "metadata": {},
     "output_type": "execute_result"
    }
   ],
   "source": [
    "num = 1\n",
    "type(num)"
   ]
  },
  {
   "cell_type": "code",
   "execution_count": 24,
   "metadata": {
    "ExecuteTime": {
     "end_time": "2020-08-04T23:36:38.860054Z",
     "start_time": "2020-08-04T23:36:38.856071Z"
    }
   },
   "outputs": [
    {
     "data": {
      "text/plain": [
       "1.0"
      ]
     },
     "execution_count": 24,
     "metadata": {},
     "output_type": "execute_result"
    }
   ],
   "source": [
    "float(num)"
   ]
  },
  {
   "cell_type": "code",
   "execution_count": 25,
   "metadata": {
    "ExecuteTime": {
     "end_time": "2020-08-04T23:36:43.030003Z",
     "start_time": "2020-08-04T23:36:43.026040Z"
    }
   },
   "outputs": [
    {
     "data": {
      "text/plain": [
       "'1'"
      ]
     },
     "execution_count": 25,
     "metadata": {},
     "output_type": "execute_result"
    }
   ],
   "source": [
    "str(num)"
   ]
  },
  {
   "cell_type": "markdown",
   "metadata": {},
   "source": [
    "Acima os construtores de classe float e str foram aplicados à variável num e alteraram temporariamente o seu tipo. Adiante, aplique o construtor bool() a essa variável para verificar se é possível gerar um valor boleano a partir dela."
   ]
  },
  {
   "cell_type": "code",
   "execution_count": 29,
   "metadata": {
    "ExecuteTime": {
     "end_time": "2020-08-04T23:37:33.176650Z",
     "start_time": "2020-08-04T23:37:33.172661Z"
    }
   },
   "outputs": [
    {
     "data": {
      "text/plain": [
       "True"
      ]
     },
     "execution_count": 29,
     "metadata": {},
     "output_type": "execute_result"
    }
   ],
   "source": []
  },
  {
   "cell_type": "markdown",
   "metadata": {},
   "source": [
    "Veja o que acontece se utilizarmos esse construtor para o valor 0:"
   ]
  },
  {
   "cell_type": "code",
   "execution_count": 30,
   "metadata": {
    "ExecuteTime": {
     "end_time": "2020-08-04T23:37:37.085985Z",
     "start_time": "2020-08-04T23:37:37.080020Z"
    }
   },
   "outputs": [
    {
     "data": {
      "text/plain": [
       "False"
      ]
     },
     "execution_count": 30,
     "metadata": {},
     "output_type": "execute_result"
    }
   ],
   "source": []
  },
  {
   "cell_type": "markdown",
   "metadata": {},
   "source": [
    "### Dynamic Typing\n",
    "\n",
    "Python trabalho com *dynamic typing*, ou tipagem dinâmica, ou seja, ele atribui o tipo automaticamente, conforme se apresenta, sem a necessidade de que ele tenha sido rigorosamente declarado previamente e sem a obrigação de que o valor deva se manter no mesmo tipo durante todo o fluxo de operações dos nossos programas.\n",
    "\n",
    "Abaixo, note que, apenas por inserir o ponto, o valor um já não é mais tratado como integer, mas como float, o que é perceptivel na forma como a célula apresenta o seu resultado."
   ]
  },
  {
   "cell_type": "code",
   "execution_count": 21,
   "metadata": {
    "ExecuteTime": {
     "end_time": "2020-08-04T02:20:25.490569Z",
     "start_time": "2020-08-04T02:20:25.485577Z"
    }
   },
   "outputs": [
    {
     "data": {
      "text/plain": [
       "1"
      ]
     },
     "execution_count": 21,
     "metadata": {},
     "output_type": "execute_result"
    }
   ],
   "source": [
    "1"
   ]
  },
  {
   "cell_type": "code",
   "execution_count": 29,
   "metadata": {
    "ExecuteTime": {
     "end_time": "2020-08-04T02:22:28.968834Z",
     "start_time": "2020-08-04T02:22:28.963848Z"
    }
   },
   "outputs": [
    {
     "data": {
      "text/plain": [
       "1.0"
      ]
     },
     "execution_count": 29,
     "metadata": {},
     "output_type": "execute_result"
    }
   ],
   "source": [
    "1.0"
   ]
  },
  {
   "cell_type": "markdown",
   "metadata": {
    "hide_input": false
   },
   "source": [
    "## Tipos Compostos"
   ]
  },
  {
   "cell_type": "markdown",
   "metadata": {},
   "source": [
    "### strings"
   ]
  },
  {
   "cell_type": "code",
   "execution_count": 31,
   "metadata": {
    "ExecuteTime": {
     "end_time": "2020-08-04T12:05:26.914594Z",
     "start_time": "2020-08-04T12:05:26.910572Z"
    }
   },
   "outputs": [
    {
     "name": "stdout",
     "output_type": "stream",
     "text": [
      "strings são seqüencias imutáveis de caracteres\n"
     ]
    }
   ],
   "source": [
    "conceito = \"strings são seqüencias imutáveis de caracteres\"\n",
    "print(conceito)"
   ]
  },
  {
   "cell_type": "code",
   "execution_count": 54,
   "metadata": {
    "ExecuteTime": {
     "end_time": "2020-08-04T13:15:37.971685Z",
     "start_time": "2020-08-04T13:15:37.966699Z"
    }
   },
   "outputs": [
    {
     "data": {
      "text/plain": [
       "'Isto é uma string'"
      ]
     },
     "execution_count": 54,
     "metadata": {},
     "output_type": "execute_result"
    }
   ],
   "source": [
    "\"Isto é uma string\""
   ]
  },
  {
   "cell_type": "markdown",
   "metadata": {},
   "source": [
    "A rigor, não faz diferença se a delimitação de uma string é feita com aspas duplas ou simples. Em um programa é adequado que se escolha um padrão, que deve ser mantido do início ao fim.\n",
    "\n",
    "Quando nos tornamos usuários mais experientes, passamos a ter alguns cuidados com a inserção de aspas como caracteres dentro de dos delimitares aspas de uma _string_, mas isso pode ser visto outra hora no [site oficial do Python](https://www.python.org/dev/peps/pep-0008/#string-quotes)."
   ]
  },
  {
   "cell_type": "markdown",
   "metadata": {},
   "source": [
    "Na próxima célula, crie uma string com o seu nome completo e a atribua à variável nome. Não esqueça de pressionar shift+Enter para que a operação seja processada."
   ]
  },
  {
   "cell_type": "code",
   "execution_count": 37,
   "metadata": {
    "ExecuteTime": {
     "end_time": "2020-08-04T12:13:23.146141Z",
     "start_time": "2020-08-04T12:13:23.142145Z"
    }
   },
   "outputs": [
    {
     "name": "stdout",
     "output_type": "stream",
     "text": [
      "\"teste\"\n"
     ]
    }
   ],
   "source": [
    "print('\"teste\"')"
   ]
  },
  {
   "cell_type": "markdown",
   "metadata": {},
   "source": [
    "crie uma string com o seu nome e a armazene na variável nome"
   ]
  },
  {
   "cell_type": "code",
   "execution_count": 32,
   "metadata": {
    "ExecuteTime": {
     "end_time": "2020-08-04T12:10:13.189434Z",
     "start_time": "2020-08-04T12:10:13.185477Z"
    }
   },
   "outputs": [],
   "source": [
    "nome = 'Augusto dos Santos Pereira'"
   ]
  },
  {
   "cell_type": "markdown",
   "metadata": {},
   "source": [
    "### Indexação e Fatiamento\n",
    "\n",
    "Os valores em uma _string_ podem ser acessados por indexação (_indexing_), ou seja pelo chamado a uma determinada posição dentro do _string_. A contagem começa a partir do 0, como podemos ver adiante:"
   ]
  },
  {
   "cell_type": "code",
   "execution_count": 4,
   "metadata": {
    "ExecuteTime": {
     "end_time": "2020-08-31T21:17:59.763957Z",
     "start_time": "2020-08-31T21:17:59.760255Z"
    }
   },
   "outputs": [
    {
     "name": "stdout",
     "output_type": "stream",
     "text": [
      "a\n"
     ]
    }
   ],
   "source": [
    "alfab = 'abcdefghijklmnopqrstuvwxyz'\n",
    "\n",
    "print(alfab[0])"
   ]
  },
  {
   "cell_type": "code",
   "execution_count": 5,
   "metadata": {
    "ExecuteTime": {
     "end_time": "2020-08-31T21:18:06.530240Z",
     "start_time": "2020-08-31T21:18:06.524256Z"
    }
   },
   "outputs": [
    {
     "name": "stdout",
     "output_type": "stream",
     "text": [
      "u\n"
     ]
    }
   ],
   "source": [
    "print(alfab[20])"
   ]
  },
  {
   "cell_type": "markdown",
   "metadata": {},
   "source": [
    "Na próxima célula, a partir da variável alfab, faça a apresentação na tela - print() - das letras \"e\", \"j\" e \"o\", respectivamente 5ª, 10ª e 15ª letras do alfabeto."
   ]
  },
  {
   "cell_type": "code",
   "execution_count": 47,
   "metadata": {
    "ExecuteTime": {
     "end_time": "2020-08-04T13:03:16.343934Z",
     "start_time": "2020-08-04T13:03:16.340915Z"
    }
   },
   "outputs": [
    {
     "name": "stdout",
     "output_type": "stream",
     "text": [
      "e\n"
     ]
    }
   ],
   "source": []
  },
  {
   "cell_type": "code",
   "execution_count": 48,
   "metadata": {
    "ExecuteTime": {
     "end_time": "2020-08-04T13:03:17.099661Z",
     "start_time": "2020-08-04T13:03:17.095700Z"
    }
   },
   "outputs": [
    {
     "name": "stdout",
     "output_type": "stream",
     "text": [
      "j\n"
     ]
    }
   ],
   "source": []
  },
  {
   "cell_type": "code",
   "execution_count": 49,
   "metadata": {
    "ExecuteTime": {
     "end_time": "2020-08-04T13:03:17.612938Z",
     "start_time": "2020-08-04T13:03:17.609979Z"
    }
   },
   "outputs": [
    {
     "name": "stdout",
     "output_type": "stream",
     "text": [
      "o\n"
     ]
    }
   ],
   "source": []
  },
  {
   "cell_type": "markdown",
   "metadata": {},
   "source": [
    "Não precisamos contar para podermos obter o caracter que se encontra na última posição de uma string. Para isso, podemos utilizar o índice -1."
   ]
  },
  {
   "cell_type": "code",
   "execution_count": 55,
   "metadata": {
    "ExecuteTime": {
     "end_time": "2020-08-04T13:19:24.204388Z",
     "start_time": "2020-08-04T13:19:24.199430Z"
    }
   },
   "outputs": [
    {
     "data": {
      "text/plain": [
       "'z'"
      ]
     },
     "execution_count": 55,
     "metadata": {},
     "output_type": "execute_result"
    }
   ],
   "source": [
    "alfab[-1]"
   ]
  },
  {
   "cell_type": "markdown",
   "metadata": {},
   "source": [
    "Cada valor pode ser acessado a partir dessa indexação inversa. Adiante, obtenha a penúltima e a antepenúltima letra na variável alfab."
   ]
  },
  {
   "cell_type": "code",
   "execution_count": 56,
   "metadata": {
    "ExecuteTime": {
     "end_time": "2020-08-04T13:20:49.191824Z",
     "start_time": "2020-08-04T13:20:49.185831Z"
    }
   },
   "outputs": [
    {
     "data": {
      "text/plain": [
       "'y'"
      ]
     },
     "execution_count": 56,
     "metadata": {},
     "output_type": "execute_result"
    }
   ],
   "source": []
  },
  {
   "cell_type": "code",
   "execution_count": 57,
   "metadata": {
    "ExecuteTime": {
     "end_time": "2020-08-04T13:20:49.735406Z",
     "start_time": "2020-08-04T13:20:49.731416Z"
    }
   },
   "outputs": [
    {
     "data": {
      "text/plain": [
       "'x'"
      ]
     },
     "execution_count": 57,
     "metadata": {},
     "output_type": "execute_result"
    }
   ],
   "source": []
  },
  {
   "cell_type": "markdown",
   "metadata": {},
   "source": [
    "Lembra-se da variável nome, que você criou, contendo seu nome completo? Clique sobre a próximma célula, pressione o botão Run, na barra de comandos acima, ou pressione shift+Enter"
   ]
  },
  {
   "cell_type": "code",
   "execution_count": 59,
   "metadata": {
    "ExecuteTime": {
     "end_time": "2020-08-04T13:27:37.333906Z",
     "start_time": "2020-08-04T13:27:37.329916Z"
    }
   },
   "outputs": [
    {
     "name": "stdout",
     "output_type": "stream",
     "text": [
      "Augusto dos Santos Pereira, a primeira letra do seu nome é A\n"
     ]
    }
   ],
   "source": [
    "print(f'{nome}, a primeira letra do seu nome é {nome[0]}')"
   ]
  },
  {
   "cell_type": "code",
   "execution_count": 60,
   "metadata": {
    "ExecuteTime": {
     "end_time": "2020-08-04T13:27:39.247527Z",
     "start_time": "2020-08-04T13:27:39.243569Z"
    }
   },
   "outputs": [
    {
     "name": "stdout",
     "output_type": "stream",
     "text": [
      "Augusto dos Santos Pereira, a primeira letra do seu nome é A\n"
     ]
    }
   ],
   "source": [
    "print(f'{nome}, a última letra do seu nome é {nome[-1]}')"
   ]
  },
  {
   "cell_type": "markdown",
   "metadata": {},
   "source": [
    "inserir caracteres entre aspas já é suficiente para que seja declarada uma string em Python. É possível também usar o construtor str."
   ]
  },
  {
   "cell_type": "code",
   "execution_count": 6,
   "metadata": {
    "ExecuteTime": {
     "end_time": "2020-08-31T21:21:34.484927Z",
     "start_time": "2020-08-31T21:21:34.469968Z"
    }
   },
   "outputs": [
    {
     "data": {
      "text/plain": [
       "'3'"
      ]
     },
     "execution_count": 6,
     "metadata": {},
     "output_type": "execute_result"
    }
   ],
   "source": [
    "str(3)"
   ]
  },
  {
   "cell_type": "markdown",
   "metadata": {},
   "source": [
    "Conforme o exemplo acima, declare uma string com os algarismos 1234 na célula abaixo."
   ]
  },
  {
   "cell_type": "code",
   "execution_count": 7,
   "metadata": {
    "ExecuteTime": {
     "end_time": "2020-08-31T21:23:43.426388Z",
     "start_time": "2020-08-31T21:23:43.421397Z"
    }
   },
   "outputs": [
    {
     "data": {
      "text/plain": [
       "'1234'"
      ]
     },
     "execution_count": 7,
     "metadata": {},
     "output_type": "execute_result"
    }
   ],
   "source": []
  },
  {
   "cell_type": "markdown",
   "metadata": {},
   "source": [
    "### Lists\n",
    "\n",
    "Há diversas formas de declarar uma lista em Python. \n",
    "\n",
    "Passando objetos compostos (strings, tuplas, sets, além de outros objetos compostos para além daqueles nativos do Python) para o construtor de classe list"
   ]
  },
  {
   "cell_type": "code",
   "execution_count": 10,
   "metadata": {
    "ExecuteTime": {
     "end_time": "2020-08-31T21:27:22.750135Z",
     "start_time": "2020-08-31T21:27:22.745321Z"
    }
   },
   "outputs": [
    {
     "name": "stdout",
     "output_type": "stream",
     "text": [
      "['Listas são coleções mutáveis de objetos separados por vírgulas e delimitados por chaves [ ] , podendo receber, ao mesmo tempo, valores de diversos tipos, inclusive compostos']\n"
     ]
    }
   ],
   "source": [
    "definica_de_lista = [\"Listas são coleções mutáveis de objetos separados por vírgulas e delimitados por chaves [ ] , podendo receber, ao mesmo tempo, valores de diversos tipos, inclusive compostos\"]\n",
    "\n",
    "print(definica_de_lista)"
   ]
  },
  {
   "cell_type": "code",
   "execution_count": 49,
   "metadata": {
    "ExecuteTime": {
     "end_time": "2020-08-04T02:34:43.986637Z",
     "start_time": "2020-08-04T02:34:43.981618Z"
    }
   },
   "outputs": [
    {
     "data": {
      "text/plain": [
       "[1, 2, 3, 4]"
      ]
     },
     "execution_count": 49,
     "metadata": {},
     "output_type": "execute_result"
    }
   ],
   "source": [
    "list((1, 2, 3, 4))"
   ]
  },
  {
   "cell_type": "code",
   "execution_count": 68,
   "metadata": {
    "ExecuteTime": {
     "end_time": "2020-08-04T13:40:20.734740Z",
     "start_time": "2020-08-04T13:40:20.729723Z"
    }
   },
   "outputs": [
    {
     "data": {
      "text/plain": [
       "[1, 2, 3, 4]"
      ]
     },
     "execution_count": 68,
     "metadata": {},
     "output_type": "execute_result"
    }
   ],
   "source": [
    "list({1,2,3,4})"
   ]
  },
  {
   "cell_type": "markdown",
   "metadata": {},
   "source": [
    "Veja o que acontece quando utilizamos a string que está armazenada na variável nome para o construtor de listas.\n",
    "\n",
    "Conforme o modelo abaixo, use a célula adiante, colocando a variável nome no lugar de var.\n",
    "\n",
    "```Python\n",
    "list(var)\n",
    "```"
   ]
  },
  {
   "cell_type": "code",
   "execution_count": null,
   "metadata": {
    "ExecuteTime": {
     "end_time": "2020-08-04T13:42:46.423357Z",
     "start_time": "2020-08-04T13:42:46.417372Z"
    }
   },
   "outputs": [],
   "source": [
    "list() #insira a variável nome dentro dos parênteses\n"
   ]
  },
  {
   "cell_type": "markdown",
   "metadata": {},
   "source": [
    "É também possível criar listas simplesmente ao declarar sua estrutura, com os itens separados por vírgula e delimitados por colchetes."
   ]
  },
  {
   "cell_type": "code",
   "execution_count": 70,
   "metadata": {
    "ExecuteTime": {
     "end_time": "2020-08-04T13:44:08.162290Z",
     "start_time": "2020-08-04T13:44:08.157317Z"
    }
   },
   "outputs": [
    {
     "data": {
      "text/plain": [
       "[1, 2, 3, 4]"
      ]
     },
     "execution_count": 70,
     "metadata": {},
     "output_type": "execute_result"
    }
   ],
   "source": [
    "lst = [1,2,3,4]\n",
    "\n",
    "lst"
   ]
  },
  {
   "cell_type": "markdown",
   "metadata": {},
   "source": [
    "Conforme o exemplo acima, crie uma lista com quatro strings laranja, mamão, uva e maçã. Atribua essa lista à variável compras.\n",
    "Não esqueça! No notebook, sempre tempos que rodar a célula, para que os valores sejam registrados. Use Shift+Enter ou o botão Run."
   ]
  },
  {
   "cell_type": "code",
   "execution_count": 11,
   "metadata": {
    "ExecuteTime": {
     "end_time": "2020-08-31T21:31:45.877222Z",
     "start_time": "2020-08-31T21:31:45.873276Z"
    }
   },
   "outputs": [],
   "source": []
  },
  {
   "cell_type": "code",
   "execution_count": 12,
   "metadata": {
    "ExecuteTime": {
     "end_time": "2020-08-31T21:31:46.373419Z",
     "start_time": "2020-08-31T21:31:46.368949Z"
    }
   },
   "outputs": [
    {
     "name": "stdout",
     "output_type": "stream",
     "text": [
      "['laranja', 'mamão', 'uva', 'maçã']\n"
     ]
    }
   ],
   "source": [
    "print(compras)"
   ]
  },
  {
   "cell_type": "markdown",
   "metadata": {},
   "source": [
    "**Indexing e Slicing**\n",
    "\n",
    "Quando abordamos _strings_, vimos como podemos fazer indexação, ou seja, recuperação de um valor dentro de um objeto composto a partir de seu índice posicional, contado a partir de 0 (esquerda para direita), ou a partir de -1 (direita para esquerda). Isso também é aplicável para listas.\n",
    "\n",
    "Adiante vamos recuperar o primeiro, o segundo e o último elementos da lista armazenada na variável compras:"
   ]
  },
  {
   "cell_type": "code",
   "execution_count": 13,
   "metadata": {
    "ExecuteTime": {
     "end_time": "2020-08-31T21:32:23.087792Z",
     "start_time": "2020-08-31T21:32:23.081809Z"
    }
   },
   "outputs": [
    {
     "data": {
      "text/plain": [
       "'laranja'"
      ]
     },
     "execution_count": 13,
     "metadata": {},
     "output_type": "execute_result"
    }
   ],
   "source": [
    "compras[0]"
   ]
  },
  {
   "cell_type": "code",
   "execution_count": 15,
   "metadata": {
    "ExecuteTime": {
     "end_time": "2020-08-31T21:35:02.081871Z",
     "start_time": "2020-08-31T21:35:02.075094Z"
    }
   },
   "outputs": [
    {
     "data": {
      "text/plain": [
       "'mamão'"
      ]
     },
     "execution_count": 15,
     "metadata": {},
     "output_type": "execute_result"
    }
   ],
   "source": [
    "compras[...             #substitua as retiências pelo padrão de indexação para obter o segundo item lista"
   ]
  },
  {
   "cell_type": "code",
   "execution_count": 16,
   "metadata": {
    "ExecuteTime": {
     "end_time": "2020-08-31T21:36:01.266540Z",
     "start_time": "2020-08-31T21:36:01.261549Z"
    }
   },
   "outputs": [
    {
     "data": {
      "text/plain": [
       "'maçã'"
      ]
     },
     "execution_count": 16,
     "metadata": {},
     "output_type": "execute_result"
    }
   ],
   "source": [
    "...[3]            #substitua as reticências pelo nome da variável que contém a lista para recuperar seu quarto elemento"
   ]
  },
  {
   "cell_type": "markdown",
   "metadata": {},
   "source": [
    "Crie uma lista com três elementos, as letras a, b e c. Atribua essa lista à variável letras.\n",
    "Não esqueça que dentro da sua lista, cada uma dessas letras deve ser representada como _string_."
   ]
  },
  {
   "cell_type": "code",
   "execution_count": 17,
   "metadata": {
    "ExecuteTime": {
     "end_time": "2020-08-31T21:37:20.355754Z",
     "start_time": "2020-08-31T21:37:20.351800Z"
    }
   },
   "outputs": [],
   "source": [
    "letras = list('abc')"
   ]
  },
  {
   "cell_type": "markdown",
   "metadata": {},
   "source": [
    "Na célula abaixo, apresente na tela a sua lista letras."
   ]
  },
  {
   "cell_type": "code",
   "execution_count": 18,
   "metadata": {
    "ExecuteTime": {
     "end_time": "2020-08-31T21:38:24.315488Z",
     "start_time": "2020-08-31T21:38:24.311665Z"
    }
   },
   "outputs": [
    {
     "name": "stdout",
     "output_type": "stream",
     "text": [
      "['a', 'b', 'c']\n"
     ]
    }
   ],
   "source": [
    "       # use a função print com a variável da sua lista"
   ]
  },
  {
   "cell_type": "markdown",
   "metadata": {},
   "source": [
    "Adiante, acesse, respectivamente, o último, o penúltimo e o primeiro itens da lista. Faça isso utilizando a posição de cada um contada da direita para a esquerda, ou seja, com valores negativos. "
   ]
  },
  {
   "cell_type": "code",
   "execution_count": 73,
   "metadata": {
    "ExecuteTime": {
     "end_time": "2020-08-04T14:02:50.788405Z",
     "start_time": "2020-08-04T14:02:50.784410Z"
    }
   },
   "outputs": [
    {
     "data": {
      "text/plain": [
       "'c'"
      ]
     },
     "execution_count": 73,
     "metadata": {},
     "output_type": "execute_result"
    }
   ],
   "source": []
  },
  {
   "cell_type": "code",
   "execution_count": 74,
   "metadata": {
    "ExecuteTime": {
     "end_time": "2020-08-04T14:02:51.078640Z",
     "start_time": "2020-08-04T14:02:51.073637Z"
    }
   },
   "outputs": [
    {
     "data": {
      "text/plain": [
       "'b'"
      ]
     },
     "execution_count": 74,
     "metadata": {},
     "output_type": "execute_result"
    }
   ],
   "source": []
  },
  {
   "cell_type": "code",
   "execution_count": 75,
   "metadata": {
    "ExecuteTime": {
     "end_time": "2020-08-04T14:02:51.470505Z",
     "start_time": "2020-08-04T14:02:51.465518Z"
    }
   },
   "outputs": [
    {
     "data": {
      "text/plain": [
       "'a'"
      ]
     },
     "execution_count": 75,
     "metadata": {},
     "output_type": "execute_result"
    }
   ],
   "source": []
  },
  {
   "cell_type": "markdown",
   "metadata": {},
   "source": [
    "### Slicing\n",
    "\n",
    "Podemos aproveitar o tema das listas para avançar sobre outra questão que não analisamos anteriormente, embora fosse aplicável também às strings, o _slicing_, ou fatiamento. _Slicing_ é a recuperação de valores em intervalos indexados. No intervalo, indicamos a partir de que posição queremos obter dados, inclusive, e até que posição, exclusive. Separamos esses dois argumentos por dois pontos \":\".\n",
    "vejamos o exemplo com uma lista que contenha as letras do alfabeto."
   ]
  },
  {
   "cell_type": "code",
   "execution_count": 20,
   "metadata": {
    "ExecuteTime": {
     "end_time": "2020-08-31T21:49:40.716065Z",
     "start_time": "2020-08-31T21:49:40.711257Z"
    }
   },
   "outputs": [
    {
     "name": "stdout",
     "output_type": "stream",
     "text": [
      "['a', 'b', 'c', 'd', 'e', 'f', 'g', 'h', 'i', 'j', 'k', 'l', 'm', 'n', 'o', 'p', 'q', 'r', 's', 't', 'u', 'v', 'w', 'x', 'y', 'z']\n"
     ]
    }
   ],
   "source": [
    "list_alf = list(alfab)\n",
    "print(list_alf)"
   ]
  },
  {
   "cell_type": "code",
   "execution_count": 79,
   "metadata": {
    "ExecuteTime": {
     "end_time": "2020-08-04T14:09:49.115302Z",
     "start_time": "2020-08-04T14:09:49.110276Z"
    }
   },
   "outputs": [
    {
     "data": {
      "text/plain": [
       "['a', 'b', 'c', 'd', 'e']"
      ]
     },
     "execution_count": 79,
     "metadata": {},
     "output_type": "execute_result"
    }
   ],
   "source": [
    "list_alf[0:5]"
   ]
  },
  {
   "cell_type": "markdown",
   "metadata": {},
   "source": [
    "No exemplo acima, a posição 0 é a letra \"a\", enquanto a posição 5 é a letra \"f\". O fatiamento recuperou cinco letras, desde \"a\" até \"e\", que está na posição 4 da lista. Como podemos ver, o fatiamento inclui o primeiro valor indicado, mas exclui o último.\n",
    "\n",
    "Na próxima célula, faça um _slicing_ da lista list_alf que retorne as letras de \"f\" a \"j\"."
   ]
  },
  {
   "cell_type": "code",
   "execution_count": 81,
   "metadata": {
    "ExecuteTime": {
     "end_time": "2020-08-04T16:47:30.360214Z",
     "start_time": "2020-08-04T16:47:30.356192Z"
    }
   },
   "outputs": [
    {
     "data": {
      "text/plain": [
       "['f', 'g', 'h', 'i', 'j']"
      ]
     },
     "execution_count": 81,
     "metadata": {},
     "output_type": "execute_result"
    }
   ],
   "source": []
  },
  {
   "cell_type": "markdown",
   "metadata": {},
   "source": [
    "Faça o _slicing_ da lista list_alf para obter as letras \"m\" e \"n\"."
   ]
  },
  {
   "cell_type": "code",
   "execution_count": 94,
   "metadata": {
    "ExecuteTime": {
     "end_time": "2020-08-04T17:14:42.019102Z",
     "start_time": "2020-08-04T17:14:42.014116Z"
    }
   },
   "outputs": [
    {
     "data": {
      "text/plain": [
       "['m', 'n']"
      ]
     },
     "execution_count": 94,
     "metadata": {},
     "output_type": "execute_result"
    }
   ],
   "source": []
  },
  {
   "cell_type": "markdown",
   "metadata": {},
   "source": [
    "Obtenha a sequência \"x\", e \"y\", utilizando números negativos, que indexam da direita para a esquerda."
   ]
  },
  {
   "cell_type": "code",
   "execution_count": 95,
   "metadata": {
    "ExecuteTime": {
     "end_time": "2020-08-04T17:17:10.580574Z",
     "start_time": "2020-08-04T17:17:10.574569Z"
    }
   },
   "outputs": [
    {
     "data": {
      "text/plain": [
       "['x', 'y']"
      ]
     },
     "execution_count": 95,
     "metadata": {},
     "output_type": "execute_result"
    }
   ],
   "source": []
  },
  {
   "cell_type": "markdown",
   "metadata": {},
   "source": [
    "Um comportamento bastante interessante do Python no fatiamento de sequências indexadas é que, ao omitirmos o primeiro elemento, ele considera que estamos começando a consulta desde o primeiro elemento da lista, inclusive. Por sua vez, ao ignorarmos o segundo elemento, ele entende que queremos retornar o intervalo até o ultimo elemento, inclusive. Vejamos adiante:"
   ]
  },
  {
   "cell_type": "code",
   "execution_count": 104,
   "metadata": {
    "ExecuteTime": {
     "end_time": "2020-08-04T18:01:00.412481Z",
     "start_time": "2020-08-04T18:01:00.406497Z"
    }
   },
   "outputs": [
    {
     "data": {
      "text/plain": [
       "['a', 'b', 'c', 'd', 'e', 'f', 'g', 'h', 'i', 'j']"
      ]
     },
     "execution_count": 104,
     "metadata": {},
     "output_type": "execute_result"
    }
   ],
   "source": [
    "list_alf[:10]"
   ]
  },
  {
   "cell_type": "code",
   "execution_count": 103,
   "metadata": {
    "ExecuteTime": {
     "end_time": "2020-08-04T18:01:00.028993Z",
     "start_time": "2020-08-04T18:01:00.022970Z"
    }
   },
   "outputs": [
    {
     "data": {
      "text/plain": [
       "['u', 'v', 'w', 'x', 'y', 'z']"
      ]
     },
     "execution_count": 103,
     "metadata": {},
     "output_type": "execute_result"
    }
   ],
   "source": [
    "list_alf[20:]"
   ]
  },
  {
   "cell_type": "code",
   "execution_count": 105,
   "metadata": {
    "ExecuteTime": {
     "end_time": "2020-08-04T18:01:00.952076Z",
     "start_time": "2020-08-04T18:01:00.948087Z"
    }
   },
   "outputs": [
    {
     "name": "stdout",
     "output_type": "stream",
     "text": [
      "['a', 'b', 'c', 'd', 'e', 'f', 'g', 'h', 'i', 'j', 'k', 'l', 'm', 'n', 'o', 'p', 'q', 'r', 's', 't', 'u', 'v', 'w', 'x', 'y', 'z']\n"
     ]
    }
   ],
   "source": [
    "print(list_alf[:])"
   ]
  },
  {
   "cell_type": "markdown",
   "metadata": {},
   "source": [
    "Consulte a lista list_alf desde o primeiro item ao décimo."
   ]
  },
  {
   "cell_type": "code",
   "execution_count": 106,
   "metadata": {
    "ExecuteTime": {
     "end_time": "2020-08-04T18:12:42.838055Z",
     "start_time": "2020-08-04T18:12:42.833069Z"
    }
   },
   "outputs": [
    {
     "data": {
      "text/plain": [
       "['a', 'b', 'c', 'd', 'e', 'f', 'g', 'h', 'i', 'j']"
      ]
     },
     "execution_count": 106,
     "metadata": {},
     "output_type": "execute_result"
    }
   ],
   "source": []
  },
  {
   "cell_type": "markdown",
   "metadata": {
    "ExecuteTime": {
     "end_time": "2020-08-04T18:13:35.941397Z",
     "start_time": "2020-08-04T18:13:35.936400Z"
    }
   },
   "source": [
    "Consulte a lista list_alf desde a letra m até z, omitindo a posição desta última letra."
   ]
  },
  {
   "cell_type": "code",
   "execution_count": 21,
   "metadata": {
    "ExecuteTime": {
     "end_time": "2020-08-31T21:49:56.072077Z",
     "start_time": "2020-08-31T21:49:56.065692Z"
    }
   },
   "outputs": [
    {
     "data": {
      "text/plain": [
       "['m', 'n', 'o', 'p', 'q', 'r', 's', 't', 'u', 'v', 'w', 'x', 'y', 'z']"
      ]
     },
     "execution_count": 21,
     "metadata": {},
     "output_type": "execute_result"
    }
   ],
   "source": []
  },
  {
   "cell_type": "markdown",
   "metadata": {},
   "source": [
    "### Encadeamento de objetos compostos\n",
    "\n",
    "Por vezes, na vida, temos alguns tipos de contêineres dentro de outros contêineres. Pensemos no seguinte cenário: em uma estante temos uma parte que é um gaveteiro de três gavetas, ali temos a terceira gaveta, na terceira gaveta temos uma caixa, dentro da caixa um pacote e no pacote um anel. Em tal cenário, podemos ter acesso ao anel ao acessar sequencialmente cada um dos contêineres, do superior ao inferior, até chegarmos ao item.\n",
    "\n",
    "Em Python, essa lógica se aplica. Os objetos python podem conter outros objetos, de tal forma que operações em um objeto podem te levar a acessar outro e depois outro, suscessivas vezes.\n",
    "\n",
    "Vejamos um exemplo de uma lista que contém outras listas"
   ]
  },
  {
   "cell_type": "code",
   "execution_count": 89,
   "metadata": {
    "ExecuteTime": {
     "end_time": "2020-08-04T17:10:15.977250Z",
     "start_time": "2020-08-04T17:10:15.973263Z"
    }
   },
   "outputs": [],
   "source": [
    "armario = [[['casaco','sobretudo', 'blazer'],['chapéu','capa de chuva']],[['camisa','camiseta'],['saia','calça']]]"
   ]
  },
  {
   "cell_type": "markdown",
   "metadata": {},
   "source": [
    "Vamos entender essa estrutura à medida que retiramos o primeiro item da lista armario, depois o primeiro item dessa primeira lista interna, seguido pelo item dentro desta última lista."
   ]
  },
  {
   "cell_type": "code",
   "execution_count": 90,
   "metadata": {
    "ExecuteTime": {
     "end_time": "2020-08-04T17:10:16.601378Z",
     "start_time": "2020-08-04T17:10:16.596377Z"
    }
   },
   "outputs": [
    {
     "data": {
      "text/plain": [
       "[['casaco', 'sobretudo', 'blazer'], ['chapéu', 'capa de chuva']]"
      ]
     },
     "execution_count": 90,
     "metadata": {},
     "output_type": "execute_result"
    }
   ],
   "source": [
    "armario[0]"
   ]
  },
  {
   "cell_type": "markdown",
   "metadata": {},
   "source": [
    "Vimos acima que, na lista armario, nós pegamos a primeira lista, cujos itens são duas outras listas, cada uma com seus itens formados por _strings_.\n",
    "Vamos adiante fazer uma nova retirada do primeiro item:"
   ]
  },
  {
   "cell_type": "code",
   "execution_count": 91,
   "metadata": {
    "ExecuteTime": {
     "end_time": "2020-08-04T17:10:17.381790Z",
     "start_time": "2020-08-04T17:10:17.375793Z"
    }
   },
   "outputs": [
    {
     "data": {
      "text/plain": [
       "['casaco', 'sobretudo', 'blazer']"
      ]
     },
     "execution_count": 91,
     "metadata": {},
     "output_type": "execute_result"
    }
   ],
   "source": [
    "armario[0][0]"
   ]
  },
  {
   "cell_type": "markdown",
   "metadata": {},
   "source": [
    "Agora chegamos a um ponto em que estamos na camada mais interna, acessando uma lista que contém três _strings_, casaco, sobretudo e blazer. Podemos extrair os dois últimos desses elementos, seguindo a lógica de sucessivas indexações e fatiamentos, conforme o exemplo abaixo."
   ]
  },
  {
   "cell_type": "code",
   "execution_count": 93,
   "metadata": {
    "ExecuteTime": {
     "end_time": "2020-08-04T17:11:47.909941Z",
     "start_time": "2020-08-04T17:11:47.904955Z"
    }
   },
   "outputs": [
    {
     "data": {
      "text/plain": [
       "['sobretudo', 'blazer']"
      ]
     },
     "execution_count": 93,
     "metadata": {},
     "output_type": "execute_result"
    }
   ],
   "source": [
    "armario[0][0][1:]"
   ]
  },
  {
   "cell_type": "markdown",
   "metadata": {},
   "source": [
    "**Alterando elementos**\n",
    "\n",
    "Os elementos dentro de uma lista podem não somente ser acessados como alterados.\n",
    "\n",
    "Note como abaixo o \"a\" minúsculo é alterado para um \"A\" maiúsculo."
   ]
  },
  {
   "cell_type": "code",
   "execution_count": 127,
   "metadata": {
    "ExecuteTime": {
     "end_time": "2020-08-04T18:33:10.866328Z",
     "start_time": "2020-08-04T18:33:10.862342Z"
    }
   },
   "outputs": [
    {
     "name": "stdout",
     "output_type": "stream",
     "text": [
      "['A', 'b', 'c', 'd', 'e', 'f', 'g', 'h', 'i', 'j', 'k', 'l', 'm', 'n', 'o', 'p', 'q', 'r', 's', 't', 'u', 'v', 'w', 'x', 'y', 'z']\n"
     ]
    }
   ],
   "source": [
    "list_alf[0] = 'A'\n",
    "print(list_alf)"
   ]
  },
  {
   "cell_type": "markdown",
   "metadata": {},
   "source": [
    "Na próxima célula, reverta a alteração feita acima, atribuindo 'a' como o valor da posição 0 na lista list_alf. Rode a célula na sequência para conferir se a alteração ocorreu com sucesso."
   ]
  },
  {
   "cell_type": "code",
   "execution_count": 128,
   "metadata": {
    "ExecuteTime": {
     "end_time": "2020-08-04T18:33:12.253143Z",
     "start_time": "2020-08-04T18:33:12.250152Z"
    }
   },
   "outputs": [],
   "source": [
    "list_alf[...] = 'a' #substitua as reticências pelo índice referente ao A maiúsculo na lista list_alf"
   ]
  },
  {
   "cell_type": "code",
   "execution_count": 129,
   "metadata": {
    "ExecuteTime": {
     "end_time": "2020-08-04T18:33:13.119307Z",
     "start_time": "2020-08-04T18:33:13.115338Z"
    }
   },
   "outputs": [
    {
     "name": "stdout",
     "output_type": "stream",
     "text": [
      "['a', 'b', 'c', 'd', 'e', 'f', 'g', 'h', 'i', 'j', 'k', 'l', 'm', 'n', 'o', 'p', 'q', 'r', 's', 't', 'u', 'v', 'w', 'x', 'y', 'z']\n"
     ]
    }
   ],
   "source": [
    "print(list_alf)"
   ]
  },
  {
   "cell_type": "markdown",
   "metadata": {
    "ExecuteTime": {
     "end_time": "2020-08-04T18:30:39.893917Z",
     "start_time": "2020-08-04T18:30:39.887934Z"
    }
   },
   "source": [
    "Para adicionar, ou apensar, um novo valor ao final de uma lista, utilizamos o comando append()."
   ]
  },
  {
   "cell_type": "code",
   "execution_count": 130,
   "metadata": {
    "ExecuteTime": {
     "end_time": "2020-08-04T18:33:15.048302Z",
     "start_time": "2020-08-04T18:33:15.044280Z"
    }
   },
   "outputs": [],
   "source": [
    "list_alf.append(0)"
   ]
  },
  {
   "cell_type": "code",
   "execution_count": 131,
   "metadata": {
    "ExecuteTime": {
     "end_time": "2020-08-04T18:33:19.065052Z",
     "start_time": "2020-08-04T18:33:19.062085Z"
    }
   },
   "outputs": [
    {
     "name": "stdout",
     "output_type": "stream",
     "text": [
      "['a', 'b', 'c', 'd', 'e', 'f', 'g', 'h', 'i', 'j', 'k', 'l', 'm', 'n', 'o', 'p', 'q', 'r', 's', 't', 'u', 'v', 'w', 'x', 'y', 'z', 0]\n"
     ]
    }
   ],
   "source": [
    "print(list_alf)"
   ]
  },
  {
   "cell_type": "markdown",
   "metadata": {},
   "source": [
    "Vamos retirar esse zero a mais da lista, por ora. Não se preocupe com o comando para fazer isso. Em tempo falaremos das diversas ações que podemos realizar com os tipos básicos."
   ]
  },
  {
   "cell_type": "code",
   "execution_count": null,
   "metadata": {
    "ExecuteTime": {
     "end_time": "2020-08-04T18:33:20.641666Z",
     "start_time": "2020-08-04T18:33:20.637644Z"
    }
   },
   "outputs": [],
   "source": [
    "list_alf.pop(-1)"
   ]
  },
  {
   "cell_type": "code",
   "execution_count": 133,
   "metadata": {
    "ExecuteTime": {
     "end_time": "2020-08-04T18:33:28.803758Z",
     "start_time": "2020-08-04T18:33:28.798771Z"
    }
   },
   "outputs": [
    {
     "name": "stdout",
     "output_type": "stream",
     "text": [
      "['a', 'b', 'c', 'd', 'e', 'f', 'g', 'h', 'i', 'j', 'k', 'l', 'm', 'n', 'o', 'p', 'q', 'r', 's', 't', 'u', 'v', 'w', 'x', 'y', 'z']\n"
     ]
    }
   ],
   "source": [
    "print(list_alf)"
   ]
  },
  {
   "cell_type": "markdown",
   "metadata": {},
   "source": [
    "### Tuplas"
   ]
  },
  {
   "cell_type": "markdown",
   "metadata": {},
   "source": [
    "Declarar uma tupla pode ser feito ao se lançar sequências de objetos imutáveis em um construtor de classe tuple(), ou, simplesmente, ao inseri-los entre parênteses.\n",
    "\n",
    "Ao rodar as células adiante, podemos observar isso em ação."
   ]
  },
  {
   "cell_type": "code",
   "execution_count": 113,
   "metadata": {
    "ExecuteTime": {
     "end_time": "2020-08-04T18:21:41.444668Z",
     "start_time": "2020-08-04T18:21:41.441689Z"
    }
   },
   "outputs": [],
   "source": [
    "tup_letr_nom = tuple(nome)"
   ]
  },
  {
   "cell_type": "code",
   "execution_count": 114,
   "metadata": {
    "ExecuteTime": {
     "end_time": "2020-08-04T18:21:46.657817Z",
     "start_time": "2020-08-04T18:21:46.653836Z"
    }
   },
   "outputs": [
    {
     "name": "stdout",
     "output_type": "stream",
     "text": [
      "('A', 'u', 'g', 'u', 's', 't', 'o', ' ', 'd', 'o', 's', ' ', 'S', 'a', 'n', 't', 'o', 's', ' ', 'P', 'e', 'r', 'e', 'i', 'r', 'a')\n"
     ]
    }
   ],
   "source": [
    "print(tup_letr_nom)"
   ]
  },
  {
   "cell_type": "code",
   "execution_count": 24,
   "metadata": {
    "ExecuteTime": {
     "end_time": "2020-08-31T22:04:26.572559Z",
     "start_time": "2020-08-31T22:04:26.565967Z"
    }
   },
   "outputs": [
    {
     "data": {
      "text/plain": [
       "tuple"
      ]
     },
     "execution_count": 24,
     "metadata": {},
     "output_type": "execute_result"
    }
   ],
   "source": [
    "type(tup_letr_nom)"
   ]
  },
  {
   "cell_type": "code",
   "execution_count": 22,
   "metadata": {
    "ExecuteTime": {
     "end_time": "2020-08-31T22:04:18.983886Z",
     "start_time": "2020-08-31T22:04:18.978866Z"
    }
   },
   "outputs": [],
   "source": [
    "tuplinha = (1,2,3,4,5)"
   ]
  },
  {
   "cell_type": "code",
   "execution_count": 23,
   "metadata": {
    "ExecuteTime": {
     "end_time": "2020-08-31T22:04:19.628128Z",
     "start_time": "2020-08-31T22:04:19.623142Z"
    }
   },
   "outputs": [
    {
     "data": {
      "text/plain": [
       "(1, 2, 3, 4, 5)"
      ]
     },
     "execution_count": 23,
     "metadata": {},
     "output_type": "execute_result"
    }
   ],
   "source": [
    "tuplinha"
   ]
  },
  {
   "cell_type": "code",
   "execution_count": 143,
   "metadata": {
    "ExecuteTime": {
     "end_time": "2020-08-04T18:36:21.112155Z",
     "start_time": "2020-08-04T18:36:21.107136Z"
    },
    "scrolled": false
   },
   "outputs": [
    {
     "data": {
      "text/plain": [
       "tuple"
      ]
     },
     "execution_count": 143,
     "metadata": {},
     "output_type": "execute_result"
    }
   ],
   "source": [
    "type(tuplinha)"
   ]
  },
  {
   "cell_type": "markdown",
   "metadata": {},
   "source": [
    "Muitos dos conhecimentos que obtivemos sobre listas e _strings_ aplicam-se às tuplas. No entanto, é preciso se lembrar que, uma vez declarada, a tupla é imutável. Por essa razão, não consigmos fazer atribuição de novos valores, ou mudar aqueles nela presentes.\n",
    "\n",
    "Um método muito importante ligado às tuplas é chamado de _tuple unpacking_. Trata-se de atribuir os valores constantes em uma tupla a variáveis, em um único processo. Vejamos um exemplo adiante, com uma tupla que guarda as coordenadas geográficas do Centro de Curitiba:"
   ]
  },
  {
   "cell_type": "code",
   "execution_count": 157,
   "metadata": {
    "ExecuteTime": {
     "end_time": "2020-08-04T19:30:23.385185Z",
     "start_time": "2020-08-04T19:30:23.378169Z"
    }
   },
   "outputs": [],
   "source": [
    "coordenadas_curitiba = (-25.4284, -49.2733)"
   ]
  },
  {
   "cell_type": "code",
   "execution_count": 158,
   "metadata": {
    "ExecuteTime": {
     "end_time": "2020-08-04T19:30:31.365032Z",
     "start_time": "2020-08-04T19:30:31.358930Z"
    }
   },
   "outputs": [],
   "source": [
    "lat, long = coordenadas_curitiba"
   ]
  },
  {
   "cell_type": "code",
   "execution_count": 159,
   "metadata": {
    "ExecuteTime": {
     "end_time": "2020-08-04T19:30:40.122300Z",
     "start_time": "2020-08-04T19:30:40.118303Z"
    }
   },
   "outputs": [
    {
     "name": "stdout",
     "output_type": "stream",
     "text": [
      "-25.4284\n"
     ]
    }
   ],
   "source": [
    "print(lat)"
   ]
  },
  {
   "cell_type": "code",
   "execution_count": 160,
   "metadata": {
    "ExecuteTime": {
     "end_time": "2020-08-04T19:30:43.492421Z",
     "start_time": "2020-08-04T19:30:43.474482Z"
    }
   },
   "outputs": [
    {
     "name": "stdout",
     "output_type": "stream",
     "text": [
      "-49.2733\n"
     ]
    }
   ],
   "source": [
    "print(long)"
   ]
  },
  {
   "cell_type": "markdown",
   "metadata": {},
   "source": [
    "Note que os valores constantes dentro da tupla passaram a integrar valores das variáveis lat e long com apenas uma operação de atribuição.\n",
    "\n",
    "Suponha que, precisando apenas da latitude e da longitude, a tupla de origem dos dados ainda desse outros dois valores, altitude e população. Como poderíamos fazer a atribuição das variáveis lat e long, deixando de lado a altitude?\n",
    "\n",
    "Isso pode ser feito, utilizando _underscore_ \"_\" como uma variável descartável, que recebe os valores de altitude e de população."
   ]
  },
  {
   "cell_type": "code",
   "execution_count": 179,
   "metadata": {
    "ExecuteTime": {
     "end_time": "2020-08-04T19:38:17.573004Z",
     "start_time": "2020-08-04T19:38:17.570018Z"
    }
   },
   "outputs": [],
   "source": [
    "coordenadas_curitiba = (-25.4284, -49.2733, 935, 1933105)"
   ]
  },
  {
   "cell_type": "code",
   "execution_count": 180,
   "metadata": {
    "ExecuteTime": {
     "end_time": "2020-08-04T19:38:17.945289Z",
     "start_time": "2020-08-04T19:38:17.942298Z"
    }
   },
   "outputs": [],
   "source": [
    "lat, long, _, _ = coordenadas_curitiba"
   ]
  },
  {
   "cell_type": "code",
   "execution_count": 181,
   "metadata": {
    "ExecuteTime": {
     "end_time": "2020-08-04T19:38:18.393714Z",
     "start_time": "2020-08-04T19:38:18.389756Z"
    }
   },
   "outputs": [
    {
     "name": "stdout",
     "output_type": "stream",
     "text": [
      "-25.4284\n"
     ]
    }
   ],
   "source": [
    "print(lat)"
   ]
  },
  {
   "cell_type": "code",
   "execution_count": 182,
   "metadata": {
    "ExecuteTime": {
     "end_time": "2020-08-04T19:38:19.205229Z",
     "start_time": "2020-08-04T19:38:19.202216Z"
    }
   },
   "outputs": [
    {
     "name": "stdout",
     "output_type": "stream",
     "text": [
      "-49.2733\n"
     ]
    }
   ],
   "source": [
    "print(long)"
   ]
  },
  {
   "cell_type": "markdown",
   "metadata": {
    "ExecuteTime": {
     "end_time": "2020-08-04T19:38:19.889325Z",
     "start_time": "2020-08-04T19:38:19.883343Z"
    }
   },
   "source": [
    "Precisamos utilizar o artifício acima, pois o número de variáveis à esquerda do operador de atribuição deve ser igual o número itens contidos na tupla."
   ]
  },
  {
   "cell_type": "code",
   "execution_count": 189,
   "metadata": {
    "ExecuteTime": {
     "end_time": "2020-08-04T19:43:02.533361Z",
     "start_time": "2020-08-04T19:43:02.530370Z"
    }
   },
   "outputs": [],
   "source": [
    "tup = tuple([[1,2,3], []])"
   ]
  },
  {
   "cell_type": "code",
   "execution_count": 192,
   "metadata": {
    "ExecuteTime": {
     "end_time": "2020-08-04T19:43:17.155782Z",
     "start_time": "2020-08-04T19:43:17.151793Z"
    }
   },
   "outputs": [
    {
     "data": {
      "text/plain": [
       "list"
      ]
     },
     "execution_count": 192,
     "metadata": {},
     "output_type": "execute_result"
    }
   ],
   "source": [
    "type(tup[0])"
   ]
  },
  {
   "cell_type": "markdown",
   "metadata": {},
   "source": [
    "### Dicionários"
   ]
  },
  {
   "cell_type": "markdown",
   "metadata": {},
   "source": [
    "Podemos declarar dicionários ao criar a estrutura de pares chave-valor entre colchetes, ou com o uso do construtor de classes dict(), conforme mostrado adiante."
   ]
  },
  {
   "cell_type": "code",
   "execution_count": 9,
   "metadata": {
    "ExecuteTime": {
     "end_time": "2020-09-01T00:24:34.335683Z",
     "start_time": "2020-09-01T00:24:34.331693Z"
    }
   },
   "outputs": [],
   "source": [
    "curriculo = {'universidade':'ufpr', 'graduacao':'geografia', 'ingles': 'avançado'}\n",
    "traducoes = {'one': 'uno', 'two': 'dos', 'three': 'tres'}\n",
    "coordcuritiba = dict()"
   ]
  },
  {
   "cell_type": "markdown",
   "metadata": {},
   "source": [
    "Os valoes do dicionário são consultadoos por suas chaves, conforme adiante:"
   ]
  },
  {
   "cell_type": "code",
   "execution_count": 34,
   "metadata": {
    "ExecuteTime": {
     "end_time": "2020-08-04T23:38:57.527812Z",
     "start_time": "2020-08-04T23:38:57.523343Z"
    }
   },
   "outputs": [
    {
     "data": {
      "text/plain": [
       "'ufpr'"
      ]
     },
     "execution_count": 34,
     "metadata": {},
     "output_type": "execute_result"
    }
   ],
   "source": [
    "curriculo['universidade']"
   ]
  },
  {
   "cell_type": "code",
   "execution_count": 209,
   "metadata": {
    "ExecuteTime": {
     "end_time": "2020-08-04T20:00:26.640697Z",
     "start_time": "2020-08-04T20:00:26.636718Z"
    }
   },
   "outputs": [
    {
     "data": {
      "text/plain": [
       "'uno'"
      ]
     },
     "execution_count": 209,
     "metadata": {},
     "output_type": "execute_result"
    }
   ],
   "source": [
    "traducoes['one']"
   ]
  },
  {
   "cell_type": "markdown",
   "metadata": {},
   "source": [
    "Acesse o valor \"geografia\", no dicionário curriculo."
   ]
  },
  {
   "cell_type": "markdown",
   "metadata": {
    "ExecuteTime": {
     "end_time": "2020-08-04T20:01:06.115071Z",
     "start_time": "2020-08-04T20:01:06.111060Z"
    }
   },
   "source": [
    "Verifique qual o nível de Inglês no dicionário curriculo."
   ]
  },
  {
   "cell_type": "code",
   "execution_count": 202,
   "metadata": {
    "ExecuteTime": {
     "end_time": "2020-08-04T19:58:24.680327Z",
     "start_time": "2020-08-04T19:58:24.677336Z"
    }
   },
   "outputs": [
    {
     "data": {
      "text/plain": [
       "'avançado'"
      ]
     },
     "execution_count": 202,
     "metadata": {},
     "output_type": "execute_result"
    }
   ],
   "source": []
  },
  {
   "cell_type": "markdown",
   "metadata": {},
   "source": [
    "Observe qual a tradução de two para o espanhol, segundo o dicionário traducoes."
   ]
  },
  {
   "cell_type": "code",
   "execution_count": 204,
   "metadata": {
    "ExecuteTime": {
     "end_time": "2020-08-04T19:58:52.576310Z",
     "start_time": "2020-08-04T19:58:52.571292Z"
    }
   },
   "outputs": [
    {
     "data": {
      "text/plain": [
       "'dos'"
      ]
     },
     "execution_count": 204,
     "metadata": {},
     "output_type": "execute_result"
    }
   ],
   "source": []
  },
  {
   "cell_type": "markdown",
   "metadata": {
    "ExecuteTime": {
     "end_time": "2020-08-04T20:03:39.431260Z",
     "start_time": "2020-08-04T20:03:39.426242Z"
    }
   },
   "source": [
    "Faça o mesmo para \"three\"."
   ]
  },
  {
   "cell_type": "code",
   "execution_count": 214,
   "metadata": {
    "ExecuteTime": {
     "end_time": "2020-08-04T20:05:35.720003Z",
     "start_time": "2020-08-04T20:05:35.715013Z"
    }
   },
   "outputs": [
    {
     "data": {
      "text/plain": [
       "'tres'"
      ]
     },
     "execution_count": 214,
     "metadata": {},
     "output_type": "execute_result"
    }
   ],
   "source": []
  },
  {
   "cell_type": "markdown",
   "metadata": {
    "ExecuteTime": {
     "end_time": "2020-08-04T20:04:05.048116Z",
     "start_time": "2020-08-04T20:04:05.043154Z"
    }
   },
   "source": [
    "Vimos que o valores ligados a uma chave podem ser consultados a partir da chamada do dicionário, seguido da chave entre colchetes. Podemos utilizar essa mesma técnica para fazer inserção de novos pares chave-valor, bem como para atualização daqueles já presentes no dicionário."
   ]
  },
  {
   "cell_type": "code",
   "execution_count": 10,
   "metadata": {
    "ExecuteTime": {
     "end_time": "2020-09-01T00:24:38.516091Z",
     "start_time": "2020-09-01T00:24:38.512130Z"
    }
   },
   "outputs": [],
   "source": [
    "coordcuritiba['lat'] = -25.4284"
   ]
  },
  {
   "cell_type": "code",
   "execution_count": 11,
   "metadata": {
    "ExecuteTime": {
     "end_time": "2020-09-01T00:24:39.296469Z",
     "start_time": "2020-09-01T00:24:39.291484Z"
    }
   },
   "outputs": [
    {
     "data": {
      "text/plain": [
       "{'lat': -25.4284}"
      ]
     },
     "execution_count": 11,
     "metadata": {},
     "output_type": "execute_result"
    }
   ],
   "source": [
    "coordcuritiba"
   ]
  },
  {
   "cell_type": "code",
   "execution_count": 12,
   "metadata": {
    "ExecuteTime": {
     "end_time": "2020-09-01T00:24:40.101546Z",
     "start_time": "2020-09-01T00:24:40.099531Z"
    }
   },
   "outputs": [],
   "source": [
    "coordcuritiba['long'] = 49.2733"
   ]
  },
  {
   "cell_type": "code",
   "execution_count": 13,
   "metadata": {
    "ExecuteTime": {
     "end_time": "2020-09-01T00:24:40.931886Z",
     "start_time": "2020-09-01T00:24:40.927865Z"
    }
   },
   "outputs": [
    {
     "data": {
      "text/plain": [
       "{'lat': -25.4284, 'long': 49.2733}"
      ]
     },
     "execution_count": 13,
     "metadata": {},
     "output_type": "execute_result"
    }
   ],
   "source": [
    "coordcuritiba"
   ]
  },
  {
   "cell_type": "markdown",
   "metadata": {},
   "source": [
    "O comportamento do dicionário acima nos mostra que, ao declararmos uma chave anteriormente inexistente, atribuindo a ela um valor, por meio do operador de atribuição \"=\", o par chave-valor passa a existir no dicionário. Se o par já existisse, essa ação atualizaria o seu valor. Uma oportunidade para testar isso está em corrigir a longitude de Curitiba, de 49.2733 para -49.2733."
   ]
  },
  {
   "cell_type": "code",
   "execution_count": 14,
   "metadata": {
    "ExecuteTime": {
     "end_time": "2020-09-01T00:24:42.893859Z",
     "start_time": "2020-09-01T00:24:42.890843Z"
    }
   },
   "outputs": [],
   "source": [
    "coordcuritiba['long'] = -49.2733"
   ]
  },
  {
   "cell_type": "code",
   "execution_count": 15,
   "metadata": {
    "ExecuteTime": {
     "end_time": "2020-09-01T00:24:44.554908Z",
     "start_time": "2020-09-01T00:24:44.550914Z"
    }
   },
   "outputs": [
    {
     "data": {
      "text/plain": [
       "{'lat': -25.4284, 'long': -49.2733}"
      ]
     },
     "execution_count": 15,
     "metadata": {},
     "output_type": "execute_result"
    }
   ],
   "source": [
    "coordcuritiba"
   ]
  },
  {
   "cell_type": "markdown",
   "metadata": {},
   "source": [
    "Nas duas células adiante, insira no dicionário coordcuritiba a chave 'alt', com o valor 935, e a chave 'pop', com valor 1933105. Em seguida, rode a terceira célula da sequência para verificar se a operação funcionou corretamente"
   ]
  },
  {
   "cell_type": "code",
   "execution_count": 16,
   "metadata": {
    "ExecuteTime": {
     "end_time": "2020-09-01T00:24:46.743850Z",
     "start_time": "2020-09-01T00:24:46.740857Z"
    }
   },
   "outputs": [],
   "source": [
    "coordcuritiba['alt'] = 935"
   ]
  },
  {
   "cell_type": "code",
   "execution_count": 17,
   "metadata": {
    "ExecuteTime": {
     "end_time": "2020-09-01T00:25:08.367421Z",
     "start_time": "2020-09-01T00:25:08.363467Z"
    }
   },
   "outputs": [],
   "source": [
    "coordcuritiba['pop'] = 1933195"
   ]
  },
  {
   "cell_type": "code",
   "execution_count": 19,
   "metadata": {
    "ExecuteTime": {
     "end_time": "2020-09-01T00:25:54.853713Z",
     "start_time": "2020-09-01T00:25:54.848726Z"
    }
   },
   "outputs": [
    {
     "data": {
      "text/plain": [
       "{'lat': -25.4284, 'long': -49.2733, 'alt': 935, 'pop': 1933195}"
      ]
     },
     "execution_count": 19,
     "metadata": {},
     "output_type": "execute_result"
    }
   ],
   "source": [
    "coordcuritiba # se estiver certo, o resultado deve ser {'lat': -25.4284, 'long': -49.2733, 'alt': 935, 'pop': 1933195}"
   ]
  },
  {
   "attachments": {
    "image.png": {
     "image/png": "[encoded data removed]"
    }
   },
   "cell_type": "markdown",
   "metadata": {},
   "source": [
    "### Sets\n",
    "\n",
    "Sets, ou conjuntos, são tipos de dados compostos por valores não ordenados que não podem ser repetidos. Essas coleções apresentam grande utilidade para operações como identificação de pertencimento, interseção, união etc. De maneira geral, sets não permitem indexação e fatiamento.\n",
    "\n",
    "![image.png](attachment:image.png)"
   ]
  },
  {
   "cell_type": "code",
   "execution_count": 21,
   "metadata": {
    "ExecuteTime": {
     "end_time": "2020-09-01T00:30:39.121509Z",
     "start_time": "2020-09-01T00:30:39.118485Z"
    }
   },
   "outputs": [],
   "source": [
    "set_quadrados = set((1, 2, 2, 4, 4, 9, 9, 9, 25, 25, 25, 25, 25, 25, 25, 25)) #declaração de set via construtor de objeto"
   ]
  },
  {
   "cell_type": "code",
   "execution_count": 22,
   "metadata": {
    "ExecuteTime": {
     "end_time": "2020-09-01T00:30:44.306929Z",
     "start_time": "2020-09-01T00:30:44.301966Z"
    }
   },
   "outputs": [
    {
     "data": {
      "text/plain": [
       "{1, 2, 4, 9, 25}"
      ]
     },
     "execution_count": 22,
     "metadata": {},
     "output_type": "execute_result"
    }
   ],
   "source": [
    "set_quadrados"
   ]
  },
  {
   "cell_type": "code",
   "execution_count": 30,
   "metadata": {
    "ExecuteTime": {
     "end_time": "2020-09-01T00:33:23.704021Z",
     "start_time": "2020-09-01T00:33:23.700030Z"
    }
   },
   "outputs": [],
   "source": [
    "set_cubos = {1, 8, 8, 8, 8, 27, 27, 27, 27, 64, 64, 64, 64, 125, 125} # declaração de set apenas com valores entre chaves"
   ]
  },
  {
   "cell_type": "code",
   "execution_count": 31,
   "metadata": {
    "ExecuteTime": {
     "end_time": "2020-09-01T00:33:24.909262Z",
     "start_time": "2020-09-01T00:33:24.905273Z"
    }
   },
   "outputs": [
    {
     "data": {
      "text/plain": [
       "{1, 8, 27, 64, 125}"
      ]
     },
     "execution_count": 31,
     "metadata": {},
     "output_type": "execute_result"
    }
   ],
   "source": [
    "set_cubos"
   ]
  },
  {
   "cell_type": "code",
   "execution_count": 34,
   "metadata": {
    "ExecuteTime": {
     "end_time": "2020-09-01T01:45:30.954824Z",
     "start_time": "2020-09-01T01:45:30.947955Z"
    }
   },
   "outputs": [],
   "source": [
    "engineers = set(['John', 'Jane', 'Jack', 'Janice'])\n",
    "programmers = set(['Jack', 'Sam', 'Susan', 'Janice'])\n",
    "managers = set(['Jane', 'Jack', 'Susan', 'Zack'])"
   ]
  },
  {
   "cell_type": "code",
   "execution_count": 36,
   "metadata": {
    "ExecuteTime": {
     "end_time": "2020-09-01T01:46:12.802887Z",
     "start_time": "2020-09-01T01:46:12.795908Z"
    }
   },
   "outputs": [
    {
     "data": {
      "text/plain": [
       "{'Jack', 'Jane', 'Janice', 'John', 'Sam', 'Susan', 'Zack'}"
      ]
     },
     "execution_count": 36,
     "metadata": {},
     "output_type": "execute_result"
    }
   ],
   "source": [
    "employees = engineers | programmers | managers           # união\n",
    "employees"
   ]
  },
  {
   "cell_type": "code",
   "execution_count": 38,
   "metadata": {
    "ExecuteTime": {
     "end_time": "2020-09-01T01:46:54.453471Z",
     "start_time": "2020-09-01T01:46:54.447453Z"
    }
   },
   "outputs": [
    {
     "data": {
      "text/plain": [
       "{'Jack', 'Jane'}"
      ]
     },
     "execution_count": 38,
     "metadata": {},
     "output_type": "execute_result"
    }
   ],
   "source": [
    "engineering_management = engineers & managers            # interseção\n",
    "engineering_management"
   ]
  },
  {
   "cell_type": "code",
   "execution_count": 39,
   "metadata": {
    "ExecuteTime": {
     "end_time": "2020-09-01T01:48:16.183007Z",
     "start_time": "2020-09-01T01:48:16.177988Z"
    }
   },
   "outputs": [
    {
     "data": {
      "text/plain": [
       "{'Zack'}"
      ]
     },
     "execution_count": 39,
     "metadata": {},
     "output_type": "execute_result"
    }
   ],
   "source": [
    "fulltime_management = managers - engineers - programmers # difference\n",
    "fulltime_management"
   ]
  },
  {
   "cell_type": "code",
   "execution_count": 41,
   "metadata": {
    "ExecuteTime": {
     "end_time": "2020-09-01T01:49:13.244775Z",
     "start_time": "2020-09-01T01:49:13.238791Z"
    }
   },
   "outputs": [
    {
     "name": "stdout",
     "output_type": "stream",
     "text": [
      "{'Jack', 'Marvin', 'Jane', 'Janice', 'John'}\n"
     ]
    }
   ],
   "source": [
    "engineers.add('Marvin')                                  # add element\n",
    "print(engineers)"
   ]
  },
  {
   "cell_type": "markdown",
   "metadata": {},
   "source": [
    "### Recapitulando tipos compostos \n",
    "\n",
    "Agora que vimos os tipos compostos, podemos observar, no quadro adiante, um resumo do que foi discutido acima:\n",
    "\n",
    "\n",
    "<b><p style=\"text-align:center;\">Resumo dos tipos compostos</p></b>\n",
    "\n",
    "Tipo | Característica básica | Mutabilidade | Consulta de valores | Construção* | Delimitação\n",
    ":-----:| :----------------------:|:--------------: | :-------------------: | :---------: | :-----------:\n",
    "String | conjunto imutável de caracteres |\tImutável |\tIndexação\t| str()\t| \" \" ou ' '\n",
    "Lista\t| sequência que pode conter qualquer objeto, inclusive compostos |\tMutável |\tIndexação |\tlist() |\t[ ]\n",
    "Dicionário | par chave-valor |\tChave imutável, valor mutável |\tChaveamento |\tdict() |\t{ }\n",
    "tupla |\té uma lista imutável |\timutável |\tIndexação |\ttuple() | ( )\n",
    "Set | conjunto não ordenado e sem duplicidade de elementos |\tmutável\t| iteração | set() | { }\n",
    "\n",
    "\n",
    "\\* Além desses construtores existem outras técnicas, como simplesmente declarar os objetos entre seus delimitadores.\n"
   ]
  },
  {
   "cell_type": "code",
   "execution_count": null,
   "metadata": {},
   "outputs": [],
   "source": []
  }
 ],
 "metadata": {
  "kernelspec": {
   "display_name": "aulas",
   "language": "python",
   "name": "aulas"
  },
  "language_info": {
   "codemirror_mode": {
    "name": "ipython",
    "version": 3
   },
   "file_extension": ".py",
   "mimetype": "text/x-python",
   "name": "python",
   "nbconvert_exporter": "python",
   "pygments_lexer": "ipython3",
   "version": "3.6.10"
  },
  "toc": {
   "base_numbering": 1,
   "nav_menu": {},
   "number_sections": true,
   "sideBar": true,
   "skip_h1_title": false,
   "title_cell": "Table of Contents",
   "title_sidebar": "Contents",
   "toc_cell": false,
   "toc_position": {
    "height": "calc(100% - 180px)",
    "left": "10px",
    "top": "150px",
    "width": "165px"
   },
   "toc_section_display": true,
   "toc_window_display": false
  }
 },
 "nbformat": 4,
 "nbformat_minor": 4
}
